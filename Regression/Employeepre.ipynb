{
 "cells": [
  {
   "cell_type": "code",
   "execution_count": 2,
   "id": "1495b830-110d-49b4-a48c-f64c82f9b9a2",
   "metadata": {},
   "outputs": [],
   "source": [
    "#EDA : try to analyze the data and visualize\n",
    "#preprocessing\n",
    "# 1. missing value treatment {numerical col = if outlier== median , no outlier == mean}\n",
    "# 2. outlier removal treatment {IQR , Zscore methods}\n",
    "# 3. to see correlation , skewness , kurtosis\n",
    "# 4. numerical=>> sclaing > type > (minmax scaler , standardization)\n",
    "# 5. categorical=>> Encoding > type (Label encoder, One hot encoder)\n"
   ]
  },
  {
   "cell_type": "code",
   "execution_count": 3,
   "id": "40be0dce-3099-447b-8061-1b66bfce7a60",
   "metadata": {},
   "outputs": [],
   "source": [
    "#import lib\n",
    "import os\n",
    "import numpy as np\n",
    "import pandas as pd\n",
    "import matplotlib.pyplot as plt\n",
    "import seaborn as sns\n",
    "from scipy import stats\n",
    "import warnings\n",
    "warnings.filterwarnings('ignore')\n",
    "%matplotlib inline"
   ]
  },
  {
   "cell_type": "code",
   "execution_count": 4,
   "id": "fc1b00fc-5418-4a14-a045-214094ec3553",
   "metadata": {},
   "outputs": [
    {
     "data": {
      "text/plain": [
       "'C:\\\\Users\\\\gauri\\\\ML python P308'"
      ]
     },
     "execution_count": 4,
     "metadata": {},
     "output_type": "execute_result"
    }
   ],
   "source": [
    "pwd  # use to check current working directory"
   ]
  },
  {
   "cell_type": "code",
   "execution_count": 5,
   "id": "e2cfa518-e5ef-4aa4-a450-13a68994f318",
   "metadata": {},
   "outputs": [
    {
     "name": "stdout",
     "output_type": "stream",
     "text": [
      "True\n"
     ]
    }
   ],
   "source": [
    "# check data file is available\n",
    "print(os.path.isfile(\"Employee_Data.xls\"))"
   ]
  },
  {
   "cell_type": "code",
   "execution_count": 6,
   "id": "9ae28b88-c3ff-426c-a922-3f73f758d7ab",
   "metadata": {},
   "outputs": [
    {
     "name": "stdout",
     "output_type": "stream",
     "text": [
      "Defaulting to user installation because normal site-packages is not writeableNote: you may need to restart the kernel to use updated packages.\n",
      "\n",
      "Requirement already satisfied: xlrd in c:\\users\\gauri\\appdata\\roaming\\python\\python311\\site-packages (2.0.1)\n"
     ]
    }
   ],
   "source": [
    "pip install xlrd"
   ]
  },
  {
   "cell_type": "code",
   "execution_count": 7,
   "id": "b26cdf0b-8033-4bce-8f15-f24f9b4bdab0",
   "metadata": {},
   "outputs": [],
   "source": [
    "\n",
    "df=pd.read_excel(\"Employee_Data.xls\")"
   ]
  },
  {
   "cell_type": "code",
   "execution_count": 8,
   "id": "b3510555-afa0-46eb-900c-98f5bc0015b1",
   "metadata": {},
   "outputs": [
    {
     "data": {
      "text/html": [
       "<div>\n",
       "<style scoped>\n",
       "    .dataframe tbody tr th:only-of-type {\n",
       "        vertical-align: middle;\n",
       "    }\n",
       "\n",
       "    .dataframe tbody tr th {\n",
       "        vertical-align: top;\n",
       "    }\n",
       "\n",
       "    .dataframe thead th {\n",
       "        text-align: right;\n",
       "    }\n",
       "</style>\n",
       "<table border=\"1\" class=\"dataframe\">\n",
       "  <thead>\n",
       "    <tr style=\"text-align: right;\">\n",
       "      <th></th>\n",
       "      <th>Employee Id</th>\n",
       "      <th>First Name</th>\n",
       "      <th>Last Name</th>\n",
       "      <th>Department</th>\n",
       "      <th>Age</th>\n",
       "      <th>Experience</th>\n",
       "      <th>Salary</th>\n",
       "    </tr>\n",
       "  </thead>\n",
       "  <tbody>\n",
       "    <tr>\n",
       "      <th>0</th>\n",
       "      <td>1</td>\n",
       "      <td>Joy</td>\n",
       "      <td>Bass</td>\n",
       "      <td>Sales and Marketing</td>\n",
       "      <td>28.0</td>\n",
       "      <td>3.0</td>\n",
       "      <td>32889</td>\n",
       "    </tr>\n",
       "    <tr>\n",
       "      <th>1</th>\n",
       "      <td>2</td>\n",
       "      <td>Sheila</td>\n",
       "      <td>Garza</td>\n",
       "      <td>Sales and Marketing</td>\n",
       "      <td>22.0</td>\n",
       "      <td>1.0</td>\n",
       "      <td>15944</td>\n",
       "    </tr>\n",
       "    <tr>\n",
       "      <th>2</th>\n",
       "      <td>3</td>\n",
       "      <td>John</td>\n",
       "      <td>Bryant</td>\n",
       "      <td>Customer Relations</td>\n",
       "      <td>22.0</td>\n",
       "      <td>1.0</td>\n",
       "      <td>40343</td>\n",
       "    </tr>\n",
       "    <tr>\n",
       "      <th>3</th>\n",
       "      <td>4</td>\n",
       "      <td>Christian</td>\n",
       "      <td>Farley</td>\n",
       "      <td>Customer Relations</td>\n",
       "      <td>22.0</td>\n",
       "      <td>1.0</td>\n",
       "      <td>19018</td>\n",
       "    </tr>\n",
       "    <tr>\n",
       "      <th>4</th>\n",
       "      <td>5</td>\n",
       "      <td>Colorado</td>\n",
       "      <td>Bowen</td>\n",
       "      <td>Accounting</td>\n",
       "      <td>27.0</td>\n",
       "      <td>0.0</td>\n",
       "      <td>24795</td>\n",
       "    </tr>\n",
       "  </tbody>\n",
       "</table>\n",
       "</div>"
      ],
      "text/plain": [
       "   Employee Id First Name Last Name           Department   Age  Experience  \\\n",
       "0            1        Joy      Bass  Sales and Marketing  28.0         3.0   \n",
       "1            2     Sheila     Garza  Sales and Marketing  22.0         1.0   \n",
       "2            3       John    Bryant   Customer Relations  22.0         1.0   \n",
       "3            4  Christian    Farley   Customer Relations  22.0         1.0   \n",
       "4            5   Colorado     Bowen           Accounting  27.0         0.0   \n",
       "\n",
       "   Salary  \n",
       "0   32889  \n",
       "1   15944  \n",
       "2   40343  \n",
       "3   19018  \n",
       "4   24795  "
      ]
     },
     "execution_count": 8,
     "metadata": {},
     "output_type": "execute_result"
    }
   ],
   "source": [
    "df.head()"
   ]
  },
  {
   "cell_type": "code",
   "execution_count": 9,
   "id": "6642e5ee-e342-42f2-ba41-232c8a741943",
   "metadata": {},
   "outputs": [],
   "source": [
    "mydata=df.copy()"
   ]
  },
  {
   "cell_type": "code",
   "execution_count": null,
   "id": "df0dc249-ffcb-4480-8991-e71f6fff5c91",
   "metadata": {},
   "outputs": [],
   "source": []
  },
  {
   "cell_type": "code",
   "execution_count": 10,
   "id": "37c3c5ff-e177-4c73-aa87-19058cd44856",
   "metadata": {},
   "outputs": [
    {
     "name": "stdout",
     "output_type": "stream",
     "text": [
      "<class 'pandas.core.frame.DataFrame'>\n",
      "RangeIndex: 100 entries, 0 to 99\n",
      "Data columns (total 7 columns):\n",
      " #   Column       Non-Null Count  Dtype  \n",
      "---  ------       --------------  -----  \n",
      " 0   Employee Id  100 non-null    int64  \n",
      " 1   First Name   100 non-null    object \n",
      " 2   Last Name    100 non-null    object \n",
      " 3   Department   81 non-null     object \n",
      " 4   Age          82 non-null     float64\n",
      " 5   Experience   90 non-null     float64\n",
      " 6   Salary       100 non-null    int64  \n",
      "dtypes: float64(2), int64(2), object(3)\n",
      "memory usage: 5.6+ KB\n"
     ]
    }
   ],
   "source": [
    "df.info()"
   ]
  },
  {
   "cell_type": "code",
   "execution_count": 11,
   "id": "43ae4ab7-5ab9-4c69-b85d-3bcce2549a37",
   "metadata": {},
   "outputs": [
    {
     "data": {
      "text/plain": [
       "<bound method NDFrame.describe of     Employee Id First Name Last Name           Department   Age  Experience  \\\n",
       "0             1        Joy      Bass  Sales and Marketing  28.0         3.0   \n",
       "1             2     Sheila     Garza  Sales and Marketing  22.0         1.0   \n",
       "2             3       John    Bryant   Customer Relations  22.0         1.0   \n",
       "3             4  Christian    Farley   Customer Relations  22.0         1.0   \n",
       "4             5   Colorado     Bowen           Accounting  27.0         0.0   \n",
       "..          ...        ...       ...                  ...   ...         ...   \n",
       "95           96     Tyrone    Barber  Sales and Marketing  47.0        22.0   \n",
       "96           97    Urielle   Herrera  Sales and Marketing  46.0        20.0   \n",
       "97           98    Brendan     Solis   Customer Relations  44.0        18.0   \n",
       "98           99     Holmes    Nelson   Customer Relations  47.0        22.0   \n",
       "99          100       Avye  Davidson           Accounting  44.0        21.0   \n",
       "\n",
       "    Salary  \n",
       "0    32889  \n",
       "1    15944  \n",
       "2    40343  \n",
       "3    19018  \n",
       "4    24795  \n",
       "..     ...  \n",
       "95   79077  \n",
       "96   81187  \n",
       "97   83847  \n",
       "98   89158  \n",
       "99   91645  \n",
       "\n",
       "[100 rows x 7 columns]>"
      ]
     },
     "execution_count": 11,
     "metadata": {},
     "output_type": "execute_result"
    }
   ],
   "source": [
    "mydata.describe"
   ]
  },
  {
   "cell_type": "code",
   "execution_count": 12,
   "id": "1e558127-6642-459e-b4dd-c79dc4f71e63",
   "metadata": {},
   "outputs": [
    {
     "name": "stdout",
     "output_type": "stream",
     "text": [
      "Department ['Sales and Marketing' 'Customer Relations' 'Accounting' nan]\n",
      "********\n",
      "Age [28. 22. 27. 26. 24. 29. 30. 25. 33. 36. 35. 40. 39. nan 38. 41. 44. 50.\n",
      " 47. 43. 48. 46. 42. 49. 45.]\n",
      "********\n",
      "Experience [ 3.  1.  0.  5.  6.  2. nan 13.  7. 10. 12. 14. 15.  9. 11.  8. 25. 17.\n",
      " 21. 19. 22. 16. 18. 23. 24. 20.]\n",
      "********\n",
      "Salary [32889 15944 40343 19018 24795 15387 34117 16099 42105 11891 34687 23549\n",
      " 29110 33435 11830 44065 13266 16631 29886 30464 14943 18632 38183 43093\n",
      " 26573 51228 57902 54233 70010 74683 53867 60117 72055 50013 50118 72318\n",
      " 53828 58362 63391 62983 65939 51715 54250 50462 64418 60164 66528 57278\n",
      " 71607 61222 68388 94704 89493 94310 81615 84306 77452 76904 90798 86261\n",
      " 78332 84881 76528 83524 89258 75431 91870 76708 95222 90802 86277 77330\n",
      " 85286 90930 88833 95908 92365 93854 85336 79898 84708 88381 93206 91795\n",
      " 96432 83300 94778 82283 97056 87654 89875 98180 84185 79509 97990 79077\n",
      " 81187 83847 89158 91645]\n",
      "********\n"
     ]
    }
   ],
   "source": [
    "lst=['Department','Age','Experience','Salary']\n",
    "for i in lst:\n",
    "    print(i,mydata[i].unique())\n",
    "    print('********')"
   ]
  },
  {
   "cell_type": "code",
   "execution_count": 13,
   "id": "4dbcadf3-e161-4609-9fb3-9eed7ac88063",
   "metadata": {},
   "outputs": [
    {
     "data": {
      "text/plain": [
       "Employee Id     0\n",
       "First Name      0\n",
       "Last Name       0\n",
       "Department     19\n",
       "Age            18\n",
       "Experience     10\n",
       "Salary          0\n",
       "dtype: int64"
      ]
     },
     "execution_count": 13,
     "metadata": {},
     "output_type": "execute_result"
    }
   ],
   "source": [
    "# find null value\n",
    "mydata.isnull().sum()"
   ]
  },
  {
   "cell_type": "code",
   "execution_count": 14,
   "id": "4993170c-a462-47d0-bf60-3462335cd648",
   "metadata": {},
   "outputs": [
    {
     "data": {
      "text/plain": [
       "Department\n",
       "Sales and Marketing    30\n",
       "Accounting             27\n",
       "Customer Relations     24\n",
       "Name: count, dtype: int64"
      ]
     },
     "execution_count": 14,
     "metadata": {},
     "output_type": "execute_result"
    }
   ],
   "source": [
    "# treating missing value [tip: dont drop missing value u can do for null]\n",
    "# find mode to fill missing values\n",
    "mydata['Department'].value_counts()\n"
   ]
  },
  {
   "cell_type": "code",
   "execution_count": 15,
   "id": "7dd65bba-7db5-41a2-9014-9be22da3e55a",
   "metadata": {},
   "outputs": [],
   "source": [
    "# fill mode values in null and miss value\n",
    "mydata['Department']=mydata['Department'].fillna('Sales and Marketing')"
   ]
  },
  {
   "cell_type": "code",
   "execution_count": 16,
   "id": "d88bbba3-f478-46ce-90e2-fa827307a1ec",
   "metadata": {},
   "outputs": [
    {
     "data": {
      "text/plain": [
       "0"
      ]
     },
     "execution_count": 16,
     "metadata": {},
     "output_type": "execute_result"
    }
   ],
   "source": [
    "mydata['Department'].isnull().sum()"
   ]
  },
  {
   "cell_type": "code",
   "execution_count": 17,
   "id": "e73695aa-ce72-4da6-b020-7aea57b3bccf",
   "metadata": {},
   "outputs": [
    {
     "data": {
      "text/plain": [
       "<Axes: ylabel='Experience'>"
      ]
     },
     "execution_count": 17,
     "metadata": {},
     "output_type": "execute_result"
    },
    {
     "data": {
      "image/png": "[encoded data removed]",
      "text/plain": [
       "<Figure size 640x480 with 1 Axes>"
      ]
     },
     "metadata": {},
     "output_type": "display_data"
    }
   ],
   "source": [
    "# to find null values in age and exper\n",
    "sns.boxplot(mydata['Experience'])\n"
   ]
  },
  {
   "cell_type": "code",
   "execution_count": 18,
   "id": "fe4293cb-0bcc-49b8-8bf6-0ba7f3a8395c",
   "metadata": {},
   "outputs": [
    {
     "data": {
      "text/plain": [
       "<Axes: ylabel='Age'>"
      ]
     },
     "execution_count": 18,
     "metadata": {},
     "output_type": "execute_result"
    },
    {
     "data": {
      "image/png": "[encoded data removed]",
      "text/plain": [
       "<Figure size 640x480 with 1 Axes>"
      ]
     },
     "metadata": {},
     "output_type": "display_data"
    }
   ],
   "source": [
    "sns.boxplot(mydata['Age'])"
   ]
  },
  {
   "cell_type": "code",
   "execution_count": 19,
   "id": "3371db9f-8615-40fb-9121-a1ab80b608fc",
   "metadata": {},
   "outputs": [
    {
     "name": "stdout",
     "output_type": "stream",
     "text": [
      "37.97560975609756 14.766666666666667\n"
     ]
    }
   ],
   "source": [
    "# find mean of age and exp\n",
    "age_mean=np.mean(mydata['Age'])\n",
    "exp_mean=np.mean(mydata['Experience'])\n",
    "print(age_mean,exp_mean)"
   ]
  },
  {
   "cell_type": "code",
   "execution_count": 20,
   "id": "cb23855c-6937-4ded-b34f-034b5a6eb1ed",
   "metadata": {},
   "outputs": [],
   "source": [
    "mydata['Age']=mydata['Age'].fillna(age_mean)\n",
    "mydata['Experience']=mydata['Experience'].fillna(exp_mean)"
   ]
  },
  {
   "cell_type": "code",
   "execution_count": 21,
   "id": "7fb70484-0528-4e08-b0c9-55f4c1f21788",
   "metadata": {},
   "outputs": [
    {
     "data": {
      "text/plain": [
       "Employee Id    0\n",
       "First Name     0\n",
       "Last Name      0\n",
       "Department     0\n",
       "Age            0\n",
       "Experience     0\n",
       "Salary         0\n",
       "dtype: int64"
      ]
     },
     "execution_count": 21,
     "metadata": {},
     "output_type": "execute_result"
    }
   ],
   "source": [
    "mydata.isnull().sum()"
   ]
  },
  {
   "cell_type": "code",
   "execution_count": null,
   "id": "6e9bd08c-e800-4133-865d-cb5961f59dce",
   "metadata": {},
   "outputs": [],
   "source": []
  },
  {
   "cell_type": "code",
   "execution_count": 22,
   "id": "428e81eb-8296-46e0-98e4-1c7cf59e1d2e",
   "metadata": {},
   "outputs": [],
   "source": [
    "#sns.pieplot(data=mydata,kind='pie')"
   ]
  },
  {
   "cell_type": "code",
   "execution_count": 23,
   "id": "9f053c2e-35a0-4a4a-a98a-f64dd46bcd2e",
   "metadata": {},
   "outputs": [
    {
     "data": {
      "text/plain": [
       "<Axes: xlabel='Experience', ylabel='Salary'>"
      ]
     },
     "execution_count": 23,
     "metadata": {},
     "output_type": "execute_result"
    },
    {
     "data": {
      "image/png": "[encoded data removed]",
      "text/plain": [
       "<Figure size 640x480 with 1 Axes>"
      ]
     },
     "metadata": {},
     "output_type": "display_data"
    }
   ],
   "source": [
    "sns.lineplot(x = mydata[\"Experience\"] , y = mydata[\"Salary\"])"
   ]
  },
  {
   "cell_type": "code",
   "execution_count": 24,
   "id": "2afcbaac-e36d-4773-ad55-0279050f95fc",
   "metadata": {},
   "outputs": [
    {
     "data": {
      "text/plain": [
       "<Axes: xlabel='Age', ylabel='Salary'>"
      ]
     },
     "execution_count": 24,
     "metadata": {},
     "output_type": "execute_result"
    },
    {
     "data": {
      "image/png": "[encoded data removed]",
      "text/plain": [
       "<Figure size 640x480 with 1 Axes>"
      ]
     },
     "metadata": {},
     "output_type": "display_data"
    }
   ],
   "source": [
    "sns.scatterplot(x = mydata[\"Age\"] , y = mydata[\"Salary\"])"
   ]
  },
  {
   "cell_type": "code",
   "execution_count": 25,
   "id": "4ec752dc-4e99-486a-9314-acd013520a64",
   "metadata": {},
   "outputs": [
    {
     "data": {
      "text/plain": [
       "<Axes: xlabel='Department', ylabel='Salary'>"
      ]
     },
     "execution_count": 25,
     "metadata": {},
     "output_type": "execute_result"
    },
    {
     "data": {
      "image/png": "[encoded data removed]",
      "text/plain": [
       "<Figure size 640x480 with 1 Axes>"
      ]
     },
     "metadata": {},
     "output_type": "display_data"
    }
   ],
   "source": [
    "sns.barplot(x = mydata[\"Department\"] , y = mydata[\"Salary\"])"
   ]
  },
  {
   "cell_type": "code",
   "execution_count": 26,
   "id": "98893648-9b41-4fe9-b6ce-514e48657495",
   "metadata": {},
   "outputs": [],
   "source": [
    "#label encoing for categorical col:\n",
    "# department \n",
    "# 1) One hot encoder : used for only one categorical columns\n",
    "# 2) label encoder : used for many column categories \n"
   ]
  },
  {
   "cell_type": "code",
   "execution_count": 27,
   "id": "3e1c188c-bb19-4dbe-a0b3-947c2c18fd24",
   "metadata": {},
   "outputs": [
    {
     "data": {
      "text/html": [
       "<div>\n",
       "<style scoped>\n",
       "    .dataframe tbody tr th:only-of-type {\n",
       "        vertical-align: middle;\n",
       "    }\n",
       "\n",
       "    .dataframe tbody tr th {\n",
       "        vertical-align: top;\n",
       "    }\n",
       "\n",
       "    .dataframe thead th {\n",
       "        text-align: right;\n",
       "    }\n",
       "</style>\n",
       "<table border=\"1\" class=\"dataframe\">\n",
       "  <thead>\n",
       "    <tr style=\"text-align: right;\">\n",
       "      <th></th>\n",
       "      <th>Accounting</th>\n",
       "      <th>Customer Relations</th>\n",
       "      <th>Sales and Marketing</th>\n",
       "    </tr>\n",
       "  </thead>\n",
       "  <tbody>\n",
       "    <tr>\n",
       "      <th>0</th>\n",
       "      <td>0</td>\n",
       "      <td>0</td>\n",
       "      <td>1</td>\n",
       "    </tr>\n",
       "    <tr>\n",
       "      <th>1</th>\n",
       "      <td>0</td>\n",
       "      <td>0</td>\n",
       "      <td>1</td>\n",
       "    </tr>\n",
       "    <tr>\n",
       "      <th>2</th>\n",
       "      <td>0</td>\n",
       "      <td>1</td>\n",
       "      <td>0</td>\n",
       "    </tr>\n",
       "    <tr>\n",
       "      <th>3</th>\n",
       "      <td>0</td>\n",
       "      <td>1</td>\n",
       "      <td>0</td>\n",
       "    </tr>\n",
       "    <tr>\n",
       "      <th>4</th>\n",
       "      <td>1</td>\n",
       "      <td>0</td>\n",
       "      <td>0</td>\n",
       "    </tr>\n",
       "    <tr>\n",
       "      <th>...</th>\n",
       "      <td>...</td>\n",
       "      <td>...</td>\n",
       "      <td>...</td>\n",
       "    </tr>\n",
       "    <tr>\n",
       "      <th>95</th>\n",
       "      <td>0</td>\n",
       "      <td>0</td>\n",
       "      <td>1</td>\n",
       "    </tr>\n",
       "    <tr>\n",
       "      <th>96</th>\n",
       "      <td>0</td>\n",
       "      <td>0</td>\n",
       "      <td>1</td>\n",
       "    </tr>\n",
       "    <tr>\n",
       "      <th>97</th>\n",
       "      <td>0</td>\n",
       "      <td>1</td>\n",
       "      <td>0</td>\n",
       "    </tr>\n",
       "    <tr>\n",
       "      <th>98</th>\n",
       "      <td>0</td>\n",
       "      <td>1</td>\n",
       "      <td>0</td>\n",
       "    </tr>\n",
       "    <tr>\n",
       "      <th>99</th>\n",
       "      <td>1</td>\n",
       "      <td>0</td>\n",
       "      <td>0</td>\n",
       "    </tr>\n",
       "  </tbody>\n",
       "</table>\n",
       "<p>100 rows × 3 columns</p>\n",
       "</div>"
      ],
      "text/plain": [
       "    Accounting  Customer Relations  Sales and Marketing\n",
       "0            0                   0                    1\n",
       "1            0                   0                    1\n",
       "2            0                   1                    0\n",
       "3            0                   1                    0\n",
       "4            1                   0                    0\n",
       "..         ...                 ...                  ...\n",
       "95           0                   0                    1\n",
       "96           0                   0                    1\n",
       "97           0                   1                    0\n",
       "98           0                   1                    0\n",
       "99           1                   0                    0\n",
       "\n",
       "[100 rows x 3 columns]"
      ]
     },
     "execution_count": 27,
     "metadata": {},
     "output_type": "execute_result"
    }
   ],
   "source": [
    "# One hot encoder\n",
    "df_onehot=pd.get_dummies(mydata['Department'],dtype='int')\n",
    "df_onehot"
   ]
  },
  {
   "cell_type": "code",
   "execution_count": 28,
   "id": "276b7a22-b68a-41d8-bb9c-b2334a25a696",
   "metadata": {},
   "outputs": [],
   "source": [
    "#label encoder\n",
    "from sklearn.preprocessing import LabelEncoder\n",
    "le=LabelEncoder()\n",
    "mydata['Department']=le.fit_transform(mydata['Department'])"
   ]
  },
  {
   "cell_type": "code",
   "execution_count": 29,
   "id": "2f1e0fbd-fff7-48c9-ad0f-c17768da6387",
   "metadata": {},
   "outputs": [
    {
     "data": {
      "text/plain": [
       "0     2\n",
       "1     2\n",
       "2     1\n",
       "3     1\n",
       "4     0\n",
       "     ..\n",
       "95    2\n",
       "96    2\n",
       "97    1\n",
       "98    1\n",
       "99    0\n",
       "Name: Department, Length: 100, dtype: int32"
      ]
     },
     "execution_count": 29,
     "metadata": {},
     "output_type": "execute_result"
    }
   ],
   "source": [
    "mydata['Department']"
   ]
  },
  {
   "cell_type": "code",
   "execution_count": 30,
   "id": "60eb68ad-d712-495e-b889-9fde6f95a1e0",
   "metadata": {},
   "outputs": [
    {
     "data": {
      "text/html": [
       "<div>\n",
       "<style scoped>\n",
       "    .dataframe tbody tr th:only-of-type {\n",
       "        vertical-align: middle;\n",
       "    }\n",
       "\n",
       "    .dataframe tbody tr th {\n",
       "        vertical-align: top;\n",
       "    }\n",
       "\n",
       "    .dataframe thead th {\n",
       "        text-align: right;\n",
       "    }\n",
       "</style>\n",
       "<table border=\"1\" class=\"dataframe\">\n",
       "  <thead>\n",
       "    <tr style=\"text-align: right;\">\n",
       "      <th></th>\n",
       "      <th>Employee Id</th>\n",
       "      <th>First Name</th>\n",
       "      <th>Last Name</th>\n",
       "      <th>Age</th>\n",
       "      <th>Experience</th>\n",
       "      <th>Salary</th>\n",
       "      <th>Accounting</th>\n",
       "      <th>Customer Relations</th>\n",
       "      <th>Sales and Marketing</th>\n",
       "    </tr>\n",
       "  </thead>\n",
       "  <tbody>\n",
       "    <tr>\n",
       "      <th>0</th>\n",
       "      <td>1</td>\n",
       "      <td>Joy</td>\n",
       "      <td>Bass</td>\n",
       "      <td>28.0</td>\n",
       "      <td>3.0</td>\n",
       "      <td>32889</td>\n",
       "      <td>0</td>\n",
       "      <td>0</td>\n",
       "      <td>1</td>\n",
       "    </tr>\n",
       "    <tr>\n",
       "      <th>1</th>\n",
       "      <td>2</td>\n",
       "      <td>Sheila</td>\n",
       "      <td>Garza</td>\n",
       "      <td>22.0</td>\n",
       "      <td>1.0</td>\n",
       "      <td>15944</td>\n",
       "      <td>0</td>\n",
       "      <td>0</td>\n",
       "      <td>1</td>\n",
       "    </tr>\n",
       "    <tr>\n",
       "      <th>2</th>\n",
       "      <td>3</td>\n",
       "      <td>John</td>\n",
       "      <td>Bryant</td>\n",
       "      <td>22.0</td>\n",
       "      <td>1.0</td>\n",
       "      <td>40343</td>\n",
       "      <td>0</td>\n",
       "      <td>1</td>\n",
       "      <td>0</td>\n",
       "    </tr>\n",
       "    <tr>\n",
       "      <th>3</th>\n",
       "      <td>4</td>\n",
       "      <td>Christian</td>\n",
       "      <td>Farley</td>\n",
       "      <td>22.0</td>\n",
       "      <td>1.0</td>\n",
       "      <td>19018</td>\n",
       "      <td>0</td>\n",
       "      <td>1</td>\n",
       "      <td>0</td>\n",
       "    </tr>\n",
       "    <tr>\n",
       "      <th>4</th>\n",
       "      <td>5</td>\n",
       "      <td>Colorado</td>\n",
       "      <td>Bowen</td>\n",
       "      <td>27.0</td>\n",
       "      <td>0.0</td>\n",
       "      <td>24795</td>\n",
       "      <td>1</td>\n",
       "      <td>0</td>\n",
       "      <td>0</td>\n",
       "    </tr>\n",
       "    <tr>\n",
       "      <th>...</th>\n",
       "      <td>...</td>\n",
       "      <td>...</td>\n",
       "      <td>...</td>\n",
       "      <td>...</td>\n",
       "      <td>...</td>\n",
       "      <td>...</td>\n",
       "      <td>...</td>\n",
       "      <td>...</td>\n",
       "      <td>...</td>\n",
       "    </tr>\n",
       "    <tr>\n",
       "      <th>95</th>\n",
       "      <td>96</td>\n",
       "      <td>Tyrone</td>\n",
       "      <td>Barber</td>\n",
       "      <td>47.0</td>\n",
       "      <td>22.0</td>\n",
       "      <td>79077</td>\n",
       "      <td>0</td>\n",
       "      <td>0</td>\n",
       "      <td>1</td>\n",
       "    </tr>\n",
       "    <tr>\n",
       "      <th>96</th>\n",
       "      <td>97</td>\n",
       "      <td>Urielle</td>\n",
       "      <td>Herrera</td>\n",
       "      <td>46.0</td>\n",
       "      <td>20.0</td>\n",
       "      <td>81187</td>\n",
       "      <td>0</td>\n",
       "      <td>0</td>\n",
       "      <td>1</td>\n",
       "    </tr>\n",
       "    <tr>\n",
       "      <th>97</th>\n",
       "      <td>98</td>\n",
       "      <td>Brendan</td>\n",
       "      <td>Solis</td>\n",
       "      <td>44.0</td>\n",
       "      <td>18.0</td>\n",
       "      <td>83847</td>\n",
       "      <td>0</td>\n",
       "      <td>1</td>\n",
       "      <td>0</td>\n",
       "    </tr>\n",
       "    <tr>\n",
       "      <th>98</th>\n",
       "      <td>99</td>\n",
       "      <td>Holmes</td>\n",
       "      <td>Nelson</td>\n",
       "      <td>47.0</td>\n",
       "      <td>22.0</td>\n",
       "      <td>89158</td>\n",
       "      <td>0</td>\n",
       "      <td>1</td>\n",
       "      <td>0</td>\n",
       "    </tr>\n",
       "    <tr>\n",
       "      <th>99</th>\n",
       "      <td>100</td>\n",
       "      <td>Avye</td>\n",
       "      <td>Davidson</td>\n",
       "      <td>44.0</td>\n",
       "      <td>21.0</td>\n",
       "      <td>91645</td>\n",
       "      <td>1</td>\n",
       "      <td>0</td>\n",
       "      <td>0</td>\n",
       "    </tr>\n",
       "  </tbody>\n",
       "</table>\n",
       "<p>100 rows × 9 columns</p>\n",
       "</div>"
      ],
      "text/plain": [
       "    Employee Id First Name Last Name   Age  Experience  Salary  Accounting  \\\n",
       "0             1        Joy      Bass  28.0         3.0   32889           0   \n",
       "1             2     Sheila     Garza  22.0         1.0   15944           0   \n",
       "2             3       John    Bryant  22.0         1.0   40343           0   \n",
       "3             4  Christian    Farley  22.0         1.0   19018           0   \n",
       "4             5   Colorado     Bowen  27.0         0.0   24795           1   \n",
       "..          ...        ...       ...   ...         ...     ...         ...   \n",
       "95           96     Tyrone    Barber  47.0        22.0   79077           0   \n",
       "96           97    Urielle   Herrera  46.0        20.0   81187           0   \n",
       "97           98    Brendan     Solis  44.0        18.0   83847           0   \n",
       "98           99     Holmes    Nelson  47.0        22.0   89158           0   \n",
       "99          100       Avye  Davidson  44.0        21.0   91645           1   \n",
       "\n",
       "    Customer Relations  Sales and Marketing  \n",
       "0                    0                    1  \n",
       "1                    0                    1  \n",
       "2                    1                    0  \n",
       "3                    1                    0  \n",
       "4                    0                    0  \n",
       "..                 ...                  ...  \n",
       "95                   0                    1  \n",
       "96                   0                    1  \n",
       "97                   1                    0  \n",
       "98                   1                    0  \n",
       "99                   0                    0  \n",
       "\n",
       "[100 rows x 9 columns]"
      ]
     },
     "execution_count": 30,
     "metadata": {},
     "output_type": "execute_result"
    }
   ],
   "source": [
    "onehotdata=pd.concat([mydata,df_onehot],axis=1)\n",
    "onehotdata.drop('Department',axis=1,inplace=True)\n",
    "onehotdata"
   ]
  },
  {
   "cell_type": "code",
   "execution_count": null,
   "id": "09a5850c-f62f-4dc5-ac7f-88cb8d88e588",
   "metadata": {},
   "outputs": [],
   "source": []
  },
  {
   "cell_type": "code",
   "execution_count": 31,
   "id": "e1438abe-328c-4e16-93d8-65fa3b2ece79",
   "metadata": {},
   "outputs": [
    {
     "data": {
      "text/html": [
       "<div>\n",
       "<style scoped>\n",
       "    .dataframe tbody tr th:only-of-type {\n",
       "        vertical-align: middle;\n",
       "    }\n",
       "\n",
       "    .dataframe tbody tr th {\n",
       "        vertical-align: top;\n",
       "    }\n",
       "\n",
       "    .dataframe thead th {\n",
       "        text-align: right;\n",
       "    }\n",
       "</style>\n",
       "<table border=\"1\" class=\"dataframe\">\n",
       "  <thead>\n",
       "    <tr style=\"text-align: right;\">\n",
       "      <th></th>\n",
       "      <th>Age</th>\n",
       "      <th>Experience</th>\n",
       "      <th>Salary</th>\n",
       "      <th>Accounting</th>\n",
       "      <th>Customer Relations</th>\n",
       "      <th>Sales and Marketing</th>\n",
       "    </tr>\n",
       "  </thead>\n",
       "  <tbody>\n",
       "    <tr>\n",
       "      <th>0</th>\n",
       "      <td>28.0</td>\n",
       "      <td>3.0</td>\n",
       "      <td>32889</td>\n",
       "      <td>0</td>\n",
       "      <td>0</td>\n",
       "      <td>1</td>\n",
       "    </tr>\n",
       "    <tr>\n",
       "      <th>1</th>\n",
       "      <td>22.0</td>\n",
       "      <td>1.0</td>\n",
       "      <td>15944</td>\n",
       "      <td>0</td>\n",
       "      <td>0</td>\n",
       "      <td>1</td>\n",
       "    </tr>\n",
       "    <tr>\n",
       "      <th>2</th>\n",
       "      <td>22.0</td>\n",
       "      <td>1.0</td>\n",
       "      <td>40343</td>\n",
       "      <td>0</td>\n",
       "      <td>1</td>\n",
       "      <td>0</td>\n",
       "    </tr>\n",
       "    <tr>\n",
       "      <th>3</th>\n",
       "      <td>22.0</td>\n",
       "      <td>1.0</td>\n",
       "      <td>19018</td>\n",
       "      <td>0</td>\n",
       "      <td>1</td>\n",
       "      <td>0</td>\n",
       "    </tr>\n",
       "    <tr>\n",
       "      <th>4</th>\n",
       "      <td>27.0</td>\n",
       "      <td>0.0</td>\n",
       "      <td>24795</td>\n",
       "      <td>1</td>\n",
       "      <td>0</td>\n",
       "      <td>0</td>\n",
       "    </tr>\n",
       "  </tbody>\n",
       "</table>\n",
       "</div>"
      ],
      "text/plain": [
       "    Age  Experience  Salary  Accounting  Customer Relations  \\\n",
       "0  28.0         3.0   32889           0                   0   \n",
       "1  22.0         1.0   15944           0                   0   \n",
       "2  22.0         1.0   40343           0                   1   \n",
       "3  22.0         1.0   19018           0                   1   \n",
       "4  27.0         0.0   24795           1                   0   \n",
       "\n",
       "   Sales and Marketing  \n",
       "0                    1  \n",
       "1                    1  \n",
       "2                    0  \n",
       "3                    0  \n",
       "4                    0  "
      ]
     },
     "execution_count": 31,
     "metadata": {},
     "output_type": "execute_result"
    }
   ],
   "source": [
    "num_data=onehotdata.iloc[:,3:]\n",
    "num_data.head()"
   ]
  },
  {
   "cell_type": "code",
   "execution_count": 32,
   "id": "c824ee5a-ab57-449f-8cbf-32e671acd87c",
   "metadata": {},
   "outputs": [
    {
     "name": "stdout",
     "output_type": "stream",
     "text": [
      "Defaulting to user installation because normal site-packages is not writeableNote: you may need to restart the kernel to use updated packages.\n",
      "\n",
      "Requirement already satisfied: scikit-learn in c:\\programdata\\anaconda3\\lib\\site-packages (1.2.2)\n",
      "Requirement already satisfied: numpy>=1.17.3 in c:\\programdata\\anaconda3\\lib\\site-packages (from scikit-learn) (1.26.4)\n",
      "Requirement already satisfied: scipy>=1.3.2 in c:\\programdata\\anaconda3\\lib\\site-packages (from scikit-learn) (1.11.4)\n",
      "Requirement already satisfied: joblib>=1.1.1 in c:\\programdata\\anaconda3\\lib\\site-packages (from scikit-learn) (1.2.0)\n",
      "Requirement already satisfied: threadpoolctl>=2.0.0 in c:\\programdata\\anaconda3\\lib\\site-packages (from scikit-learn) (2.2.0)\n"
     ]
    }
   ],
   "source": [
    "pip install scikit-learn"
   ]
  },
  {
   "cell_type": "code",
   "execution_count": 33,
   "id": "2b11f824-96c7-4d51-8ed9-eefbfe677344",
   "metadata": {},
   "outputs": [
    {
     "data": {
      "text/plain": [
       "array([[-1.16485118e+00, -1.81044925e+00, -1.23482325e+00,\n",
       "        -6.08163641e-01, -5.61951487e-01,  1.02020406e+00],\n",
       "       [-1.86547071e+00, -2.11817433e+00, -1.88508853e+00,\n",
       "        -6.08163641e-01, -5.61951487e-01,  1.02020406e+00],\n",
       "       [-1.86547071e+00, -2.11817433e+00, -9.48775604e-01,\n",
       "        -6.08163641e-01,  1.77951304e+00, -9.80196059e-01],\n",
       "       [-1.86547071e+00, -2.11817433e+00, -1.76712361e+00,\n",
       "        -6.08163641e-01,  1.77951304e+00, -9.80196059e-01],\n",
       "       [-1.28162110e+00, -2.27203688e+00, -1.54543093e+00,\n",
       "         1.64429429e+00, -5.61951487e-01, -9.80196059e-01],\n",
       "       [-1.39839102e+00, -1.50272416e+00, -1.90646343e+00,\n",
       "         1.64429429e+00, -5.61951487e-01, -9.80196059e-01],\n",
       "       [-1.63193087e+00, -1.34886162e+00, -1.18769869e+00,\n",
       "        -6.08163641e-01,  1.77951304e+00, -9.80196059e-01],\n",
       "       [-1.04808125e+00, -1.96431179e+00, -1.87914039e+00,\n",
       "        -6.08163641e-01,  1.77951304e+00, -9.80196059e-01],\n",
       "       [-1.04808125e+00, -1.50272416e+00, -8.81158761e-01,\n",
       "        -6.08163641e-01, -5.61951487e-01,  1.02020406e+00],\n",
       "       [-9.31311332e-01, -1.34886162e+00, -2.04062262e+00,\n",
       "        -6.08163641e-01,  1.77951304e+00, -9.80196059e-01],\n",
       "       [-1.39839102e+00, -1.50272416e+00, -1.16582491e+00,\n",
       "         1.64429429e+00, -5.61951487e-01, -9.80196059e-01],\n",
       "       [-1.39839102e+00, -1.34886162e+00, -1.59324625e+00,\n",
       "        -6.08163641e-01, -5.61951487e-01,  1.02020406e+00],\n",
       "       [-1.63193087e+00, -1.50272416e+00, -1.37984258e+00,\n",
       "         1.64429429e+00, -5.61951487e-01, -9.80196059e-01],\n",
       "       [-1.86547071e+00, -1.96431179e+00, -1.21387047e+00,\n",
       "         1.64429429e+00, -5.61951487e-01, -9.80196059e-01],\n",
       "       [-1.51516094e+00, -1.81044925e+00, -2.04296350e+00,\n",
       "        -6.08163641e-01, -5.61951487e-01,  1.02020406e+00],\n",
       "       [-1.51516094e+00,  2.73314780e-16, -8.05943657e-01,\n",
       "         1.64429429e+00, -5.61951487e-01, -9.80196059e-01],\n",
       "       [-1.86547071e+00,  2.73314780e-16, -1.98785692e+00,\n",
       "        -6.08163641e-01,  1.77951304e+00, -9.80196059e-01],\n",
       "       [-1.51516094e+00,  2.73314780e-16, -1.85872487e+00,\n",
       "         1.64429429e+00, -5.61951487e-01, -9.80196059e-01],\n",
       "       [-1.28162110e+00,  2.73314780e-16, -1.35006354e+00,\n",
       "         1.64429429e+00, -5.61951487e-01, -9.80196059e-01],\n",
       "       [-1.51516094e+00,  2.73314780e-16, -1.32788275e+00,\n",
       "        -6.08163641e-01, -5.61951487e-01,  1.02020406e+00],\n",
       "       [-1.86547071e+00,  2.73314780e-16, -1.92350195e+00,\n",
       "        -6.08163641e-01, -5.61951487e-01,  1.02020406e+00],\n",
       "       [-1.86547071e+00,  2.73314780e-16, -1.78193638e+00,\n",
       "        -6.08163641e-01, -5.61951487e-01,  1.02020406e+00],\n",
       "       [-1.63193087e+00,  2.73314780e-16, -1.03166572e+00,\n",
       "        -6.08163641e-01, -5.61951487e-01,  1.02020406e+00],\n",
       "       [-1.28162110e+00,  2.73314780e-16, -8.43244208e-01,\n",
       "        -6.08163641e-01, -5.61951487e-01,  1.02020406e+00],\n",
       "       [-1.86547071e+00,  2.73314780e-16, -1.47720009e+00,\n",
       "        -6.08163641e-01, -5.61951487e-01,  1.02020406e+00],\n",
       "       [-5.81001565e-01, -2.71823825e-01, -5.31063151e-01,\n",
       "        -6.08163641e-01, -5.61951487e-01,  1.02020406e+00],\n",
       "       [-2.30691798e-01, -1.19499908e+00, -2.74948046e-01,\n",
       "        -6.08163641e-01, -5.61951487e-01,  1.02020406e+00],\n",
       "       [-3.47461720e-01, -7.33411452e-01, -4.15746116e-01,\n",
       "        -6.08163641e-01, -5.61951487e-01,  1.02020406e+00],\n",
       "       [-5.81001565e-01, -4.25686367e-01,  1.89697098e-01,\n",
       "        -6.08163641e-01, -5.61951487e-01,  1.02020406e+00],\n",
       "       [-9.31311332e-01, -1.17961283e-01,  3.69023721e-01,\n",
       "        -6.08163641e-01, -5.61951487e-01,  1.02020406e+00],\n",
       "       [ 2.36387892e-01,  3.59012599e-02, -4.29791385e-01,\n",
       "        -6.08163641e-01, -5.61951487e-01,  1.02020406e+00],\n",
       "       [ 1.19617969e-01, -4.25686367e-01, -1.89947303e-01,\n",
       "        -6.08163641e-01, -5.61951487e-01,  1.02020406e+00],\n",
       "       [ 8.29700201e-16, -8.87273995e-01,  2.68174082e-01,\n",
       "        -6.08163641e-01, -5.61951487e-01,  1.02020406e+00],\n",
       "       [ 8.29700201e-16, -1.19499908e+00, -5.77688840e-01,\n",
       "        -6.08163641e-01, -5.61951487e-01,  1.02020406e+00],\n",
       "       [ 8.29700201e-16,  3.59012599e-02, -5.73659460e-01,\n",
       "        -6.08163641e-01, -5.61951487e-01,  1.02020406e+00],\n",
       "       [ 8.29700201e-16, -5.79548910e-01,  2.78266721e-01,\n",
       "        -6.08163641e-01, -5.61951487e-01,  1.02020406e+00],\n",
       "       [ 8.29700201e-16, -7.33411452e-01, -4.31288013e-01,\n",
       "        -6.08163641e-01, -5.61951487e-01,  1.02020406e+00],\n",
       "       [ 8.29700201e-16, -1.19499908e+00, -2.57295521e-01,\n",
       "        -6.08163641e-01, -5.61951487e-01,  1.02020406e+00],\n",
       "       [ 8.29700201e-16, -2.71823825e-01, -6.43073791e-02,\n",
       "        -6.08163641e-01, -5.61951487e-01,  1.02020406e+00],\n",
       "       [ 8.29700201e-16, -8.87273995e-01, -7.99644008e-02,\n",
       "        -6.08163641e-01, -5.61951487e-01,  1.02020406e+00],\n",
       "       [ 8.29700201e-16, -1.04113654e+00,  3.34722564e-02,\n",
       "        -6.08163641e-01,  1.77951304e+00, -9.80196059e-01],\n",
       "       [ 8.29700201e-16, -4.25686367e-01, -5.12374500e-01,\n",
       "         1.64429429e+00, -5.61951487e-01, -9.80196059e-01],\n",
       "       [ 8.29700201e-16, -8.87273995e-01, -4.15093740e-01,\n",
       "         1.64429429e+00, -5.61951487e-01, -9.80196059e-01],\n",
       "       [ 8.29700201e-16, -4.25686367e-01, -5.60458441e-01,\n",
       "        -6.08163641e-01, -5.61951487e-01,  1.02020406e+00],\n",
       "       [ 8.29700201e-16,  3.59012599e-02, -2.48961995e-02,\n",
       "        -6.08163641e-01, -5.61951487e-01,  1.02020406e+00],\n",
       "       [ 8.29700201e-16, -1.17961283e-01, -1.88143676e-01,\n",
       "        -6.08163641e-01,  1.77951304e+00, -9.80196059e-01],\n",
       "       [ 8.29700201e-16, -7.33411452e-01,  5.60751627e-02,\n",
       "        -6.08163641e-01, -5.61951487e-01,  1.02020406e+00],\n",
       "       [ 8.29700201e-16, -1.04113654e+00, -2.98894079e-01,\n",
       "        -6.08163641e-01,  1.77951304e+00, -9.80196059e-01],\n",
       "       [ 8.29700201e-16, -4.25686367e-01,  2.50982058e-01,\n",
       "        -6.08163641e-01,  1.77951304e+00, -9.80196059e-01],\n",
       "       [ 8.29700201e-16,  3.59012599e-02, -1.47542869e-01,\n",
       "        -6.08163641e-01,  1.77951304e+00, -9.80196059e-01],\n",
       "       [ 2.84804689e-03, -1.17961283e-01,  1.27452762e-01,\n",
       "        -6.08163641e-01, -5.61951487e-01,  1.02020406e+00],\n",
       "       [ 3.53157814e-01,  1.57452668e+00,  1.13733066e+00,\n",
       "         1.64429429e+00, -5.61951487e-01, -9.80196059e-01],\n",
       "       [ 7.03467581e-01,  3.43626345e-01,  9.37358259e-01,\n",
       "        -6.08163641e-01,  1.77951304e+00, -9.80196059e-01],\n",
       "       [ 3.53157814e-01,  3.43626345e-01,  1.12221089e+00,\n",
       "         1.64429429e+00, -5.61951487e-01, -9.80196059e-01],\n",
       "       [ 1.40408712e+00,  9.59076515e-01,  6.35039590e-01,\n",
       "        -6.08163641e-01, -5.61951487e-01,  1.02020406e+00],\n",
       "       [ 1.05377735e+00,  6.51351430e-01,  7.38306858e-01,\n",
       "        -6.08163641e-01, -5.61951487e-01,  1.02020406e+00],\n",
       "       [ 5.86697659e-01,  1.57452668e+00,  4.75284243e-01,\n",
       "         1.64429429e+00, -5.61951487e-01, -9.80196059e-01],\n",
       "       [ 1.17054727e+00,  1.57452668e+00,  4.54254714e-01,\n",
       "        -6.08163641e-01,  1.77951304e+00, -9.80196059e-01],\n",
       "       [ 9.37007426e-01,  1.11293906e+00,  9.87437703e-01,\n",
       "         1.64429429e+00, -5.61951487e-01, -9.80196059e-01],\n",
       "       [ 7.03467581e-01,  1.89763802e-01,  8.13330087e-01,\n",
       "        -6.08163641e-01,  1.77951304e+00, -9.80196059e-01],\n",
       "       [ 4.69927736e-01,  9.59076515e-01,  5.09054290e-01,\n",
       "         1.64429429e+00, -5.61951487e-01, -9.80196059e-01],\n",
       "       [ 7.03467581e-01,  6.51351430e-01,  7.60372513e-01,\n",
       "        -6.08163641e-01, -5.61951487e-01,  1.02020406e+00],\n",
       "       [ 1.28731719e+00,  1.89763802e-01,  4.39825694e-01,\n",
       "        -6.08163641e-01,  1.77951304e+00, -9.80196059e-01],\n",
       "       [ 7.03467581e-01,  4.97488887e-01,  7.08297566e-01,\n",
       "        -6.08163641e-01,  1.77951304e+00, -9.80196059e-01],\n",
       "       [ 1.28731719e+00,  1.11293906e+00,  9.28340121e-01,\n",
       "        -6.08163641e-01, -5.61951487e-01,  1.02020406e+00],\n",
       "       [ 7.03467581e-01,  3.43626345e-01,  3.97728261e-01,\n",
       "         1.64429429e+00, -5.61951487e-01, -9.80196059e-01],\n",
       "       [ 1.17054727e+00,  1.89763802e-01,  1.02857576e+00,\n",
       "        -6.08163641e-01, -5.61951487e-01,  1.02020406e+00],\n",
       "       [ 1.05377735e+00,  1.26680160e+00,  4.46733204e-01,\n",
       "        -6.08163641e-01,  1.77951304e+00, -9.80196059e-01],\n",
       "       [ 1.40408712e+00,  1.11293906e+00,  1.15720894e+00,\n",
       "        -6.08163641e-01,  1.77951304e+00, -9.80196059e-01],\n",
       "       [ 4.69927736e-01,  6.51351430e-01,  9.87591203e-01,\n",
       "        -6.08163641e-01, -5.61951487e-01,  1.02020406e+00],\n",
       "       [ 1.17054727e+00,  6.51351430e-01,  8.13944088e-01,\n",
       "         1.64429429e+00, -5.61951487e-01, -9.80196059e-01],\n",
       "       [ 9.37007426e-01,  1.42066414e+00,  4.70602487e-01,\n",
       "        -6.08163641e-01,  1.77951304e+00, -9.80196059e-01],\n",
       "       [ 4.69927736e-01,  1.26680160e+00,  7.75914410e-01,\n",
       "        -6.08163641e-01, -5.61951487e-01,  1.02020406e+00],\n",
       "       [ 8.20237504e-01,  1.11293906e+00,  9.92503210e-01,\n",
       "        -6.08163641e-01, -5.61951487e-01,  1.02020406e+00],\n",
       "       [ 1.17054727e+00,  3.43626345e-01,  9.12030724e-01,\n",
       "        -6.08163641e-01,  1.77951304e+00, -9.80196059e-01],\n",
       "       [ 3.53157814e-01,  1.26680160e+00,  1.18353422e+00,\n",
       "        -6.08163641e-01, -5.61951487e-01,  1.02020406e+00],\n",
       "       [ 1.28731719e+00,  6.51351430e-01,  1.04757141e+00,\n",
       "        -6.08163641e-01, -5.61951487e-01,  1.02020406e+00],\n",
       "       [ 3.53157814e-01,  1.11293906e+00,  1.10471187e+00,\n",
       "        -6.08163641e-01, -5.61951487e-01,  1.02020406e+00],\n",
       "       [ 4.69927736e-01,  1.42066414e+00,  7.77833163e-01,\n",
       "        -6.08163641e-01, -5.61951487e-01,  1.02020406e+00],\n",
       "       [ 3.53157814e-01,  1.11293906e+00,  5.69149623e-01,\n",
       "         1.64429429e+00, -5.61951487e-01, -9.80196059e-01],\n",
       "       [ 8.20237504e-01,  9.59076515e-01,  7.53733629e-01,\n",
       "         1.64429429e+00, -5.61951487e-01, -9.80196059e-01],\n",
       "       [ 5.86697659e-01,  1.89763802e-01,  8.94685199e-01,\n",
       "        -6.08163641e-01,  1.77951304e+00, -9.80196059e-01],\n",
       "       [ 9.37007426e-01,  4.97488887e-01,  1.07984483e+00,\n",
       "         1.64429429e+00, -5.61951487e-01, -9.80196059e-01],\n",
       "       [ 1.05377735e+00,  8.05213972e-01,  1.02569763e+00,\n",
       "        -6.08163641e-01, -5.61951487e-01,  1.02020406e+00],\n",
       "       [ 8.20237504e-01,  3.43626345e-01,  1.20364275e+00,\n",
       "         1.64429429e+00, -5.61951487e-01, -9.80196059e-01],\n",
       "       [ 4.69927736e-01,  3.43626345e-01,  6.99701554e-01,\n",
       "        -6.08163641e-01, -5.61951487e-01,  1.02020406e+00],\n",
       "       [ 7.03467581e-01,  9.59076515e-01,  1.14017041e+00,\n",
       "        -6.08163641e-01, -5.61951487e-01,  1.02020406e+00],\n",
       "       [ 8.20237504e-01,  6.51351430e-01,  6.60674125e-01,\n",
       "         1.64429429e+00, -5.61951487e-01, -9.80196059e-01],\n",
       "       [ 7.03467581e-01,  9.59076515e-01,  1.22758879e+00,\n",
       "         1.64429429e+00, -5.61951487e-01, -9.80196059e-01],\n",
       "       [ 1.05377735e+00,  8.05213972e-01,  8.66786536e-01,\n",
       "        -6.08163641e-01,  1.77951304e+00, -9.80196059e-01],\n",
       "       [ 7.03467581e-01,  6.51351430e-01,  9.52017529e-01,\n",
       "        -6.08163641e-01, -5.61951487e-01,  1.02020406e+00],\n",
       "       [ 7.03467581e-01,  4.97488887e-01,  1.27072235e+00,\n",
       "         1.64429429e+00, -5.61951487e-01, -9.80196059e-01],\n",
       "       [ 3.53157814e-01,  3.43626345e-01,  7.33663476e-01,\n",
       "        -6.08163641e-01, -5.61951487e-01,  1.02020406e+00],\n",
       "       [ 1.17054727e+00,  9.59076515e-01,  5.54221728e-01,\n",
       "         1.64429429e+00, -5.61951487e-01, -9.80196059e-01],\n",
       "       [ 1.17054727e+00,  1.11293906e+00,  1.26343109e+00,\n",
       "         1.64429429e+00, -5.61951487e-01, -9.80196059e-01],\n",
       "       [ 1.05377735e+00,  1.11293906e+00,  5.37643705e-01,\n",
       "        -6.08163641e-01, -5.61951487e-01,  1.02020406e+00],\n",
       "       [ 9.37007426e-01,  8.05213972e-01,  6.18615067e-01,\n",
       "        -6.08163641e-01, -5.61951487e-01,  1.02020406e+00],\n",
       "       [ 7.03467581e-01,  4.97488887e-01,  7.20692708e-01,\n",
       "        -6.08163641e-01,  1.77951304e+00, -9.80196059e-01],\n",
       "       [ 1.05377735e+00,  1.11293906e+00,  9.24502616e-01,\n",
       "        -6.08163641e-01,  1.77951304e+00, -9.80196059e-01],\n",
       "       [ 7.03467581e-01,  9.59076515e-01,  1.01994137e+00,\n",
       "         1.64429429e+00, -5.61951487e-01, -9.80196059e-01]])"
      ]
     },
     "execution_count": 33,
     "metadata": {},
     "output_type": "execute_result"
    }
   ],
   "source": [
    "from sklearn.preprocessing import StandardScaler\n",
    "sc=StandardScaler()\n",
    "x_scaled=sc.fit_transform(num_data)\n",
    "x_scaled"
   ]
  },
  {
   "cell_type": "code",
   "execution_count": 34,
   "id": "8a7b9c65-7f2e-40ae-a836-0ac4a70d432e",
   "metadata": {},
   "outputs": [
    {
     "data": {
      "text/plain": [
       "array([[2.14285714e-01, 1.20000000e-01, 2.43879560e-01, 0.00000000e+00,\n",
       "        0.00000000e+00, 1.00000000e+00],\n",
       "       [0.00000000e+00, 4.00000000e-02, 4.76433121e-02, 0.00000000e+00,\n",
       "        0.00000000e+00, 1.00000000e+00],\n",
       "       [0.00000000e+00, 4.00000000e-02, 3.30202664e-01, 0.00000000e+00,\n",
       "        1.00000000e+00, 0.00000000e+00],\n",
       "       [0.00000000e+00, 4.00000000e-02, 8.32426173e-02, 0.00000000e+00,\n",
       "        1.00000000e+00, 0.00000000e+00],\n",
       "       [1.78571429e-01, 0.00000000e+00, 1.50144760e-01, 1.00000000e+00,\n",
       "        0.00000000e+00, 0.00000000e+00],\n",
       "       [1.42857143e-01, 2.00000000e-01, 4.11928199e-02, 1.00000000e+00,\n",
       "        0.00000000e+00, 0.00000000e+00],\n",
       "       [7.14285714e-02, 2.40000000e-01, 2.58100753e-01, 0.00000000e+00,\n",
       "        1.00000000e+00, 0.00000000e+00],\n",
       "       [2.50000000e-01, 8.00000000e-02, 4.94383324e-02, 0.00000000e+00,\n",
       "        1.00000000e+00, 0.00000000e+00],\n",
       "       [2.50000000e-01, 2.00000000e-01, 3.50607991e-01, 0.00000000e+00,\n",
       "        0.00000000e+00, 1.00000000e+00],\n",
       "       [2.85714286e-01, 2.40000000e-01, 7.06427331e-04, 0.00000000e+00,\n",
       "        1.00000000e+00, 0.00000000e+00],\n",
       "       [1.42857143e-01, 2.00000000e-01, 2.64701795e-01, 1.00000000e+00,\n",
       "        0.00000000e+00, 0.00000000e+00],\n",
       "       [1.42857143e-01, 2.40000000e-01, 1.35715113e-01, 0.00000000e+00,\n",
       "        0.00000000e+00, 1.00000000e+00],\n",
       "       [7.14285714e-02, 2.00000000e-01, 2.00115808e-01, 1.00000000e+00,\n",
       "        0.00000000e+00, 0.00000000e+00],\n",
       "       [0.00000000e+00, 8.00000000e-02, 2.50202664e-01, 1.00000000e+00,\n",
       "        0.00000000e+00, 0.00000000e+00],\n",
       "       [1.07142857e-01, 1.20000000e-01, 0.00000000e+00, 0.00000000e+00,\n",
       "        0.00000000e+00, 1.00000000e+00],\n",
       "       [1.07142857e-01, 5.90666667e-01, 3.73306312e-01, 1.00000000e+00,\n",
       "        0.00000000e+00, 0.00000000e+00],\n",
       "       [0.00000000e+00, 5.90666667e-01, 1.66299942e-02, 0.00000000e+00,\n",
       "        1.00000000e+00, 0.00000000e+00],\n",
       "       [1.07142857e-01, 5.90666667e-01, 5.55993052e-02, 1.00000000e+00,\n",
       "        0.00000000e+00, 0.00000000e+00],\n",
       "       [1.78571429e-01, 5.90666667e-01, 2.09102490e-01, 1.00000000e+00,\n",
       "        0.00000000e+00, 0.00000000e+00],\n",
       "       [1.07142857e-01, 5.90666667e-01, 2.15796178e-01, 0.00000000e+00,\n",
       "        0.00000000e+00, 1.00000000e+00],\n",
       "       [0.00000000e+00, 5.90666667e-01, 3.60509554e-02, 0.00000000e+00,\n",
       "        0.00000000e+00, 1.00000000e+00],\n",
       "       [0.00000000e+00, 5.90666667e-01, 7.87724378e-02, 0.00000000e+00,\n",
       "        0.00000000e+00, 1.00000000e+00],\n",
       "       [7.14285714e-02, 5.90666667e-01, 3.05188188e-01, 0.00000000e+00,\n",
       "        0.00000000e+00, 1.00000000e+00],\n",
       "       [1.78571429e-01, 5.90666667e-01, 3.62049797e-01, 0.00000000e+00,\n",
       "        0.00000000e+00, 1.00000000e+00],\n",
       "       [0.00000000e+00, 5.90666667e-01, 1.70735379e-01, 0.00000000e+00,\n",
       "        0.00000000e+00, 1.00000000e+00],\n",
       "       [3.92857143e-01, 5.20000000e-01, 4.56259409e-01, 0.00000000e+00,\n",
       "        0.00000000e+00, 1.00000000e+00],\n",
       "       [5.00000000e-01, 2.80000000e-01, 5.33549508e-01, 0.00000000e+00,\n",
       "        0.00000000e+00, 1.00000000e+00],\n",
       "       [4.64285714e-01, 4.00000000e-01, 4.91059641e-01, 0.00000000e+00,\n",
       "        0.00000000e+00, 1.00000000e+00],\n",
       "       [3.92857143e-01, 4.80000000e-01, 6.73769543e-01, 0.00000000e+00,\n",
       "        0.00000000e+00, 1.00000000e+00],\n",
       "       [2.85714286e-01, 5.60000000e-01, 7.27886508e-01, 0.00000000e+00,\n",
       "        0.00000000e+00, 1.00000000e+00],\n",
       "       [6.42857143e-01, 6.00000000e-01, 4.86821077e-01, 0.00000000e+00,\n",
       "        0.00000000e+00, 1.00000000e+00],\n",
       "       [6.07142857e-01, 4.80000000e-01, 5.59200926e-01, 0.00000000e+00,\n",
       "        0.00000000e+00, 1.00000000e+00],\n",
       "       [5.70557491e-01, 3.60000000e-01, 6.97452229e-01, 0.00000000e+00,\n",
       "        0.00000000e+00, 1.00000000e+00],\n",
       "       [5.70557491e-01, 2.80000000e-01, 4.42188767e-01, 0.00000000e+00,\n",
       "        0.00000000e+00, 1.00000000e+00],\n",
       "       [5.70557491e-01, 6.00000000e-01, 4.43404748e-01, 0.00000000e+00,\n",
       "        0.00000000e+00, 1.00000000e+00],\n",
       "       [5.70557491e-01, 4.40000000e-01, 7.00497973e-01, 0.00000000e+00,\n",
       "        0.00000000e+00, 1.00000000e+00],\n",
       "       [5.70557491e-01, 4.00000000e-01, 4.86369427e-01, 0.00000000e+00,\n",
       "        0.00000000e+00, 1.00000000e+00],\n",
       "       [5.70557491e-01, 2.80000000e-01, 5.38876665e-01, 0.00000000e+00,\n",
       "        0.00000000e+00, 1.00000000e+00],\n",
       "       [5.70557491e-01, 5.20000000e-01, 5.97116387e-01, 0.00000000e+00,\n",
       "        0.00000000e+00, 1.00000000e+00],\n",
       "       [5.70557491e-01, 3.60000000e-01, 5.92391430e-01, 0.00000000e+00,\n",
       "        0.00000000e+00, 1.00000000e+00],\n",
       "       [5.70557491e-01, 3.20000000e-01, 6.26624204e-01, 0.00000000e+00,\n",
       "        1.00000000e+00, 0.00000000e+00],\n",
       "       [5.70557491e-01, 4.80000000e-01, 4.61899247e-01, 1.00000000e+00,\n",
       "        0.00000000e+00, 0.00000000e+00],\n",
       "       [5.70557491e-01, 3.60000000e-01, 4.91256514e-01, 1.00000000e+00,\n",
       "        0.00000000e+00, 0.00000000e+00],\n",
       "       [5.70557491e-01, 4.80000000e-01, 4.47388535e-01, 0.00000000e+00,\n",
       "        0.00000000e+00, 1.00000000e+00],\n",
       "       [5.70557491e-01, 6.00000000e-01, 6.09009844e-01, 0.00000000e+00,\n",
       "        0.00000000e+00, 1.00000000e+00],\n",
       "       [5.70557491e-01, 5.60000000e-01, 5.59745223e-01, 0.00000000e+00,\n",
       "        1.00000000e+00, 0.00000000e+00],\n",
       "       [5.70557491e-01, 4.00000000e-01, 6.33445281e-01, 0.00000000e+00,\n",
       "        0.00000000e+00, 1.00000000e+00],\n",
       "       [5.70557491e-01, 3.20000000e-01, 5.26323104e-01, 0.00000000e+00,\n",
       "        1.00000000e+00, 0.00000000e+00],\n",
       "       [5.70557491e-01, 4.80000000e-01, 6.92264042e-01, 0.00000000e+00,\n",
       "        1.00000000e+00, 0.00000000e+00],\n",
       "       [5.70557491e-01, 6.00000000e-01, 5.71997684e-01, 0.00000000e+00,\n",
       "        1.00000000e+00, 0.00000000e+00],\n",
       "       [5.71428571e-01, 5.60000000e-01, 6.54985524e-01, 0.00000000e+00,\n",
       "        0.00000000e+00, 1.00000000e+00],\n",
       "       [6.78571429e-01, 1.00000000e+00, 9.59745223e-01, 1.00000000e+00,\n",
       "        0.00000000e+00, 0.00000000e+00],\n",
       "       [7.85714286e-01, 6.80000000e-01, 8.99397800e-01, 0.00000000e+00,\n",
       "        1.00000000e+00, 0.00000000e+00],\n",
       "       [6.78571429e-01, 6.80000000e-01, 9.55182397e-01, 1.00000000e+00,\n",
       "        0.00000000e+00, 0.00000000e+00],\n",
       "       [1.00000000e+00, 8.40000000e-01, 8.08164447e-01, 0.00000000e+00,\n",
       "        0.00000000e+00, 1.00000000e+00],\n",
       "       [8.92857143e-01, 7.60000000e-01, 8.39328315e-01, 0.00000000e+00,\n",
       "        0.00000000e+00, 1.00000000e+00],\n",
       "       [7.50000000e-01, 1.00000000e+00, 7.59953677e-01, 1.00000000e+00,\n",
       "        0.00000000e+00, 0.00000000e+00],\n",
       "       [9.28571429e-01, 1.00000000e+00, 7.53607412e-01, 0.00000000e+00,\n",
       "        1.00000000e+00, 0.00000000e+00],\n",
       "       [8.57142857e-01, 8.80000000e-01, 9.14510712e-01, 1.00000000e+00,\n",
       "        0.00000000e+00, 0.00000000e+00],\n",
       "       [7.85714286e-01, 6.40000000e-01, 8.61968732e-01, 0.00000000e+00,\n",
       "        1.00000000e+00, 0.00000000e+00],\n",
       "       [7.14285714e-01, 8.40000000e-01, 7.70144760e-01, 1.00000000e+00,\n",
       "        0.00000000e+00, 0.00000000e+00],\n",
       "       [7.85714286e-01, 7.60000000e-01, 8.45987261e-01, 0.00000000e+00,\n",
       "        0.00000000e+00, 1.00000000e+00],\n",
       "       [9.64285714e-01, 6.40000000e-01, 7.49253040e-01, 0.00000000e+00,\n",
       "        1.00000000e+00, 0.00000000e+00],\n",
       "       [7.85714286e-01, 7.20000000e-01, 8.30272148e-01, 0.00000000e+00,\n",
       "        1.00000000e+00, 0.00000000e+00],\n",
       "       [9.64285714e-01, 8.80000000e-01, 8.96676317e-01, 0.00000000e+00,\n",
       "        0.00000000e+00, 1.00000000e+00],\n",
       "       [7.85714286e-01, 6.80000000e-01, 7.36548929e-01, 1.00000000e+00,\n",
       "        0.00000000e+00, 0.00000000e+00],\n",
       "       [9.28571429e-01, 6.40000000e-01, 9.26925304e-01, 0.00000000e+00,\n",
       "        0.00000000e+00, 1.00000000e+00],\n",
       "       [8.92857143e-01, 9.20000000e-01, 7.51337580e-01, 0.00000000e+00,\n",
       "        1.00000000e+00, 0.00000000e+00],\n",
       "       [1.00000000e+00, 8.80000000e-01, 9.65744065e-01, 0.00000000e+00,\n",
       "        1.00000000e+00, 0.00000000e+00],\n",
       "       [7.14285714e-01, 7.60000000e-01, 9.14557035e-01, 0.00000000e+00,\n",
       "        0.00000000e+00, 1.00000000e+00],\n",
       "       [9.28571429e-01, 7.60000000e-01, 8.62154024e-01, 1.00000000e+00,\n",
       "        0.00000000e+00, 0.00000000e+00],\n",
       "       [8.57142857e-01, 9.60000000e-01, 7.58540822e-01, 0.00000000e+00,\n",
       "        1.00000000e+00, 0.00000000e+00],\n",
       "       [7.14285714e-01, 9.20000000e-01, 8.50677475e-01, 0.00000000e+00,\n",
       "        0.00000000e+00, 1.00000000e+00],\n",
       "       [8.21428571e-01, 8.80000000e-01, 9.16039375e-01, 0.00000000e+00,\n",
       "        0.00000000e+00, 1.00000000e+00],\n",
       "       [9.28571429e-01, 6.80000000e-01, 8.91754488e-01, 0.00000000e+00,\n",
       "        1.00000000e+00, 0.00000000e+00],\n",
       "       [6.78571429e-01, 9.20000000e-01, 9.73688477e-01, 0.00000000e+00,\n",
       "        0.00000000e+00, 1.00000000e+00],\n",
       "       [9.64285714e-01, 7.60000000e-01, 9.32657788e-01, 0.00000000e+00,\n",
       "        0.00000000e+00, 1.00000000e+00],\n",
       "       [6.78571429e-01, 8.80000000e-01, 9.49901563e-01, 0.00000000e+00,\n",
       "        0.00000000e+00, 1.00000000e+00],\n",
       "       [7.14285714e-01, 9.60000000e-01, 8.51256514e-01, 0.00000000e+00,\n",
       "        0.00000000e+00, 1.00000000e+00],\n",
       "       [6.78571429e-01, 8.80000000e-01, 7.88280255e-01, 1.00000000e+00,\n",
       "        0.00000000e+00, 0.00000000e+00],\n",
       "       [8.21428571e-01, 8.40000000e-01, 8.43983787e-01, 1.00000000e+00,\n",
       "        0.00000000e+00, 0.00000000e+00],\n",
       "       [7.50000000e-01, 6.40000000e-01, 8.86519977e-01, 0.00000000e+00,\n",
       "        1.00000000e+00, 0.00000000e+00],\n",
       "       [8.57142857e-01, 7.20000000e-01, 9.42397221e-01, 1.00000000e+00,\n",
       "        0.00000000e+00, 0.00000000e+00],\n",
       "       [8.92857143e-01, 8.00000000e-01, 9.26056746e-01, 0.00000000e+00,\n",
       "        0.00000000e+00, 1.00000000e+00],\n",
       "       [8.21428571e-01, 6.80000000e-01, 9.79756804e-01, 1.00000000e+00,\n",
       "        0.00000000e+00, 0.00000000e+00],\n",
       "       [7.14285714e-01, 6.80000000e-01, 8.27678054e-01, 0.00000000e+00,\n",
       "        0.00000000e+00, 1.00000000e+00],\n",
       "       [7.85714286e-01, 8.40000000e-01, 9.60602200e-01, 0.00000000e+00,\n",
       "        0.00000000e+00, 1.00000000e+00],\n",
       "       [8.21428571e-01, 7.60000000e-01, 8.15900405e-01, 1.00000000e+00,\n",
       "        0.00000000e+00, 0.00000000e+00],\n",
       "       [7.85714286e-01, 8.40000000e-01, 9.86983208e-01, 1.00000000e+00,\n",
       "        0.00000000e+00, 0.00000000e+00],\n",
       "       [8.92857143e-01, 8.00000000e-01, 8.78100753e-01, 0.00000000e+00,\n",
       "        1.00000000e+00, 0.00000000e+00],\n",
       "       [7.85714286e-01, 7.60000000e-01, 9.03821656e-01, 0.00000000e+00,\n",
       "        0.00000000e+00, 1.00000000e+00],\n",
       "       [7.85714286e-01, 7.20000000e-01, 1.00000000e+00, 1.00000000e+00,\n",
       "        0.00000000e+00, 0.00000000e+00],\n",
       "       [6.78571429e-01, 6.80000000e-01, 8.37927041e-01, 0.00000000e+00,\n",
       "        0.00000000e+00, 1.00000000e+00],\n",
       "       [9.28571429e-01, 8.40000000e-01, 7.83775333e-01, 1.00000000e+00,\n",
       "        0.00000000e+00, 0.00000000e+00],\n",
       "       [9.28571429e-01, 8.80000000e-01, 9.97799653e-01, 1.00000000e+00,\n",
       "        0.00000000e+00, 0.00000000e+00],\n",
       "       [8.92857143e-01, 8.80000000e-01, 7.78772438e-01, 0.00000000e+00,\n",
       "        0.00000000e+00, 1.00000000e+00],\n",
       "       [8.57142857e-01, 8.00000000e-01, 8.03207875e-01, 0.00000000e+00,\n",
       "        0.00000000e+00, 1.00000000e+00],\n",
       "       [7.85714286e-01, 7.20000000e-01, 8.34012739e-01, 0.00000000e+00,\n",
       "        1.00000000e+00, 0.00000000e+00],\n",
       "       [8.92857143e-01, 8.80000000e-01, 8.95518240e-01, 0.00000000e+00,\n",
       "        1.00000000e+00, 0.00000000e+00],\n",
       "       [7.85714286e-01, 8.40000000e-01, 9.24319629e-01, 1.00000000e+00,\n",
       "        0.00000000e+00, 0.00000000e+00]])"
      ]
     },
     "execution_count": 34,
     "metadata": {},
     "output_type": "execute_result"
    }
   ],
   "source": [
    "from sklearn.preprocessing import MinMaxScaler\n",
    "sc=MinMaxScaler()\n",
    "x_scaled=sc.fit_transform(num_data)\n",
    "x_scaled"
   ]
  },
  {
   "cell_type": "code",
   "execution_count": 36,
   "id": "5ab02b53-cd06-435b-997e-03f05d0a7e56",
   "metadata": {},
   "outputs": [
    {
     "data": {
      "text/plain": [
       "Index(['Employee Id', 'First Name', 'Last Name', 'Department', 'Age',\n",
       "       'Experience', 'Salary'],\n",
       "      dtype='object')"
      ]
     },
     "execution_count": 36,
     "metadata": {},
     "output_type": "execute_result"
    }
   ],
   "source": [
    "mydata.columns"
   ]
  },
  {
   "cell_type": "code",
   "execution_count": 53,
   "id": "2a8e0b29-b7c4-46dd-ac6c-c28f6d375edb",
   "metadata": {},
   "outputs": [],
   "source": [
    "# Assign x and y\n",
    "X=mydata.drop(['Salary'],axis=1)  # independent\n",
    "y=mydata['Salary']  # dependent"
   ]
  },
  {
   "cell_type": "code",
   "execution_count": 54,
   "id": "61b83ce1-35ea-44c0-b6b3-2733c46a6efc",
   "metadata": {},
   "outputs": [
    {
     "data": {
      "text/html": [
       "<div>\n",
       "<style scoped>\n",
       "    .dataframe tbody tr th:only-of-type {\n",
       "        vertical-align: middle;\n",
       "    }\n",
       "\n",
       "    .dataframe tbody tr th {\n",
       "        vertical-align: top;\n",
       "    }\n",
       "\n",
       "    .dataframe thead th {\n",
       "        text-align: right;\n",
       "    }\n",
       "</style>\n",
       "<table border=\"1\" class=\"dataframe\">\n",
       "  <thead>\n",
       "    <tr style=\"text-align: right;\">\n",
       "      <th></th>\n",
       "      <th>Department</th>\n",
       "      <th>Age</th>\n",
       "      <th>Experience</th>\n",
       "    </tr>\n",
       "  </thead>\n",
       "  <tbody>\n",
       "    <tr>\n",
       "      <th>0</th>\n",
       "      <td>2</td>\n",
       "      <td>28.0</td>\n",
       "      <td>3.0</td>\n",
       "    </tr>\n",
       "    <tr>\n",
       "      <th>1</th>\n",
       "      <td>2</td>\n",
       "      <td>22.0</td>\n",
       "      <td>1.0</td>\n",
       "    </tr>\n",
       "    <tr>\n",
       "      <th>2</th>\n",
       "      <td>1</td>\n",
       "      <td>22.0</td>\n",
       "      <td>1.0</td>\n",
       "    </tr>\n",
       "    <tr>\n",
       "      <th>3</th>\n",
       "      <td>1</td>\n",
       "      <td>22.0</td>\n",
       "      <td>1.0</td>\n",
       "    </tr>\n",
       "    <tr>\n",
       "      <th>4</th>\n",
       "      <td>0</td>\n",
       "      <td>27.0</td>\n",
       "      <td>0.0</td>\n",
       "    </tr>\n",
       "  </tbody>\n",
       "</table>\n",
       "</div>"
      ],
      "text/plain": [
       "   Department   Age  Experience\n",
       "0           2  28.0         3.0\n",
       "1           2  22.0         1.0\n",
       "2           1  22.0         1.0\n",
       "3           1  22.0         1.0\n",
       "4           0  27.0         0.0"
      ]
     },
     "execution_count": 54,
     "metadata": {},
     "output_type": "execute_result"
    }
   ],
   "source": [
    "X.head()"
   ]
  },
  {
   "cell_type": "code",
   "execution_count": 55,
   "id": "f934ccdf-a00a-4f47-863b-7c9e57d91631",
   "metadata": {},
   "outputs": [
    {
     "data": {
      "text/plain": [
       "0    32889\n",
       "1    15944\n",
       "2    40343\n",
       "3    19018\n",
       "4    24795\n",
       "Name: Salary, dtype: int64"
      ]
     },
     "execution_count": 55,
     "metadata": {},
     "output_type": "execute_result"
    }
   ],
   "source": [
    "y.head()"
   ]
  },
  {
   "cell_type": "code",
   "execution_count": 56,
   "id": "d0362de6-c5a2-493a-84b4-3e9156be8c83",
   "metadata": {},
   "outputs": [],
   "source": [
    "from sklearn.model_selection import train_test_split"
   ]
  },
  {
   "cell_type": "code",
   "execution_count": 57,
   "id": "476d532f-d358-4513-9588-cf959aa99af5",
   "metadata": {},
   "outputs": [],
   "source": [
    "x_train,x_test,y_train,y_test=train_test_split(X,y,test_size=0.2,random_state=0)"
   ]
  },
  {
   "cell_type": "code",
   "execution_count": 59,
   "id": "5bd05278-7739-4de0-8f55-3b348dcc97ea",
   "metadata": {},
   "outputs": [],
   "source": [
    "#mydata.drop(['Employee Id','First Name','Last Name'],axis=1,inplace=True)"
   ]
  },
  {
   "cell_type": "code",
   "execution_count": 60,
   "id": "43c31721-e870-4547-a982-4b1cd5993963",
   "metadata": {},
   "outputs": [
    {
     "data": {
      "text/html": [
       "<div>\n",
       "<style scoped>\n",
       "    .dataframe tbody tr th:only-of-type {\n",
       "        vertical-align: middle;\n",
       "    }\n",
       "\n",
       "    .dataframe tbody tr th {\n",
       "        vertical-align: top;\n",
       "    }\n",
       "\n",
       "    .dataframe thead th {\n",
       "        text-align: right;\n",
       "    }\n",
       "</style>\n",
       "<table border=\"1\" class=\"dataframe\">\n",
       "  <thead>\n",
       "    <tr style=\"text-align: right;\">\n",
       "      <th></th>\n",
       "      <th>Department</th>\n",
       "      <th>Age</th>\n",
       "      <th>Experience</th>\n",
       "      <th>Salary</th>\n",
       "    </tr>\n",
       "  </thead>\n",
       "  <tbody>\n",
       "    <tr>\n",
       "      <th>0</th>\n",
       "      <td>2</td>\n",
       "      <td>28.0</td>\n",
       "      <td>3.0</td>\n",
       "      <td>32889</td>\n",
       "    </tr>\n",
       "    <tr>\n",
       "      <th>1</th>\n",
       "      <td>2</td>\n",
       "      <td>22.0</td>\n",
       "      <td>1.0</td>\n",
       "      <td>15944</td>\n",
       "    </tr>\n",
       "    <tr>\n",
       "      <th>2</th>\n",
       "      <td>1</td>\n",
       "      <td>22.0</td>\n",
       "      <td>1.0</td>\n",
       "      <td>40343</td>\n",
       "    </tr>\n",
       "    <tr>\n",
       "      <th>3</th>\n",
       "      <td>1</td>\n",
       "      <td>22.0</td>\n",
       "      <td>1.0</td>\n",
       "      <td>19018</td>\n",
       "    </tr>\n",
       "    <tr>\n",
       "      <th>4</th>\n",
       "      <td>0</td>\n",
       "      <td>27.0</td>\n",
       "      <td>0.0</td>\n",
       "      <td>24795</td>\n",
       "    </tr>\n",
       "  </tbody>\n",
       "</table>\n",
       "</div>"
      ],
      "text/plain": [
       "   Department   Age  Experience  Salary\n",
       "0           2  28.0         3.0   32889\n",
       "1           2  22.0         1.0   15944\n",
       "2           1  22.0         1.0   40343\n",
       "3           1  22.0         1.0   19018\n",
       "4           0  27.0         0.0   24795"
      ]
     },
     "execution_count": 60,
     "metadata": {},
     "output_type": "execute_result"
    }
   ],
   "source": [
    "mydata.head()"
   ]
  },
  {
   "cell_type": "code",
   "execution_count": 61,
   "id": "fc4d410e-f146-462f-b378-4cde8ec4be55",
   "metadata": {},
   "outputs": [
    {
     "data": {
      "text/html": [
       "<style>#sk-container-id-1 {color: black;background-color: white;}#sk-container-id-1 pre{padding: 0;}#sk-container-id-1 div.sk-toggleable {background-color: white;}#sk-container-id-1 label.sk-toggleable__label {cursor: pointer;display: block;width: 100%;margin-bottom: 0;padding: 0.3em;box-sizing: border-box;text-align: center;}#sk-container-id-1 label.sk-toggleable__label-arrow:before {content: \"▸\";float: left;margin-right: 0.25em;color: #696969;}#sk-container-id-1 label.sk-toggleable__label-arrow:hover:before {color: black;}#sk-container-id-1 div.sk-estimator:hover label.sk-toggleable__label-arrow:before {color: black;}#sk-container-id-1 div.sk-toggleable__content {max-height: 0;max-width: 0;overflow: hidden;text-align: left;background-color: #f0f8ff;}#sk-container-id-1 div.sk-toggleable__content pre {margin: 0.2em;color: black;border-radius: 0.25em;background-color: #f0f8ff;}#sk-container-id-1 input.sk-toggleable__control:checked~div.sk-toggleable__content {max-height: 200px;max-width: 100%;overflow: auto;}#sk-container-id-1 input.sk-toggleable__control:checked~label.sk-toggleable__label-arrow:before {content: \"▾\";}#sk-container-id-1 div.sk-estimator input.sk-toggleable__control:checked~label.sk-toggleable__label {background-color: #d4ebff;}#sk-container-id-1 div.sk-label input.sk-toggleable__control:checked~label.sk-toggleable__label {background-color: #d4ebff;}#sk-container-id-1 input.sk-hidden--visually {border: 0;clip: rect(1px 1px 1px 1px);clip: rect(1px, 1px, 1px, 1px);height: 1px;margin: -1px;overflow: hidden;padding: 0;position: absolute;width: 1px;}#sk-container-id-1 div.sk-estimator {font-family: monospace;background-color: #f0f8ff;border: 1px dotted black;border-radius: 0.25em;box-sizing: border-box;margin-bottom: 0.5em;}#sk-container-id-1 div.sk-estimator:hover {background-color: #d4ebff;}#sk-container-id-1 div.sk-parallel-item::after {content: \"\";width: 100%;border-bottom: 1px solid gray;flex-grow: 1;}#sk-container-id-1 div.sk-label:hover label.sk-toggleable__label {background-color: #d4ebff;}#sk-container-id-1 div.sk-serial::before {content: \"\";position: absolute;border-left: 1px solid gray;box-sizing: border-box;top: 0;bottom: 0;left: 50%;z-index: 0;}#sk-container-id-1 div.sk-serial {display: flex;flex-direction: column;align-items: center;background-color: white;padding-right: 0.2em;padding-left: 0.2em;position: relative;}#sk-container-id-1 div.sk-item {position: relative;z-index: 1;}#sk-container-id-1 div.sk-parallel {display: flex;align-items: stretch;justify-content: center;background-color: white;position: relative;}#sk-container-id-1 div.sk-item::before, #sk-container-id-1 div.sk-parallel-item::before {content: \"\";position: absolute;border-left: 1px solid gray;box-sizing: border-box;top: 0;bottom: 0;left: 50%;z-index: -1;}#sk-container-id-1 div.sk-parallel-item {display: flex;flex-direction: column;z-index: 1;position: relative;background-color: white;}#sk-container-id-1 div.sk-parallel-item:first-child::after {align-self: flex-end;width: 50%;}#sk-container-id-1 div.sk-parallel-item:last-child::after {align-self: flex-start;width: 50%;}#sk-container-id-1 div.sk-parallel-item:only-child::after {width: 0;}#sk-container-id-1 div.sk-dashed-wrapped {border: 1px dashed gray;margin: 0 0.4em 0.5em 0.4em;box-sizing: border-box;padding-bottom: 0.4em;background-color: white;}#sk-container-id-1 div.sk-label label {font-family: monospace;font-weight: bold;display: inline-block;line-height: 1.2em;}#sk-container-id-1 div.sk-label-container {text-align: center;}#sk-container-id-1 div.sk-container {/* jupyter's `normalize.less` sets `[hidden] { display: none; }` but bootstrap.min.css set `[hidden] { display: none !important; }` so we also need the `!important` here to be able to override the default hidden behavior on the sphinx rendered scikit-learn.org. See: https://github.com/scikit-learn/scikit-learn/issues/21755 */display: inline-block !important;position: relative;}#sk-container-id-1 div.sk-text-repr-fallback {display: none;}</style><div id=\"sk-container-id-1\" class=\"sk-top-container\"><div class=\"sk-text-repr-fallback\"><pre>LinearRegression()</pre><b>In a Jupyter environment, please rerun this cell to show the HTML representation or trust the notebook. <br />On GitHub, the HTML representation is unable to render, please try loading this page with nbviewer.org.</b></div><div class=\"sk-container\" hidden><div class=\"sk-item\"><div class=\"sk-estimator sk-toggleable\"><input class=\"sk-toggleable__control sk-hidden--visually\" id=\"sk-estimator-id-1\" type=\"checkbox\" checked><label for=\"sk-estimator-id-1\" class=\"sk-toggleable__label sk-toggleable__label-arrow\">LinearRegression</label><div class=\"sk-toggleable__content\"><pre>LinearRegression()</pre></div></div></div></div></div>"
      ],
      "text/plain": [
       "LinearRegression()"
      ]
     },
     "execution_count": 61,
     "metadata": {},
     "output_type": "execute_result"
    }
   ],
   "source": [
    "#model buliding \n",
    "# using linear regression \n",
    "from sklearn.linear_model import LinearRegression\n",
    "lr=LinearRegression()\n",
    "lr.fit(x_train,y_train)"
   ]
  },
  {
   "cell_type": "code",
   "execution_count": 62,
   "id": "f9133a69-c377-4918-95e3-45bba88e4e77",
   "metadata": {},
   "outputs": [],
   "source": [
    "y_pred=lr.predict(x_test)"
   ]
  },
  {
   "cell_type": "code",
   "execution_count": 63,
   "id": "0fd13dcb-a2c6-4f96-965d-5482c1be3289",
   "metadata": {},
   "outputs": [
    {
     "data": {
      "text/plain": [
       "0.8606665615404141"
      ]
     },
     "execution_count": 63,
     "metadata": {},
     "output_type": "execute_result"
    }
   ],
   "source": [
    "#training score\n",
    "lr.score(x_train,y_train)"
   ]
  },
  {
   "cell_type": "code",
   "execution_count": 64,
   "id": "d85541ee-a9f1-40df-9c71-61ea5686bcdf",
   "metadata": {},
   "outputs": [
    {
     "data": {
      "text/plain": [
       "0.7607614244020808"
      ]
     },
     "execution_count": 64,
     "metadata": {},
     "output_type": "execute_result"
    }
   ],
   "source": [
    "#testing score\n",
    "lr.score(x_test,y_test)"
   ]
  },
  {
   "cell_type": "code",
   "execution_count": 65,
   "id": "c60596ee-d697-4f04-9d8c-c96facd66393",
   "metadata": {},
   "outputs": [
    {
     "data": {
      "text/plain": [
       "array([54121.42763012, 85056.55187203, 14790.92184279, 90642.07074615,\n",
       "       79471.0329979 , 93630.28284709, 26212.79803567, 88301.18522469,\n",
       "       99546.29456736, 93131.09945647, 73406.87808878, 74492.97557727,\n",
       "       82715.66635056, 15077.54933531, 32525.29789079, 70418.66598784,\n",
       "       31585.7610117 , 26755.84677992, 58892.44046883, 35557.37534535])"
      ]
     },
     "execution_count": 65,
     "metadata": {},
     "output_type": "execute_result"
    }
   ],
   "source": [
    "y_pred=lr.predict(x_test)\n",
    "y_pred"
   ]
  },
  {
   "cell_type": "code",
   "execution_count": null,
   "id": "614565eb-42c5-4916-a641-0653e41ffd5f",
   "metadata": {},
   "outputs": [],
   "source": []
  }
 ],
 "metadata": {
  "kernelspec": {
   "display_name": "Python 3 (ipykernel)",
   "language": "python",
   "name": "python3"
  },
  "language_info": {
   "codemirror_mode": {
    "name": "ipython",
    "version": 3
   },
   "file_extension": ".py",
   "mimetype": "text/x-python",
   "name": "python",
   "nbconvert_exporter": "python",
   "pygments_lexer": "ipython3",
   "version": "3.11.7"
  }
 },
 "nbformat": 4,
 "nbformat_minor": 5
}
