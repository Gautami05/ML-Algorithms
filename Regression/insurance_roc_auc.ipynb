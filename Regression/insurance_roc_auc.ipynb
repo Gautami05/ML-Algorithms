{
 "cells": [
  {
   "cell_type": "code",
   "execution_count": 1,
   "id": "09722022-cc8d-4e8f-b2e5-2ca4c248d01a",
   "metadata": {},
   "outputs": [],
   "source": [
    "# import the libraries \n",
    "import os,sys\n",
    "import pandas as pd\n",
    "import numpy as np\n",
    "import matplotlib.pyplot as plt\n",
    "import seaborn as sns\n",
    "from scipy import stats\n",
    "%matplotlib inline\n",
    "import warnings\n",
    "warnings.filterwarnings('ignore')"
   ]
  },
  {
   "cell_type": "code",
   "execution_count": 2,
   "id": "338ae7e9-4b9f-4bb7-b1da-864c290dee4f",
   "metadata": {},
   "outputs": [],
   "source": [
    "df=pd.read_csv('insurance.csv')"
   ]
  },
  {
   "cell_type": "code",
   "execution_count": 3,
   "id": "f8d16512-24d8-48a4-bebe-63e3a5fb9c80",
   "metadata": {},
   "outputs": [
    {
     "data": {
      "text/html": [
       "<div>\n",
       "<style scoped>\n",
       "    .dataframe tbody tr th:only-of-type {\n",
       "        vertical-align: middle;\n",
       "    }\n",
       "\n",
       "    .dataframe tbody tr th {\n",
       "        vertical-align: top;\n",
       "    }\n",
       "\n",
       "    .dataframe thead th {\n",
       "        text-align: right;\n",
       "    }\n",
       "</style>\n",
       "<table border=\"1\" class=\"dataframe\">\n",
       "  <thead>\n",
       "    <tr style=\"text-align: right;\">\n",
       "      <th></th>\n",
       "      <th>age</th>\n",
       "      <th>sex</th>\n",
       "      <th>bmi</th>\n",
       "      <th>children</th>\n",
       "      <th>smoker</th>\n",
       "      <th>region</th>\n",
       "      <th>charges</th>\n",
       "      <th>insuranceclaim</th>\n",
       "    </tr>\n",
       "  </thead>\n",
       "  <tbody>\n",
       "    <tr>\n",
       "      <th>0</th>\n",
       "      <td>19</td>\n",
       "      <td>0</td>\n",
       "      <td>27.900</td>\n",
       "      <td>0</td>\n",
       "      <td>1</td>\n",
       "      <td>3</td>\n",
       "      <td>16884.92400</td>\n",
       "      <td>1</td>\n",
       "    </tr>\n",
       "    <tr>\n",
       "      <th>1</th>\n",
       "      <td>18</td>\n",
       "      <td>1</td>\n",
       "      <td>33.770</td>\n",
       "      <td>1</td>\n",
       "      <td>0</td>\n",
       "      <td>2</td>\n",
       "      <td>1725.55230</td>\n",
       "      <td>1</td>\n",
       "    </tr>\n",
       "    <tr>\n",
       "      <th>2</th>\n",
       "      <td>28</td>\n",
       "      <td>1</td>\n",
       "      <td>33.000</td>\n",
       "      <td>3</td>\n",
       "      <td>0</td>\n",
       "      <td>2</td>\n",
       "      <td>4449.46200</td>\n",
       "      <td>0</td>\n",
       "    </tr>\n",
       "    <tr>\n",
       "      <th>3</th>\n",
       "      <td>33</td>\n",
       "      <td>1</td>\n",
       "      <td>22.705</td>\n",
       "      <td>0</td>\n",
       "      <td>0</td>\n",
       "      <td>1</td>\n",
       "      <td>21984.47061</td>\n",
       "      <td>0</td>\n",
       "    </tr>\n",
       "    <tr>\n",
       "      <th>4</th>\n",
       "      <td>32</td>\n",
       "      <td>1</td>\n",
       "      <td>28.880</td>\n",
       "      <td>0</td>\n",
       "      <td>0</td>\n",
       "      <td>1</td>\n",
       "      <td>3866.85520</td>\n",
       "      <td>1</td>\n",
       "    </tr>\n",
       "  </tbody>\n",
       "</table>\n",
       "</div>"
      ],
      "text/plain": [
       "   age  sex     bmi  children  smoker  region      charges  insuranceclaim\n",
       "0   19    0  27.900         0       1       3  16884.92400               1\n",
       "1   18    1  33.770         1       0       2   1725.55230               1\n",
       "2   28    1  33.000         3       0       2   4449.46200               0\n",
       "3   33    1  22.705         0       0       1  21984.47061               0\n",
       "4   32    1  28.880         0       0       1   3866.85520               1"
      ]
     },
     "execution_count": 3,
     "metadata": {},
     "output_type": "execute_result"
    }
   ],
   "source": [
    "df.head()"
   ]
  },
  {
   "cell_type": "code",
   "execution_count": 4,
   "id": "ec5debd1-31c3-4c6d-aeac-545f60b79418",
   "metadata": {},
   "outputs": [
    {
     "data": {
      "text/plain": [
       "(1338, 8)"
      ]
     },
     "execution_count": 4,
     "metadata": {},
     "output_type": "execute_result"
    }
   ],
   "source": [
    "df.shape"
   ]
  },
  {
   "cell_type": "code",
   "execution_count": 5,
   "id": "9c912d27-5cd4-4bf2-916b-bb3b37111f0f",
   "metadata": {},
   "outputs": [
    {
     "data": {
      "text/plain": [
       "age               0\n",
       "sex               0\n",
       "bmi               0\n",
       "children          0\n",
       "smoker            0\n",
       "region            0\n",
       "charges           0\n",
       "insuranceclaim    0\n",
       "dtype: int64"
      ]
     },
     "execution_count": 5,
     "metadata": {},
     "output_type": "execute_result"
    }
   ],
   "source": [
    "df.isnull().sum()"
   ]
  },
  {
   "cell_type": "code",
   "execution_count": 6,
   "id": "27b2c405-5d4a-4425-8db1-7f3ebfbf4e40",
   "metadata": {},
   "outputs": [
    {
     "name": "stdout",
     "output_type": "stream",
     "text": [
      "<class 'pandas.core.frame.DataFrame'>\n",
      "RangeIndex: 1338 entries, 0 to 1337\n",
      "Data columns (total 8 columns):\n",
      " #   Column          Non-Null Count  Dtype  \n",
      "---  ------          --------------  -----  \n",
      " 0   age             1338 non-null   int64  \n",
      " 1   sex             1338 non-null   int64  \n",
      " 2   bmi             1338 non-null   float64\n",
      " 3   children        1338 non-null   int64  \n",
      " 4   smoker          1338 non-null   int64  \n",
      " 5   region          1338 non-null   int64  \n",
      " 6   charges         1338 non-null   float64\n",
      " 7   insuranceclaim  1338 non-null   int64  \n",
      "dtypes: float64(2), int64(6)\n",
      "memory usage: 83.8 KB\n"
     ]
    }
   ],
   "source": [
    "df.info()"
   ]
  },
  {
   "cell_type": "code",
   "execution_count": null,
   "id": "b76320b1-94c7-48ae-88c5-39c139d27561",
   "metadata": {},
   "outputs": [],
   "source": []
  },
  {
   "cell_type": "code",
   "execution_count": null,
   "id": "0ffeac20-6e02-422e-9448-2a1e2fe0aaa8",
   "metadata": {},
   "outputs": [],
   "source": []
  },
  {
   "cell_type": "code",
   "execution_count": 7,
   "id": "ffc2ad98-da94-44a2-8ad7-97b66412fce5",
   "metadata": {},
   "outputs": [],
   "source": [
    "X=df.drop('insuranceclaim',axis=1)\n",
    "y=df['insuranceclaim']"
   ]
  },
  {
   "cell_type": "code",
   "execution_count": 8,
   "id": "af23d050-b71c-4e6a-ae95-55370b95981d",
   "metadata": {},
   "outputs": [
    {
     "data": {
      "text/html": [
       "<div>\n",
       "<style scoped>\n",
       "    .dataframe tbody tr th:only-of-type {\n",
       "        vertical-align: middle;\n",
       "    }\n",
       "\n",
       "    .dataframe tbody tr th {\n",
       "        vertical-align: top;\n",
       "    }\n",
       "\n",
       "    .dataframe thead th {\n",
       "        text-align: right;\n",
       "    }\n",
       "</style>\n",
       "<table border=\"1\" class=\"dataframe\">\n",
       "  <thead>\n",
       "    <tr style=\"text-align: right;\">\n",
       "      <th></th>\n",
       "      <th>age</th>\n",
       "      <th>sex</th>\n",
       "      <th>bmi</th>\n",
       "      <th>children</th>\n",
       "      <th>smoker</th>\n",
       "      <th>region</th>\n",
       "      <th>charges</th>\n",
       "    </tr>\n",
       "  </thead>\n",
       "  <tbody>\n",
       "    <tr>\n",
       "      <th>0</th>\n",
       "      <td>19</td>\n",
       "      <td>0</td>\n",
       "      <td>27.900</td>\n",
       "      <td>0</td>\n",
       "      <td>1</td>\n",
       "      <td>3</td>\n",
       "      <td>16884.92400</td>\n",
       "    </tr>\n",
       "    <tr>\n",
       "      <th>1</th>\n",
       "      <td>18</td>\n",
       "      <td>1</td>\n",
       "      <td>33.770</td>\n",
       "      <td>1</td>\n",
       "      <td>0</td>\n",
       "      <td>2</td>\n",
       "      <td>1725.55230</td>\n",
       "    </tr>\n",
       "    <tr>\n",
       "      <th>2</th>\n",
       "      <td>28</td>\n",
       "      <td>1</td>\n",
       "      <td>33.000</td>\n",
       "      <td>3</td>\n",
       "      <td>0</td>\n",
       "      <td>2</td>\n",
       "      <td>4449.46200</td>\n",
       "    </tr>\n",
       "    <tr>\n",
       "      <th>3</th>\n",
       "      <td>33</td>\n",
       "      <td>1</td>\n",
       "      <td>22.705</td>\n",
       "      <td>0</td>\n",
       "      <td>0</td>\n",
       "      <td>1</td>\n",
       "      <td>21984.47061</td>\n",
       "    </tr>\n",
       "    <tr>\n",
       "      <th>4</th>\n",
       "      <td>32</td>\n",
       "      <td>1</td>\n",
       "      <td>28.880</td>\n",
       "      <td>0</td>\n",
       "      <td>0</td>\n",
       "      <td>1</td>\n",
       "      <td>3866.85520</td>\n",
       "    </tr>\n",
       "  </tbody>\n",
       "</table>\n",
       "</div>"
      ],
      "text/plain": [
       "   age  sex     bmi  children  smoker  region      charges\n",
       "0   19    0  27.900         0       1       3  16884.92400\n",
       "1   18    1  33.770         1       0       2   1725.55230\n",
       "2   28    1  33.000         3       0       2   4449.46200\n",
       "3   33    1  22.705         0       0       1  21984.47061\n",
       "4   32    1  28.880         0       0       1   3866.85520"
      ]
     },
     "execution_count": 8,
     "metadata": {},
     "output_type": "execute_result"
    }
   ],
   "source": [
    "X.head()"
   ]
  },
  {
   "cell_type": "code",
   "execution_count": 9,
   "id": "2827c645-7708-4914-960d-6878d03059fa",
   "metadata": {},
   "outputs": [
    {
     "data": {
      "text/plain": [
       "0       1\n",
       "1       1\n",
       "2       0\n",
       "3       0\n",
       "4       1\n",
       "       ..\n",
       "1333    0\n",
       "1334    1\n",
       "1335    1\n",
       "1336    0\n",
       "1337    1\n",
       "Name: insuranceclaim, Length: 1338, dtype: int64"
      ]
     },
     "execution_count": 9,
     "metadata": {},
     "output_type": "execute_result"
    }
   ],
   "source": [
    "y"
   ]
  },
  {
   "cell_type": "code",
   "execution_count": 10,
   "id": "465b89ec-e534-4d6f-9845-707313a51b65",
   "metadata": {},
   "outputs": [],
   "source": [
    "from sklearn.model_selection import train_test_split\n",
    "x_train,x_test,y_train,y_test=train_test_split(X,y,test_size=0.2,random_state=101)"
   ]
  },
  {
   "cell_type": "code",
   "execution_count": 11,
   "id": "04bf1c1c-1be6-47ac-b670-5969528899be",
   "metadata": {},
   "outputs": [],
   "source": [
    "#model building\n",
    "from sklearn.linear_model import LogisticRegression\n",
    "log=LogisticRegression()\n",
    "log.fit(x_train,y_train)\n",
    "y_pred=log.predict(x_test)"
   ]
  },
  {
   "cell_type": "code",
   "execution_count": 12,
   "id": "cf247fa0-9d43-4fa3-b2cc-25bdad911500",
   "metadata": {},
   "outputs": [],
   "source": [
    "from sklearn.metrics import confusion_matrix,classification_report,accuracy_score"
   ]
  },
  {
   "cell_type": "code",
   "execution_count": 13,
   "id": "5a491fe9-dc82-4210-ac51-1d9eed90704c",
   "metadata": {},
   "outputs": [
    {
     "data": {
      "text/plain": [
       "array([[ 65,  40],\n",
       "       [ 18, 145]], dtype=int64)"
      ]
     },
     "execution_count": 13,
     "metadata": {},
     "output_type": "execute_result"
    }
   ],
   "source": [
    "confusion_matrix(y_test,y_pred)"
   ]
  },
  {
   "cell_type": "code",
   "execution_count": 14,
   "id": "5bb75dc9-2760-43d9-9449-7f7a9f81d879",
   "metadata": {},
   "outputs": [
    {
     "data": {
      "text/plain": [
       "0.7835820895522388"
      ]
     },
     "execution_count": 14,
     "metadata": {},
     "output_type": "execute_result"
    }
   ],
   "source": [
    "accuracy_score(y_test,y_pred)"
   ]
  },
  {
   "cell_type": "code",
   "execution_count": 15,
   "id": "c10fb663-13a5-488c-be7f-1bc690dd69da",
   "metadata": {},
   "outputs": [
    {
     "name": "stdout",
     "output_type": "stream",
     "text": [
      "precesion: 0.7837837837837838\n",
      "recall: 0.8895705521472392\n"
     ]
    }
   ],
   "source": [
    "from sklearn.metrics import precision_score,recall_score\n",
    "prec=precision_score(y_test,y_pred)\n",
    "recall=recall_score(y_test,y_pred)\n",
    "print('precesion:',prec)\n",
    "print('recall:' , recall)"
   ]
  },
  {
   "cell_type": "code",
   "execution_count": 16,
   "id": "9f30af2a-3caa-48ac-a0c5-0bd8025e501c",
   "metadata": {},
   "outputs": [
    {
     "name": "stdout",
     "output_type": "stream",
     "text": [
      "              precision    recall  f1-score   support\n",
      "\n",
      "           0       0.78      0.62      0.69       105\n",
      "           1       0.78      0.89      0.83       163\n",
      "\n",
      "    accuracy                           0.78       268\n",
      "   macro avg       0.78      0.75      0.76       268\n",
      "weighted avg       0.78      0.78      0.78       268\n",
      "\n"
     ]
    }
   ],
   "source": [
    "from sklearn.metrics import classification_report\n",
    "print(classification_report(y_test,y_pred))"
   ]
  },
  {
   "cell_type": "code",
   "execution_count": 17,
   "id": "40a8ab87-5b31-4fa8-b7d1-96b012e180b4",
   "metadata": {},
   "outputs": [],
   "source": [
    "from sklearn.metrics import roc_auc_score"
   ]
  },
  {
   "cell_type": "code",
   "execution_count": 18,
   "id": "334347de-1175-40ab-bc00-7b72f30a945b",
   "metadata": {},
   "outputs": [
    {
     "name": "stdout",
     "output_type": "stream",
     "text": [
      "Area under curve: 0.7543090855974292\n"
     ]
    }
   ],
   "source": [
    "log_roc_auc_score=roc_auc_score(y_test,y_pred)\n",
    "print('Area under curve:',log_roc_auc_score)"
   ]
  },
  {
   "cell_type": "code",
   "execution_count": 19,
   "id": "d47e2706-6bb5-4e92-8ee1-5cb74be328e0",
   "metadata": {},
   "outputs": [
    {
     "data": {
      "text/plain": [
       "array([1, 1, 1, 1, 0, 1, 1, 0, 1, 0, 1, 1, 0, 1, 1, 1, 0, 0, 1, 1, 1, 1,\n",
       "       1, 1, 1, 1, 1, 1, 1, 0, 1, 0, 1, 0, 1, 1, 1, 0, 1, 1, 1, 0, 0, 1,\n",
       "       1, 1, 0, 1, 1, 1, 0, 1, 0, 0, 1, 1, 1, 0, 1, 0, 1, 1, 1, 1, 1, 1,\n",
       "       1, 1, 1, 1, 1, 1, 1, 1, 0, 1, 0, 1, 0, 1, 1, 1, 1, 1, 0, 1, 0, 1,\n",
       "       0, 1, 1, 1, 0, 1, 1, 1, 0, 1, 0, 1, 0, 1, 1, 1, 1, 1, 0, 0, 1, 1,\n",
       "       1, 0, 1, 1, 1, 1, 1, 1, 0, 1, 0, 1, 1, 0, 1, 1, 0, 1, 1, 1, 1, 1,\n",
       "       0, 0, 0, 0, 1, 1, 1, 0, 1, 1, 1, 1, 1, 1, 1, 1, 1, 1, 1, 1, 1, 0,\n",
       "       1, 1, 1, 1, 0, 1, 0, 1, 0, 1, 1, 0, 1, 0, 1, 0, 1, 1, 1, 1, 1, 0,\n",
       "       1, 1, 1, 1, 1, 0, 0, 1, 1, 0, 1, 0, 1, 0, 1, 1, 1, 1, 1, 1, 0, 0,\n",
       "       0, 1, 0, 0, 1, 1, 1, 1, 1, 0, 0, 1, 1, 0, 0, 1, 1, 0, 0, 1, 1, 0,\n",
       "       1, 1, 0, 0, 1, 1, 1, 1, 0, 1, 0, 1, 0, 0, 0, 1, 1, 1, 0, 1, 0, 0,\n",
       "       1, 0, 0, 1, 1, 1, 0, 0, 1, 1, 1, 1, 1, 1, 0, 1, 1, 1, 0, 1, 1, 1,\n",
       "       0, 0, 1, 1], dtype=int64)"
      ]
     },
     "execution_count": 19,
     "metadata": {},
     "output_type": "execute_result"
    }
   ],
   "source": [
    "log.predict(x_test)"
   ]
  },
  {
   "cell_type": "code",
   "execution_count": 20,
   "id": "704b6e41-10ae-45dd-b4c6-abb76b1d28d9",
   "metadata": {},
   "outputs": [
    {
     "data": {
      "text/plain": [
       "array([1, 1, 1, 1, 0, 1, 1, 0, 1, 0, 1, 1, 0, 1, 1, 1, 0, 0, 1, 1, 1, 1,\n",
       "       1, 1, 1, 1, 1, 1, 1, 0, 1, 0, 1, 0, 1, 1, 1, 0, 1, 1, 1, 0, 0, 1,\n",
       "       1, 1, 0, 1, 1, 1, 0, 1, 0, 0, 1, 1, 1, 0, 1, 0, 1, 1, 1, 1, 1, 1,\n",
       "       1, 1, 1, 1, 1, 1, 1, 1, 0, 1, 0, 1, 0, 1, 1, 1, 1, 1, 0, 1, 0, 1,\n",
       "       0, 1, 1, 1, 0, 1, 1, 1, 0, 1, 0, 1, 0, 1, 1, 1, 1, 1, 0, 0, 1, 1,\n",
       "       1, 0, 1, 1, 1, 1, 1, 1, 0, 1, 0, 1, 1, 0, 1, 1, 0, 1, 1, 1, 1, 1,\n",
       "       0, 0, 0, 0, 1, 1, 1, 0, 1, 1, 1, 1, 1, 1, 1, 1, 1, 1, 1, 1, 1, 0,\n",
       "       1, 1, 1, 1, 0, 1, 0, 1, 0, 1, 1, 0, 1, 0, 1, 0, 1, 1, 1, 1, 1, 0,\n",
       "       1, 1, 1, 1, 1, 0, 0, 1, 1, 0, 1, 0, 1, 0, 1, 1, 1, 1, 1, 1, 0, 0,\n",
       "       0, 1, 0, 0, 1, 1, 1, 1, 1, 0, 0, 1, 1, 0, 0, 1, 1, 0, 0, 1, 1, 0,\n",
       "       1, 1, 0, 0, 1, 1, 1, 1, 0, 1, 0, 1, 0, 0, 0, 1, 1, 1, 0, 1, 0, 0,\n",
       "       1, 0, 0, 1, 1, 1, 0, 0, 1, 1, 1, 1, 1, 1, 0, 1, 1, 1, 0, 1, 1, 1,\n",
       "       0, 0, 1, 1])"
      ]
     },
     "execution_count": 20,
     "metadata": {},
     "output_type": "execute_result"
    }
   ],
   "source": [
    "# .predict_probability returns the probability values for class 0 and class 1\n",
    "proba=log.predict_proba(x_test)[:,-1]\n",
    "np.where(proba>=0.5,1,0)"
   ]
  },
  {
   "cell_type": "code",
   "execution_count": 21,
   "id": "8a93fb2a-aea8-4809-83bd-8b2bc6739f3b",
   "metadata": {},
   "outputs": [
    {
     "name": "stdout",
     "output_type": "stream",
     "text": [
      "[[3.72971928e-01 6.27028072e-01]\n",
      " [2.08253542e-01 7.91746458e-01]\n",
      " [1.60013680e-01 8.39986320e-01]\n",
      " [5.64185372e-03 9.94358146e-01]\n",
      " [9.30897596e-01 6.91024035e-02]\n",
      " [2.86671766e-01 7.13328234e-01]\n",
      " [1.24879819e-01 8.75120181e-01]\n",
      " [8.03417814e-01 1.96582186e-01]\n",
      " [4.18313212e-01 5.81686788e-01]\n",
      " [9.12943574e-01 8.70564255e-02]\n",
      " [4.95408851e-01 5.04591149e-01]\n",
      " [2.42588934e-01 7.57411066e-01]\n",
      " [5.50097131e-01 4.49902869e-01]\n",
      " [3.12415521e-02 9.68758448e-01]\n",
      " [1.23189742e-01 8.76810258e-01]\n",
      " [4.75980190e-02 9.52401981e-01]\n",
      " [9.05692939e-01 9.43070607e-02]\n",
      " [9.40470219e-01 5.95297812e-02]\n",
      " [1.62661039e-01 8.37338961e-01]\n",
      " [6.60546571e-02 9.33945343e-01]\n",
      " [5.18885849e-02 9.48111415e-01]\n",
      " [1.71600867e-01 8.28399133e-01]\n",
      " [4.30493973e-01 5.69506027e-01]\n",
      " [3.85881181e-01 6.14118819e-01]\n",
      " [2.85518043e-01 7.14481957e-01]\n",
      " [6.16315892e-02 9.38368411e-01]\n",
      " [2.25865154e-01 7.74134846e-01]\n",
      " [7.95477658e-03 9.92045223e-01]\n",
      " [1.61848838e-02 9.83815116e-01]\n",
      " [5.66150497e-01 4.33849503e-01]\n",
      " [4.59467118e-01 5.40532882e-01]\n",
      " [5.98951729e-01 4.01048271e-01]\n",
      " [2.27622080e-01 7.72377920e-01]\n",
      " [5.49216606e-01 4.50783394e-01]\n",
      " [1.46643966e-01 8.53356034e-01]\n",
      " [1.22998882e-01 8.77001118e-01]\n",
      " [3.52014526e-01 6.47985474e-01]\n",
      " [9.89220303e-01 1.07796974e-02]\n",
      " [1.46761470e-01 8.53238530e-01]\n",
      " [2.38410745e-01 7.61589255e-01]\n",
      " [7.20727997e-02 9.27927200e-01]\n",
      " [5.70400580e-01 4.29599420e-01]\n",
      " [8.81623482e-01 1.18376518e-01]\n",
      " [4.81001779e-01 5.18998221e-01]\n",
      " [2.33935588e-01 7.66064412e-01]\n",
      " [1.56945515e-01 8.43054485e-01]\n",
      " [7.93566591e-01 2.06433409e-01]\n",
      " [2.57977314e-01 7.42022686e-01]\n",
      " [3.92353623e-01 6.07646377e-01]\n",
      " [2.74132350e-01 7.25867650e-01]\n",
      " [7.04940864e-01 2.95059136e-01]\n",
      " [2.25940489e-01 7.74059511e-01]\n",
      " [7.16771396e-01 2.83228604e-01]\n",
      " [7.26221308e-01 2.73778692e-01]\n",
      " [4.33913371e-01 5.66086629e-01]\n",
      " [1.49993508e-01 8.50006492e-01]\n",
      " [5.71503506e-02 9.42849649e-01]\n",
      " [9.18953760e-01 8.10462396e-02]\n",
      " [1.59931165e-01 8.40068835e-01]\n",
      " [9.91092271e-01 8.90772865e-03]\n",
      " [3.32598735e-01 6.67401265e-01]\n",
      " [3.86440916e-01 6.13559084e-01]\n",
      " [6.02165973e-02 9.39783403e-01]\n",
      " [3.80504318e-01 6.19495682e-01]\n",
      " [2.65071468e-01 7.34928532e-01]\n",
      " [1.10965971e-01 8.89034029e-01]\n",
      " [1.64551052e-01 8.35448948e-01]\n",
      " [3.44059633e-03 9.96559404e-01]\n",
      " [1.28114074e-01 8.71885926e-01]\n",
      " [1.98677723e-01 8.01322277e-01]\n",
      " [3.61758757e-03 9.96382412e-01]\n",
      " [6.47519216e-03 9.93524808e-01]\n",
      " [2.28338868e-01 7.71661132e-01]\n",
      " [2.27483948e-01 7.72516052e-01]\n",
      " [5.83651172e-01 4.16348828e-01]\n",
      " [2.82812065e-01 7.17187935e-01]\n",
      " [8.85965684e-01 1.14034316e-01]\n",
      " [7.45442105e-03 9.92545579e-01]\n",
      " [9.16896763e-01 8.31032370e-02]\n",
      " [2.90276178e-01 7.09723822e-01]\n",
      " [3.05836600e-02 9.69416340e-01]\n",
      " [2.74529760e-01 7.25470240e-01]\n",
      " [4.48995154e-03 9.95510048e-01]\n",
      " [3.01304300e-01 6.98695700e-01]\n",
      " [6.83463857e-01 3.16536143e-01]\n",
      " [1.82501434e-01 8.17498566e-01]\n",
      " [9.63315471e-01 3.66845294e-02]\n",
      " [3.79046518e-01 6.20953482e-01]\n",
      " [8.01903146e-01 1.98096854e-01]\n",
      " [4.34358854e-03 9.95656411e-01]\n",
      " [2.34162632e-01 7.65837368e-01]\n",
      " [2.89483845e-01 7.10516155e-01]\n",
      " [9.05257671e-01 9.47423294e-02]\n",
      " [1.56058297e-01 8.43941703e-01]\n",
      " [1.87483683e-01 8.12516317e-01]\n",
      " [2.12220359e-01 7.87779641e-01]\n",
      " [9.31933910e-01 6.80660897e-02]\n",
      " [5.29323170e-02 9.47067683e-01]\n",
      " [6.49164375e-01 3.50835625e-01]\n",
      " [7.14048068e-02 9.28595193e-01]\n",
      " [9.03986706e-01 9.60132942e-02]\n",
      " [1.51281218e-01 8.48718782e-01]\n",
      " [4.33279795e-01 5.66720205e-01]\n",
      " [3.05112692e-01 6.94887308e-01]\n",
      " [1.60856702e-02 9.83914330e-01]\n",
      " [4.42541014e-03 9.95574590e-01]\n",
      " [7.79882171e-01 2.20117829e-01]\n",
      " [7.75427083e-01 2.24572917e-01]\n",
      " [6.28296946e-02 9.37170305e-01]\n",
      " [2.33019806e-01 7.66980194e-01]\n",
      " [4.06321224e-01 5.93678776e-01]\n",
      " [8.65433425e-01 1.34566575e-01]\n",
      " [1.76851130e-01 8.23148870e-01]\n",
      " [7.19454957e-02 9.28054504e-01]\n",
      " [3.86920736e-01 6.13079264e-01]\n",
      " [3.51552796e-01 6.48447204e-01]\n",
      " [2.57670505e-01 7.42329495e-01]\n",
      " [3.27727487e-01 6.72272513e-01]\n",
      " [5.15406802e-01 4.84593198e-01]\n",
      " [4.69680720e-01 5.30319280e-01]\n",
      " [7.84162000e-01 2.15838000e-01]\n",
      " [1.90081850e-01 8.09918150e-01]\n",
      " [4.70981055e-01 5.29018945e-01]\n",
      " [6.96816612e-01 3.03183388e-01]\n",
      " [2.34742285e-01 7.65257715e-01]\n",
      " [1.33755479e-01 8.66244521e-01]\n",
      " [5.67786079e-01 4.32213921e-01]\n",
      " [3.39203370e-01 6.60796630e-01]\n",
      " [2.27942975e-01 7.72057025e-01]\n",
      " [4.57016169e-01 5.42983831e-01]\n",
      " [4.82360187e-01 5.17639813e-01]\n",
      " [2.40098665e-01 7.59901335e-01]\n",
      " [8.10884046e-01 1.89115954e-01]\n",
      " [7.10010206e-01 2.89989794e-01]\n",
      " [9.16321457e-01 8.36785433e-02]\n",
      " [9.21126428e-01 7.88735721e-02]\n",
      " [1.97212616e-01 8.02787384e-01]\n",
      " [2.17756521e-01 7.82243479e-01]\n",
      " [1.75736151e-01 8.24263849e-01]\n",
      " [8.81883310e-01 1.18116690e-01]\n",
      " [4.14815116e-02 9.58518488e-01]\n",
      " [2.70205428e-01 7.29794572e-01]\n",
      " [4.60251706e-03 9.95397483e-01]\n",
      " [3.93598289e-01 6.06401711e-01]\n",
      " [2.76367694e-01 7.23632306e-01]\n",
      " [9.51630660e-02 9.04836934e-01]\n",
      " [1.97713762e-01 8.02286238e-01]\n",
      " [1.77325065e-01 8.22674935e-01]\n",
      " [3.93625479e-03 9.96063745e-01]\n",
      " [2.81109729e-01 7.18890271e-01]\n",
      " [3.66166347e-01 6.33833653e-01]\n",
      " [2.23965751e-01 7.76034249e-01]\n",
      " [4.87077062e-01 5.12922938e-01]\n",
      " [5.82553226e-01 4.17446774e-01]\n",
      " [2.06247645e-04 9.99793752e-01]\n",
      " [1.87608941e-01 8.12391059e-01]\n",
      " [2.64155489e-01 7.35844511e-01]\n",
      " [1.38967532e-01 8.61032468e-01]\n",
      " [9.94206427e-01 5.79357332e-03]\n",
      " [7.73641923e-02 9.22635808e-01]\n",
      " [5.78405152e-01 4.21594848e-01]\n",
      " [1.53089479e-01 8.46910521e-01]\n",
      " [9.37986868e-01 6.20131323e-02]\n",
      " [3.06575544e-01 6.93424456e-01]\n",
      " [9.10082049e-02 9.08991795e-01]\n",
      " [8.89526147e-01 1.10473853e-01]\n",
      " [2.90606397e-01 7.09393603e-01]\n",
      " [8.04637946e-01 1.95362054e-01]\n",
      " [3.67620593e-01 6.32379407e-01]\n",
      " [6.64811819e-01 3.35188181e-01]\n",
      " [2.77545389e-01 7.22454611e-01]\n",
      " [4.13843712e-01 5.86156288e-01]\n",
      " [1.11639265e-01 8.88360735e-01]\n",
      " [1.07389202e-01 8.92610798e-01]\n",
      " [6.67191578e-02 9.33280842e-01]\n",
      " [5.40829426e-01 4.59170574e-01]\n",
      " [3.39100993e-01 6.60899007e-01]\n",
      " [1.64269874e-02 9.83573013e-01]\n",
      " [2.37936188e-01 7.62063812e-01]\n",
      " [2.10661428e-01 7.89338572e-01]\n",
      " [2.58459749e-01 7.41540251e-01]\n",
      " [6.23725021e-01 3.76274979e-01]\n",
      " [6.21437688e-01 3.78562312e-01]\n",
      " [1.76912972e-01 8.23087028e-01]\n",
      " [2.29306458e-01 7.70693542e-01]\n",
      " [7.34418168e-01 2.65581832e-01]\n",
      " [4.09290569e-03 9.95907094e-01]\n",
      " [6.50348337e-01 3.49651663e-01]\n",
      " [9.25897653e-02 9.07410235e-01]\n",
      " [6.75415395e-01 3.24584605e-01]\n",
      " [1.45087581e-01 8.54912419e-01]\n",
      " [2.11751252e-01 7.88248748e-01]\n",
      " [3.28730696e-01 6.71269304e-01]\n",
      " [2.98940055e-01 7.01059945e-01]\n",
      " [5.37928456e-03 9.94620715e-01]\n",
      " [1.80121936e-01 8.19878064e-01]\n",
      " [6.24910104e-01 3.75089896e-01]\n",
      " [7.05605998e-01 2.94394002e-01]\n",
      " [5.73890024e-01 4.26109976e-01]\n",
      " [3.15272135e-01 6.84727865e-01]\n",
      " [5.70920754e-01 4.29079246e-01]\n",
      " [8.71552973e-01 1.28447027e-01]\n",
      " [2.26489858e-01 7.73510142e-01]\n",
      " [1.98470960e-01 8.01529040e-01]\n",
      " [2.13045400e-01 7.86954600e-01]\n",
      " [4.21852695e-01 5.78147305e-01]\n",
      " [4.35198469e-01 5.64801531e-01]\n",
      " [9.37613451e-01 6.23865488e-02]\n",
      " [7.80020905e-01 2.19979095e-01]\n",
      " [2.89677887e-01 7.10322113e-01]\n",
      " [2.86204036e-01 7.13795964e-01]\n",
      " [8.47891037e-01 1.52108963e-01]\n",
      " [9.39239211e-01 6.07607890e-02]\n",
      " [1.94064879e-01 8.05935121e-01]\n",
      " [1.39513084e-01 8.60486916e-01]\n",
      " [9.13634746e-01 8.63652539e-02]\n",
      " [6.10322380e-01 3.89677620e-01]\n",
      " [3.47302780e-01 6.52697220e-01]\n",
      " [3.21411356e-01 6.78588644e-01]\n",
      " [9.01188950e-01 9.88110504e-02]\n",
      " [4.12914478e-01 5.87085522e-01]\n",
      " [4.51781330e-01 5.48218670e-01]\n",
      " [8.96188151e-01 1.03811849e-01]\n",
      " [7.72408464e-01 2.27591536e-01]\n",
      " [2.11555479e-01 7.88444521e-01]\n",
      " [2.95692519e-01 7.04307481e-01]\n",
      " [3.29683422e-01 6.70316578e-01]\n",
      " [3.11710608e-03 9.96882894e-01]\n",
      " [5.08909003e-01 4.91090997e-01]\n",
      " [4.56957058e-01 5.43042942e-01]\n",
      " [9.15420034e-01 8.45799662e-02]\n",
      " [1.60793249e-01 8.39206751e-01]\n",
      " [9.60031256e-01 3.99687441e-02]\n",
      " [9.08581654e-01 9.14183464e-02]\n",
      " [9.55560381e-01 4.44396195e-02]\n",
      " [1.86895083e-02 9.81310492e-01]\n",
      " [3.08708961e-01 6.91291039e-01]\n",
      " [2.23360917e-01 7.76639083e-01]\n",
      " [6.73341512e-01 3.26658488e-01]\n",
      " [2.40440061e-01 7.59559939e-01]\n",
      " [8.95097573e-01 1.04902427e-01]\n",
      " [7.04128965e-01 2.95871035e-01]\n",
      " [2.16981599e-01 7.83018401e-01]\n",
      " [7.85535752e-01 2.14464248e-01]\n",
      " [9.00310579e-01 9.96894214e-02]\n",
      " [2.04662105e-01 7.95337895e-01]\n",
      " [4.33627966e-02 9.56637203e-01]\n",
      " [2.44109435e-01 7.55890565e-01]\n",
      " [8.43481784e-01 1.56518216e-01]\n",
      " [7.00133635e-01 2.99866365e-01]\n",
      " [8.33833442e-02 9.16616656e-01]\n",
      " [3.54301015e-01 6.45698985e-01]\n",
      " [2.20425572e-01 7.79574428e-01]\n",
      " [1.33898993e-01 8.66101007e-01]\n",
      " [4.17631054e-01 5.82368946e-01]\n",
      " [2.08312002e-01 7.91687998e-01]\n",
      " [7.75415993e-01 2.24584007e-01]\n",
      " [1.38039088e-01 8.61960912e-01]\n",
      " [1.92856153e-01 8.07143847e-01]\n",
      " [6.32926353e-03 9.93670736e-01]\n",
      " [6.65901096e-01 3.34098904e-01]\n",
      " [5.44078642e-03 9.94559214e-01]\n",
      " [4.80777239e-02 9.51922276e-01]\n",
      " [2.24569950e-01 7.75430050e-01]\n",
      " [6.18043520e-01 3.81956480e-01]\n",
      " [6.76256705e-01 3.23743295e-01]\n",
      " [2.06038820e-01 7.93961180e-01]\n",
      " [1.92638889e-01 8.07361111e-01]]\n"
     ]
    }
   ],
   "source": [
    "proba=log.predict_proba(x_test)\n",
    "print(proba)"
   ]
  },
  {
   "cell_type": "code",
   "execution_count": 22,
   "id": "6502cf17-75a3-462c-b484-29799036184a",
   "metadata": {},
   "outputs": [],
   "source": [
    "proba=log.predict_proba(x_test)[:,-1]"
   ]
  },
  {
   "cell_type": "code",
   "execution_count": 23,
   "id": "a234de85-4eba-4ea3-aa67-b9a81b94b694",
   "metadata": {},
   "outputs": [],
   "source": [
    "threshold=[0.5,0.4,0.3,0.2,0.1]\n",
    "tprs=[]\n",
    "fprs=[]\n",
    "for i in threshold:\n",
    "    y_pred=np.where(proba>=i,1,0)\n",
    "    tn,fp,fn,tp=confusion_matrix(y_test,y_pred).ravel()\n",
    "    fpr=fp/(tn+fp)\n",
    "    tpr=tp/(fn+tp)\n",
    "    tprs.append(tpr)\n",
    "    fprs.append(fpr)"
   ]
  },
  {
   "cell_type": "code",
   "execution_count": 24,
   "id": "ed1e3ebd-94a2-410c-b820-39e498121e2b",
   "metadata": {},
   "outputs": [
    {
     "data": {
      "image/png": "[encoded data removed]",
      "text/plain": [
       "<Figure size 640x480 with 1 Axes>"
      ]
     },
     "metadata": {},
     "output_type": "display_data"
    }
   ],
   "source": [
    "plt.figure()\n",
    "plt.plot(fprs,tprs,'o--r')\n",
    "plt.xlabel('FPR')\n",
    "plt.ylabel('TPR')\n",
    "plt.title('ROC')\n",
    "plt.show()"
   ]
  },
  {
   "cell_type": "code",
   "execution_count": 25,
   "id": "b36e6c22-b066-43de-9713-3a696df4d6d4",
   "metadata": {},
   "outputs": [],
   "source": [
    "# here FPR increases TPR also increases \n",
    "# here suppose we want a model which gives good recall\n",
    "# here we have to change the threshold value\n",
    "# but we can observe the threshold=0.2 is giving the best values for tpr and fpr\n",
    "# so we can take threshold=0.2 for model"
   ]
  },
  {
   "cell_type": "code",
   "execution_count": 26,
   "id": "f72060ca-6f2e-4a9e-892f-41c152668a28",
   "metadata": {},
   "outputs": [],
   "source": [
    "y_pred=np.where(proba>=0.2,1,0)\n",
    "recall_score=(y_test,y_pred)"
   ]
  },
  {
   "cell_type": "code",
   "execution_count": 27,
   "id": "7694cded-7176-4525-8b17-32d34baa5a81",
   "metadata": {},
   "outputs": [
    {
     "name": "stdout",
     "output_type": "stream",
     "text": [
      "[0.        0.6952381 1.       ] [0.         0.95705521 1.        ] [2 1 0]\n"
     ]
    }
   ],
   "source": [
    "from sklearn.metrics import roc_curve\n",
    "fpr,tpr,threshold=roc_curve(y_test,y_pred)\n",
    "print(fpr,tpr,threshold)"
   ]
  },
  {
   "cell_type": "code",
   "execution_count": 28,
   "id": "b2865433-cd00-45aa-9651-70c5192b6713",
   "metadata": {},
   "outputs": [
    {
     "data": {
      "image/png": "[encoded data removed]",
      "text/plain": [
       "<Figure size 640x480 with 1 Axes>"
      ]
     },
     "metadata": {},
     "output_type": "display_data"
    }
   ],
   "source": [
    "plt.figure()\n",
    "plt.plot(fpr,tpr,label='ROC curve(area=%0.2f)'%log_roc_auc_score)\n",
    "plt.plot(fpr,tpr)\n",
    "plt.legend()\n",
    "plt.show()"
   ]
  },
  {
   "cell_type": "code",
   "execution_count": null,
   "id": "27675e1a-5a28-4a53-9296-cca47aae795e",
   "metadata": {},
   "outputs": [],
   "source": []
  }
 ],
 "metadata": {
  "kernelspec": {
   "display_name": "Python 3 (ipykernel)",
   "language": "python",
   "name": "python3"
  },
  "language_info": {
   "codemirror_mode": {
    "name": "ipython",
    "version": 3
   },
   "file_extension": ".py",
   "mimetype": "text/x-python",
   "name": "python",
   "nbconvert_exporter": "python",
   "pygments_lexer": "ipython3",
   "version": "3.11.7"
  }
 },
 "nbformat": 4,
 "nbformat_minor": 5
}
