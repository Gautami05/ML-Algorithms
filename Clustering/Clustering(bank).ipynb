{
 "cells": [
  {
   "cell_type": "code",
   "execution_count": 1,
   "id": "a18876b6-070c-42b6-8136-5428a9aa00dd",
   "metadata": {},
   "outputs": [],
   "source": [
    "# import the libraries :\n",
    "import os,sys\n",
    "import numpy as np\n",
    "import pandas as pd\n",
    "import matplotlib.pyplot as plt\n",
    "import seaborn as sns\n",
    "%matplotlib inline\n",
    "import warnings \n",
    "warnings.filterwarnings('ignore')\n",
    "from scipy import stats"
   ]
  },
  {
   "cell_type": "code",
   "execution_count": 2,
   "id": "27982bf9-67b1-4df9-a3e2-b91794bad044",
   "metadata": {},
   "outputs": [],
   "source": [
    "data=pd.read_csv(\"bank_clustering.csv\")"
   ]
  },
  {
   "cell_type": "code",
   "execution_count": 3,
   "id": "98fce3c2-2d0b-4757-94de-3409921f54dc",
   "metadata": {},
   "outputs": [
    {
     "data": {
      "text/html": [
       "<div>\n",
       "<style scoped>\n",
       "    .dataframe tbody tr th:only-of-type {\n",
       "        vertical-align: middle;\n",
       "    }\n",
       "\n",
       "    .dataframe tbody tr th {\n",
       "        vertical-align: top;\n",
       "    }\n",
       "\n",
       "    .dataframe thead th {\n",
       "        text-align: right;\n",
       "    }\n",
       "</style>\n",
       "<table border=\"1\" class=\"dataframe\">\n",
       "  <thead>\n",
       "    <tr style=\"text-align: right;\">\n",
       "      <th></th>\n",
       "      <th>Bank</th>\n",
       "      <th>DD</th>\n",
       "      <th>Withdrawals</th>\n",
       "      <th>Deposits</th>\n",
       "      <th>Branch Area in sqft</th>\n",
       "      <th>avg daily walkins</th>\n",
       "    </tr>\n",
       "  </thead>\n",
       "  <tbody>\n",
       "    <tr>\n",
       "      <th>0</th>\n",
       "      <td>1</td>\n",
       "      <td>227</td>\n",
       "      <td>147</td>\n",
       "      <td>111</td>\n",
       "      <td>2460</td>\n",
       "      <td>639</td>\n",
       "    </tr>\n",
       "    <tr>\n",
       "      <th>1</th>\n",
       "      <td>2</td>\n",
       "      <td>123</td>\n",
       "      <td>86</td>\n",
       "      <td>65</td>\n",
       "      <td>3510</td>\n",
       "      <td>436</td>\n",
       "    </tr>\n",
       "    <tr>\n",
       "      <th>2</th>\n",
       "      <td>3</td>\n",
       "      <td>306</td>\n",
       "      <td>149</td>\n",
       "      <td>76</td>\n",
       "      <td>2570</td>\n",
       "      <td>669</td>\n",
       "    </tr>\n",
       "    <tr>\n",
       "      <th>3</th>\n",
       "      <td>4</td>\n",
       "      <td>251</td>\n",
       "      <td>112</td>\n",
       "      <td>129</td>\n",
       "      <td>3650</td>\n",
       "      <td>623</td>\n",
       "    </tr>\n",
       "    <tr>\n",
       "      <th>4</th>\n",
       "      <td>5</td>\n",
       "      <td>174</td>\n",
       "      <td>135</td>\n",
       "      <td>128</td>\n",
       "      <td>3400</td>\n",
       "      <td>579</td>\n",
       "    </tr>\n",
       "  </tbody>\n",
       "</table>\n",
       "</div>"
      ],
      "text/plain": [
       "   Bank   DD  Withdrawals  Deposits  Branch Area in sqft  avg daily walkins\n",
       "0     1  227          147       111                 2460                639\n",
       "1     2  123           86        65                 3510                436\n",
       "2     3  306          149        76                 2570                669\n",
       "3     4  251          112       129                 3650                623\n",
       "4     5  174          135       128                 3400                579"
      ]
     },
     "execution_count": 3,
     "metadata": {},
     "output_type": "execute_result"
    }
   ],
   "source": [
    "data.head()"
   ]
  },
  {
   "cell_type": "code",
   "execution_count": 4,
   "id": "2b7b361c-2f94-4ac2-94d2-7a6862191e41",
   "metadata": {},
   "outputs": [
    {
     "data": {
      "text/plain": [
       "Bank                   0\n",
       "DD                     0\n",
       "Withdrawals            0\n",
       "Deposits               0\n",
       "Branch Area in sqft    0\n",
       "avg daily walkins      0\n",
       "dtype: int64"
      ]
     },
     "execution_count": 4,
     "metadata": {},
     "output_type": "execute_result"
    }
   ],
   "source": [
    "data.isnull().sum()"
   ]
  },
  {
   "cell_type": "code",
   "execution_count": 5,
   "id": "2308daea-b0c8-40be-a8f4-8a3969a6be43",
   "metadata": {},
   "outputs": [
    {
     "name": "stdout",
     "output_type": "stream",
     "text": [
      "<class 'pandas.core.frame.DataFrame'>\n",
      "RangeIndex: 515 entries, 0 to 514\n",
      "Data columns (total 6 columns):\n",
      " #   Column               Non-Null Count  Dtype\n",
      "---  ------               --------------  -----\n",
      " 0   Bank                 515 non-null    int64\n",
      " 1   DD                   515 non-null    int64\n",
      " 2   Withdrawals          515 non-null    int64\n",
      " 3   Deposits             515 non-null    int64\n",
      " 4   Branch Area in sqft  515 non-null    int64\n",
      " 5   avg daily walkins    515 non-null    int64\n",
      "dtypes: int64(6)\n",
      "memory usage: 24.3 KB\n"
     ]
    }
   ],
   "source": [
    "data.info()"
   ]
  },
  {
   "cell_type": "code",
   "execution_count": 6,
   "id": "b7b0e0a5-2164-4e17-b981-37870fd2c0eb",
   "metadata": {},
   "outputs": [],
   "source": [
    "clust_data=data.drop(['Bank'],axis=1)"
   ]
  },
  {
   "cell_type": "code",
   "execution_count": 7,
   "id": "4679368f-3f05-4a4f-9744-c02cc5f5f09b",
   "metadata": {},
   "outputs": [],
   "source": [
    "orginal=data.copy()"
   ]
  },
  {
   "cell_type": "code",
   "execution_count": 8,
   "id": "8d556c28-7b47-4932-9e52-72dafc42a997",
   "metadata": {},
   "outputs": [],
   "source": [
    "lst=['Bank','DD','Withdrawals','Deposits','Branch Area in sqft','avg daily walkins']"
   ]
  },
  {
   "cell_type": "code",
   "execution_count": null,
   "id": "1b805b6e-9534-441b-855c-5878bea2ba72",
   "metadata": {},
   "outputs": [],
   "source": [
    "\n",
    "    "
   ]
  },
  {
   "cell_type": "code",
   "execution_count": null,
   "id": "b20ff239-4476-47e5-8443-4a47ba04f703",
   "metadata": {},
   "outputs": [],
   "source": []
  },
  {
   "cell_type": "code",
   "execution_count": null,
   "id": "10d6376d-b4a5-4394-a262-b153ced539bf",
   "metadata": {},
   "outputs": [],
   "source": []
  },
  {
   "cell_type": "code",
   "execution_count": 11,
   "id": "01cc6a94-aea7-4145-91d1-e47240cb7a52",
   "metadata": {},
   "outputs": [],
   "source": [
    "#label encoding\n",
    "from sklearn.preprocessing import StandardScaler\n",
    "ss=StandardScaler()\n",
    "scaled_data=ss.fit_transform(clust_data)"
   ]
  },
  {
   "cell_type": "code",
   "execution_count": 12,
   "id": "481e21b2-7ec9-4a04-a77e-cd14843f1fee",
   "metadata": {},
   "outputs": [
    {
     "data": {
      "text/plain": [
       "array([[-0.07888413, -0.06497257,  1.02602411, -1.08710095,  0.48432644],\n",
       "       [-1.64081915, -1.13811308, -0.58410514,  1.31763546, -1.949528  ],\n",
       "       [ 1.10758573, -0.02978763, -0.19907423, -0.83517619,  0.84400936],\n",
       "       ...,\n",
       "       [ 1.51308809, -1.13811308,  0.92101568, -0.19391314,  0.92793538],\n",
       "       [-0.60453534,  0.44520899, -1.66919225, -0.40003341, -1.12225728],\n",
       "       [ 1.48305088,  0.62113366,  0.53598477, -0.53744692,  2.01897357]])"
      ]
     },
     "execution_count": 12,
     "metadata": {},
     "output_type": "execute_result"
    }
   ],
   "source": [
    "scaled_data"
   ]
  },
  {
   "cell_type": "code",
   "execution_count": 13,
   "id": "a80b4bae-05e1-4f0c-bad7-58fed16d1d59",
   "metadata": {},
   "outputs": [],
   "source": [
    "from sklearn.cluster import KMeans\n",
    "wcss=[]\n",
    "for i in range(2,10):\n",
    "    kmeans=KMeans(n_clusters=i)\n",
    "    kmeans.fit(scaled_data)\n",
    "    wcss.append(kmeans.inertia_) "
   ]
  },
  {
   "cell_type": "code",
   "execution_count": 14,
   "id": "0f9f0670-cd47-458a-9e0a-a2f4a73ec653",
   "metadata": {},
   "outputs": [
    {
     "name": "stdout",
     "output_type": "stream",
     "text": [
      "[1944.110045307983, 1593.8960657341067, 1375.404517124812, 1219.8322372940042, 1122.6399441779706, 1021.0138628309405, 941.7569074987412, 885.5217123881133]\n"
     ]
    }
   ],
   "source": [
    "print(wcss)"
   ]
  },
  {
   "cell_type": "code",
   "execution_count": 15,
   "id": "575955cc-2577-4afd-bb4b-e14a1be3dd5a",
   "metadata": {},
   "outputs": [
    {
     "data": {
      "image/png": "[encoded data removed]",
      "text/plain": [
       "<Figure size 640x480 with 1 Axes>"
      ]
     },
     "metadata": {},
     "output_type": "display_data"
    }
   ],
   "source": [
    "# to plot the graph of k values vs wcss ie elbow curve\n",
    "list=[i for i in range(2,10)]\n",
    "plt.figure()\n",
    "plt.plot(list,wcss,marker='o',mfc='red')\n",
    "plt.xlabel('No of clusters')\n",
    "plt.ylabel('wcss')\n",
    "plt.show()"
   ]
  },
  {
   "cell_type": "code",
   "execution_count": 16,
   "id": "7ddf36c6-763e-4d56-8b09-b9fd76c5248f",
   "metadata": {},
   "outputs": [],
   "source": [
    "kmeans=KMeans(n_clusters=6)\n",
    "y_pred_clusters=kmeans.fit_predict(scaled_data)"
   ]
  },
  {
   "cell_type": "code",
   "execution_count": 17,
   "id": "c673e14d-c6a0-4140-8a03-aa7d0799c13a",
   "metadata": {},
   "outputs": [
    {
     "data": {
      "text/plain": [
       "array([1, 0, 2, 4, 1, 3, 0, 3, 2, 2, 3, 1, 2, 4, 4, 4, 3, 4, 5, 4, 0, 0,\n",
       "       3, 2, 4, 4, 1, 0, 1, 2, 2, 5, 1, 1, 4, 1, 3, 4, 2, 3, 0, 2, 4, 3,\n",
       "       3, 1, 2, 4, 3, 1, 0, 2, 1, 2, 0, 2, 3, 4, 1, 4, 4, 4, 4, 1, 1, 0,\n",
       "       1, 5, 0, 2, 3, 5, 1, 5, 2, 4, 4, 0, 4, 2, 2, 3, 4, 0, 4, 1, 2, 1,\n",
       "       0, 4, 4, 1, 2, 1, 1, 3, 3, 2, 0, 1, 1, 3, 4, 1, 2, 1, 1, 3, 2, 4,\n",
       "       1, 0, 4, 4, 5, 3, 4, 4, 4, 1, 4, 3, 1, 1, 1, 0, 4, 3, 4, 4, 0, 4,\n",
       "       4, 2, 2, 1, 0, 3, 2, 1, 1, 3, 4, 2, 2, 0, 2, 4, 2, 1, 0, 2, 2, 2,\n",
       "       1, 3, 4, 4, 3, 1, 3, 5, 1, 2, 2, 4, 0, 0, 2, 4, 4, 4, 4, 5, 3, 2,\n",
       "       5, 1, 5, 5, 0, 3, 3, 0, 1, 4, 2, 5, 4, 0, 1, 3, 3, 4, 5, 3, 5, 3,\n",
       "       1, 4, 0, 4, 4, 0, 2, 3, 3, 1, 1, 4, 4, 4, 4, 0, 4, 4, 1, 1, 4, 2,\n",
       "       2, 0, 4, 4, 2, 0, 1, 3, 2, 3, 2, 3, 1, 4, 5, 1, 1, 1, 1, 4, 2, 3,\n",
       "       1, 4, 5, 4, 1, 0, 1, 3, 3, 1, 3, 2, 4, 4, 0, 4, 1, 3, 2, 0, 4, 3,\n",
       "       3, 3, 5, 0, 2, 2, 4, 4, 1, 1, 1, 1, 3, 2, 2, 3, 1, 1, 1, 2, 1, 2,\n",
       "       1, 2, 2, 4, 4, 2, 4, 0, 4, 4, 5, 0, 1, 2, 2, 4, 4, 1, 1, 2, 2, 4,\n",
       "       4, 4, 2, 1, 3, 0, 4, 0, 0, 1, 2, 3, 4, 3, 4, 2, 3, 2, 3, 3, 0, 1,\n",
       "       2, 2, 1, 4, 2, 1, 4, 3, 0, 4, 3, 4, 2, 0, 0, 3, 1, 4, 3, 0, 3, 5,\n",
       "       0, 2, 3, 1, 4, 2, 0, 2, 2, 4, 2, 4, 2, 2, 2, 4, 3, 3, 0, 2, 4, 0,\n",
       "       5, 2, 4, 2, 2, 1, 3, 2, 2, 4, 4, 5, 4, 0, 2, 2, 4, 5, 3, 5, 2, 3,\n",
       "       0, 4, 2, 5, 3, 3, 2, 5, 3, 2, 3, 0, 4, 0, 1, 4, 2, 4, 5, 0, 4, 4,\n",
       "       3, 3, 1, 2, 2, 2, 4, 2, 4, 4, 4, 1, 5, 0, 3, 4, 4, 4, 3, 1, 4, 2,\n",
       "       3, 4, 4, 0, 2, 4, 4, 5, 5, 0, 1, 4, 4, 0, 4, 4, 5, 2, 2, 4, 4, 3,\n",
       "       1, 2, 2, 0, 2, 2, 4, 5, 3, 0, 3, 0, 0, 5, 4, 0, 5, 4, 4, 2, 2, 4,\n",
       "       2, 4, 4, 4, 3, 1, 3, 1, 4, 0, 0, 1, 2, 4, 0, 5, 0, 4, 5, 2, 4, 3,\n",
       "       0, 3, 3, 4, 2, 5, 4, 3, 2])"
      ]
     },
     "execution_count": 17,
     "metadata": {},
     "output_type": "execute_result"
    }
   ],
   "source": [
    "y_pred_clusters  #+1"
   ]
  },
  {
   "cell_type": "code",
   "execution_count": 18,
   "id": "0914ae4c-a265-461a-96ec-4384ebee81c0",
   "metadata": {},
   "outputs": [
    {
     "data": {
      "text/html": [
       "<div>\n",
       "<style scoped>\n",
       "    .dataframe tbody tr th:only-of-type {\n",
       "        vertical-align: middle;\n",
       "    }\n",
       "\n",
       "    .dataframe tbody tr th {\n",
       "        vertical-align: top;\n",
       "    }\n",
       "\n",
       "    .dataframe thead th {\n",
       "        text-align: right;\n",
       "    }\n",
       "</style>\n",
       "<table border=\"1\" class=\"dataframe\">\n",
       "  <thead>\n",
       "    <tr style=\"text-align: right;\">\n",
       "      <th></th>\n",
       "      <th>DD</th>\n",
       "      <th>Withdrawals</th>\n",
       "      <th>Deposits</th>\n",
       "      <th>Branch Area in sqft</th>\n",
       "      <th>avg daily walkins</th>\n",
       "    </tr>\n",
       "  </thead>\n",
       "  <tbody>\n",
       "    <tr>\n",
       "      <th>0</th>\n",
       "      <td>-0.078884</td>\n",
       "      <td>-0.064973</td>\n",
       "      <td>1.026024</td>\n",
       "      <td>-1.087101</td>\n",
       "      <td>0.484326</td>\n",
       "    </tr>\n",
       "    <tr>\n",
       "      <th>1</th>\n",
       "      <td>-1.640819</td>\n",
       "      <td>-1.138113</td>\n",
       "      <td>-0.584105</td>\n",
       "      <td>1.317635</td>\n",
       "      <td>-1.949528</td>\n",
       "    </tr>\n",
       "    <tr>\n",
       "      <th>2</th>\n",
       "      <td>1.107586</td>\n",
       "      <td>-0.029788</td>\n",
       "      <td>-0.199074</td>\n",
       "      <td>-0.835176</td>\n",
       "      <td>0.844009</td>\n",
       "    </tr>\n",
       "    <tr>\n",
       "      <th>3</th>\n",
       "      <td>0.281562</td>\n",
       "      <td>-0.680709</td>\n",
       "      <td>1.656075</td>\n",
       "      <td>1.638267</td>\n",
       "      <td>0.292496</td>\n",
       "    </tr>\n",
       "    <tr>\n",
       "      <th>4</th>\n",
       "      <td>-0.874870</td>\n",
       "      <td>-0.276082</td>\n",
       "      <td>1.621072</td>\n",
       "      <td>1.065711</td>\n",
       "      <td>-0.235039</td>\n",
       "    </tr>\n",
       "    <tr>\n",
       "      <th>...</th>\n",
       "      <td>...</td>\n",
       "      <td>...</td>\n",
       "      <td>...</td>\n",
       "      <td>...</td>\n",
       "      <td>...</td>\n",
       "    </tr>\n",
       "    <tr>\n",
       "      <th>510</th>\n",
       "      <td>1.573163</td>\n",
       "      <td>-0.188120</td>\n",
       "      <td>1.026024</td>\n",
       "      <td>-0.674860</td>\n",
       "      <td>1.143745</td>\n",
       "    </tr>\n",
       "    <tr>\n",
       "      <th>511</th>\n",
       "      <td>-0.964982</td>\n",
       "      <td>-0.346452</td>\n",
       "      <td>-0.759119</td>\n",
       "      <td>-0.674860</td>\n",
       "      <td>-0.894458</td>\n",
       "    </tr>\n",
       "    <tr>\n",
       "      <th>512</th>\n",
       "      <td>1.513088</td>\n",
       "      <td>-1.138113</td>\n",
       "      <td>0.921016</td>\n",
       "      <td>-0.193913</td>\n",
       "      <td>0.927935</td>\n",
       "    </tr>\n",
       "    <tr>\n",
       "      <th>513</th>\n",
       "      <td>-0.604535</td>\n",
       "      <td>0.445209</td>\n",
       "      <td>-1.669192</td>\n",
       "      <td>-0.400033</td>\n",
       "      <td>-1.122257</td>\n",
       "    </tr>\n",
       "    <tr>\n",
       "      <th>514</th>\n",
       "      <td>1.483051</td>\n",
       "      <td>0.621134</td>\n",
       "      <td>0.535985</td>\n",
       "      <td>-0.537447</td>\n",
       "      <td>2.018974</td>\n",
       "    </tr>\n",
       "  </tbody>\n",
       "</table>\n",
       "<p>515 rows × 5 columns</p>\n",
       "</div>"
      ],
      "text/plain": [
       "           DD  Withdrawals  Deposits  Branch Area in sqft  avg daily walkins\n",
       "0   -0.078884    -0.064973  1.026024            -1.087101           0.484326\n",
       "1   -1.640819    -1.138113 -0.584105             1.317635          -1.949528\n",
       "2    1.107586    -0.029788 -0.199074            -0.835176           0.844009\n",
       "3    0.281562    -0.680709  1.656075             1.638267           0.292496\n",
       "4   -0.874870    -0.276082  1.621072             1.065711          -0.235039\n",
       "..        ...          ...       ...                  ...                ...\n",
       "510  1.573163    -0.188120  1.026024            -0.674860           1.143745\n",
       "511 -0.964982    -0.346452 -0.759119            -0.674860          -0.894458\n",
       "512  1.513088    -1.138113  0.921016            -0.193913           0.927935\n",
       "513 -0.604535     0.445209 -1.669192            -0.400033          -1.122257\n",
       "514  1.483051     0.621134  0.535985            -0.537447           2.018974\n",
       "\n",
       "[515 rows x 5 columns]"
      ]
     },
     "execution_count": 18,
     "metadata": {},
     "output_type": "execute_result"
    }
   ],
   "source": [
    "df=pd.DataFrame(scaled_data,columns=clust_data.columns)\n",
    "df"
   ]
  },
  {
   "cell_type": "code",
   "execution_count": 55,
   "id": "925fa77d-6cbc-4827-bccc-9993636d1068",
   "metadata": {},
   "outputs": [],
   "source": [
    "\n",
    "data['cluster Label']=y_pred_clusters"
   ]
  },
  {
   "cell_type": "code",
   "execution_count": 24,
   "id": "d728a591-da7d-446c-95a6-4d67e7c81a8f",
   "metadata": {},
   "outputs": [
    {
     "data": {
      "text/html": [
       "<div>\n",
       "<style scoped>\n",
       "    .dataframe tbody tr th:only-of-type {\n",
       "        vertical-align: middle;\n",
       "    }\n",
       "\n",
       "    .dataframe tbody tr th {\n",
       "        vertical-align: top;\n",
       "    }\n",
       "\n",
       "    .dataframe thead th {\n",
       "        text-align: right;\n",
       "    }\n",
       "</style>\n",
       "<table border=\"1\" class=\"dataframe\">\n",
       "  <thead>\n",
       "    <tr style=\"text-align: right;\">\n",
       "      <th></th>\n",
       "      <th>DD</th>\n",
       "      <th>Withdrawals</th>\n",
       "      <th>Deposits</th>\n",
       "      <th>Branch Area in sqft</th>\n",
       "      <th>avg daily walkins</th>\n",
       "      <th>cluster_type</th>\n",
       "      <th>cluster Label</th>\n",
       "    </tr>\n",
       "  </thead>\n",
       "  <tbody>\n",
       "    <tr>\n",
       "      <th>0</th>\n",
       "      <td>227</td>\n",
       "      <td>147</td>\n",
       "      <td>111</td>\n",
       "      <td>2460</td>\n",
       "      <td>639</td>\n",
       "      <td>1</td>\n",
       "      <td>1</td>\n",
       "    </tr>\n",
       "    <tr>\n",
       "      <th>1</th>\n",
       "      <td>123</td>\n",
       "      <td>86</td>\n",
       "      <td>65</td>\n",
       "      <td>3510</td>\n",
       "      <td>436</td>\n",
       "      <td>0</td>\n",
       "      <td>0</td>\n",
       "    </tr>\n",
       "    <tr>\n",
       "      <th>2</th>\n",
       "      <td>306</td>\n",
       "      <td>149</td>\n",
       "      <td>76</td>\n",
       "      <td>2570</td>\n",
       "      <td>669</td>\n",
       "      <td>2</td>\n",
       "      <td>2</td>\n",
       "    </tr>\n",
       "    <tr>\n",
       "      <th>3</th>\n",
       "      <td>251</td>\n",
       "      <td>112</td>\n",
       "      <td>129</td>\n",
       "      <td>3650</td>\n",
       "      <td>623</td>\n",
       "      <td>4</td>\n",
       "      <td>4</td>\n",
       "    </tr>\n",
       "    <tr>\n",
       "      <th>4</th>\n",
       "      <td>174</td>\n",
       "      <td>135</td>\n",
       "      <td>128</td>\n",
       "      <td>3400</td>\n",
       "      <td>579</td>\n",
       "      <td>1</td>\n",
       "      <td>1</td>\n",
       "    </tr>\n",
       "    <tr>\n",
       "      <th>...</th>\n",
       "      <td>...</td>\n",
       "      <td>...</td>\n",
       "      <td>...</td>\n",
       "      <td>...</td>\n",
       "      <td>...</td>\n",
       "      <td>...</td>\n",
       "      <td>...</td>\n",
       "    </tr>\n",
       "    <tr>\n",
       "      <th>510</th>\n",
       "      <td>337</td>\n",
       "      <td>140</td>\n",
       "      <td>111</td>\n",
       "      <td>2640</td>\n",
       "      <td>694</td>\n",
       "      <td>2</td>\n",
       "      <td>2</td>\n",
       "    </tr>\n",
       "    <tr>\n",
       "      <th>511</th>\n",
       "      <td>168</td>\n",
       "      <td>131</td>\n",
       "      <td>60</td>\n",
       "      <td>2640</td>\n",
       "      <td>524</td>\n",
       "      <td>5</td>\n",
       "      <td>5</td>\n",
       "    </tr>\n",
       "    <tr>\n",
       "      <th>512</th>\n",
       "      <td>333</td>\n",
       "      <td>86</td>\n",
       "      <td>108</td>\n",
       "      <td>2850</td>\n",
       "      <td>676</td>\n",
       "      <td>4</td>\n",
       "      <td>4</td>\n",
       "    </tr>\n",
       "    <tr>\n",
       "      <th>513</th>\n",
       "      <td>192</td>\n",
       "      <td>176</td>\n",
       "      <td>34</td>\n",
       "      <td>2760</td>\n",
       "      <td>505</td>\n",
       "      <td>3</td>\n",
       "      <td>3</td>\n",
       "    </tr>\n",
       "    <tr>\n",
       "      <th>514</th>\n",
       "      <td>331</td>\n",
       "      <td>186</td>\n",
       "      <td>97</td>\n",
       "      <td>2700</td>\n",
       "      <td>767</td>\n",
       "      <td>2</td>\n",
       "      <td>2</td>\n",
       "    </tr>\n",
       "  </tbody>\n",
       "</table>\n",
       "<p>515 rows × 7 columns</p>\n",
       "</div>"
      ],
      "text/plain": [
       "      DD  Withdrawals  Deposits  Branch Area in sqft  avg daily walkins  \\\n",
       "0    227          147       111                 2460                639   \n",
       "1    123           86        65                 3510                436   \n",
       "2    306          149        76                 2570                669   \n",
       "3    251          112       129                 3650                623   \n",
       "4    174          135       128                 3400                579   \n",
       "..   ...          ...       ...                  ...                ...   \n",
       "510  337          140       111                 2640                694   \n",
       "511  168          131        60                 2640                524   \n",
       "512  333           86       108                 2850                676   \n",
       "513  192          176        34                 2760                505   \n",
       "514  331          186        97                 2700                767   \n",
       "\n",
       "     cluster_type  cluster Label  \n",
       "0               1              1  \n",
       "1               0              0  \n",
       "2               2              2  \n",
       "3               4              4  \n",
       "4               1              1  \n",
       "..            ...            ...  \n",
       "510             2              2  \n",
       "511             5              5  \n",
       "512             4              4  \n",
       "513             3              3  \n",
       "514             2              2  \n",
       "\n",
       "[515 rows x 7 columns]"
      ]
     },
     "execution_count": 24,
     "metadata": {},
     "output_type": "execute_result"
    }
   ],
   "source": [
    "clust_data"
   ]
  },
  {
   "cell_type": "code",
   "execution_count": 25,
   "id": "ff3800ea-58a7-4e4d-a641-c81ac2b4d085",
   "metadata": {},
   "outputs": [
    {
     "data": {
      "text/html": [
       "<div>\n",
       "<style scoped>\n",
       "    .dataframe tbody tr th:only-of-type {\n",
       "        vertical-align: middle;\n",
       "    }\n",
       "\n",
       "    .dataframe tbody tr th {\n",
       "        vertical-align: top;\n",
       "    }\n",
       "\n",
       "    .dataframe thead th {\n",
       "        text-align: right;\n",
       "    }\n",
       "</style>\n",
       "<table border=\"1\" class=\"dataframe\">\n",
       "  <thead>\n",
       "    <tr style=\"text-align: right;\">\n",
       "      <th></th>\n",
       "      <th>DD</th>\n",
       "      <th>Withdrawals</th>\n",
       "      <th>Deposits</th>\n",
       "      <th>Branch Area in sqft</th>\n",
       "      <th>avg daily walkins</th>\n",
       "      <th>cluster_type</th>\n",
       "    </tr>\n",
       "    <tr>\n",
       "      <th>cluster Label</th>\n",
       "      <th></th>\n",
       "      <th></th>\n",
       "      <th></th>\n",
       "      <th></th>\n",
       "      <th></th>\n",
       "      <th></th>\n",
       "    </tr>\n",
       "  </thead>\n",
       "  <tbody>\n",
       "    <tr>\n",
       "      <th>0</th>\n",
       "      <td>158.388060</td>\n",
       "      <td>94.716418</td>\n",
       "      <td>92.328358</td>\n",
       "      <td>3217.611940</td>\n",
       "      <td>485.179104</td>\n",
       "      <td>0.0</td>\n",
       "    </tr>\n",
       "    <tr>\n",
       "      <th>1</th>\n",
       "      <td>187.290698</td>\n",
       "      <td>185.720930</td>\n",
       "      <td>110.116279</td>\n",
       "      <td>2973.953488</td>\n",
       "      <td>617.895349</td>\n",
       "      <td>1.0</td>\n",
       "    </tr>\n",
       "    <tr>\n",
       "      <th>2</th>\n",
       "      <td>288.728972</td>\n",
       "      <td>199.177570</td>\n",
       "      <td>84.112150</td>\n",
       "      <td>2595.887850</td>\n",
       "      <td>706.336449</td>\n",
       "      <td>2.0</td>\n",
       "    </tr>\n",
       "    <tr>\n",
       "      <th>3</th>\n",
       "      <td>189.878049</td>\n",
       "      <td>190.865854</td>\n",
       "      <td>50.780488</td>\n",
       "      <td>3103.780488</td>\n",
       "      <td>566.146341</td>\n",
       "      <td>3.0</td>\n",
       "    </tr>\n",
       "    <tr>\n",
       "      <th>4</th>\n",
       "      <td>290.832117</td>\n",
       "      <td>100.343066</td>\n",
       "      <td>77.817518</td>\n",
       "      <td>3113.211679</td>\n",
       "      <td>599.043796</td>\n",
       "      <td>4.0</td>\n",
       "    </tr>\n",
       "    <tr>\n",
       "      <th>5</th>\n",
       "      <td>182.861111</td>\n",
       "      <td>127.194444</td>\n",
       "      <td>71.888889</td>\n",
       "      <td>2256.527778</td>\n",
       "      <td>515.666667</td>\n",
       "      <td>5.0</td>\n",
       "    </tr>\n",
       "  </tbody>\n",
       "</table>\n",
       "</div>"
      ],
      "text/plain": [
       "                       DD  Withdrawals    Deposits  Branch Area in sqft  \\\n",
       "cluster Label                                                             \n",
       "0              158.388060    94.716418   92.328358          3217.611940   \n",
       "1              187.290698   185.720930  110.116279          2973.953488   \n",
       "2              288.728972   199.177570   84.112150          2595.887850   \n",
       "3              189.878049   190.865854   50.780488          3103.780488   \n",
       "4              290.832117   100.343066   77.817518          3113.211679   \n",
       "5              182.861111   127.194444   71.888889          2256.527778   \n",
       "\n",
       "               avg daily walkins  cluster_type  \n",
       "cluster Label                                   \n",
       "0                     485.179104           0.0  \n",
       "1                     617.895349           1.0  \n",
       "2                     706.336449           2.0  \n",
       "3                     566.146341           3.0  \n",
       "4                     599.043796           4.0  \n",
       "5                     515.666667           5.0  "
      ]
     },
     "execution_count": 25,
     "metadata": {},
     "output_type": "execute_result"
    }
   ],
   "source": [
    "clust_data.groupby('cluster Label').mean()\n"
   ]
  },
  {
   "cell_type": "code",
   "execution_count": null,
   "id": "0ba340a8-7b6b-4528-98da-38e9f5539419",
   "metadata": {},
   "outputs": [],
   "source": [
    "# Hierarchical clustering"
   ]
  },
  {
   "cell_type": "code",
   "execution_count": 46,
   "id": "4cbf7144-c36d-4b97-9e9e-26972be463f4",
   "metadata": {},
   "outputs": [
    {
     "data": {
      "text/html": [
       "<div>\n",
       "<style scoped>\n",
       "    .dataframe tbody tr th:only-of-type {\n",
       "        vertical-align: middle;\n",
       "    }\n",
       "\n",
       "    .dataframe tbody tr th {\n",
       "        vertical-align: top;\n",
       "    }\n",
       "\n",
       "    .dataframe thead th {\n",
       "        text-align: right;\n",
       "    }\n",
       "</style>\n",
       "<table border=\"1\" class=\"dataframe\">\n",
       "  <thead>\n",
       "    <tr style=\"text-align: right;\">\n",
       "      <th></th>\n",
       "      <th>DD</th>\n",
       "      <th>Withdrawals</th>\n",
       "      <th>Deposits</th>\n",
       "      <th>Branch Area in sqft</th>\n",
       "      <th>avg daily walkins</th>\n",
       "      <th>cluster_type</th>\n",
       "      <th>cluster Label</th>\n",
       "    </tr>\n",
       "  </thead>\n",
       "  <tbody>\n",
       "    <tr>\n",
       "      <th>0</th>\n",
       "      <td>227</td>\n",
       "      <td>147</td>\n",
       "      <td>111</td>\n",
       "      <td>2460</td>\n",
       "      <td>639</td>\n",
       "      <td>1</td>\n",
       "      <td>1</td>\n",
       "    </tr>\n",
       "    <tr>\n",
       "      <th>1</th>\n",
       "      <td>123</td>\n",
       "      <td>86</td>\n",
       "      <td>65</td>\n",
       "      <td>3510</td>\n",
       "      <td>436</td>\n",
       "      <td>0</td>\n",
       "      <td>0</td>\n",
       "    </tr>\n",
       "    <tr>\n",
       "      <th>2</th>\n",
       "      <td>306</td>\n",
       "      <td>149</td>\n",
       "      <td>76</td>\n",
       "      <td>2570</td>\n",
       "      <td>669</td>\n",
       "      <td>2</td>\n",
       "      <td>2</td>\n",
       "    </tr>\n",
       "    <tr>\n",
       "      <th>3</th>\n",
       "      <td>251</td>\n",
       "      <td>112</td>\n",
       "      <td>129</td>\n",
       "      <td>3650</td>\n",
       "      <td>623</td>\n",
       "      <td>4</td>\n",
       "      <td>4</td>\n",
       "    </tr>\n",
       "    <tr>\n",
       "      <th>4</th>\n",
       "      <td>174</td>\n",
       "      <td>135</td>\n",
       "      <td>128</td>\n",
       "      <td>3400</td>\n",
       "      <td>579</td>\n",
       "      <td>1</td>\n",
       "      <td>1</td>\n",
       "    </tr>\n",
       "  </tbody>\n",
       "</table>\n",
       "</div>"
      ],
      "text/plain": [
       "    DD  Withdrawals  Deposits  Branch Area in sqft  avg daily walkins  \\\n",
       "0  227          147       111                 2460                639   \n",
       "1  123           86        65                 3510                436   \n",
       "2  306          149        76                 2570                669   \n",
       "3  251          112       129                 3650                623   \n",
       "4  174          135       128                 3400                579   \n",
       "\n",
       "   cluster_type  cluster Label  \n",
       "0             1              1  \n",
       "1             0              0  \n",
       "2             2              2  \n",
       "3             4              4  \n",
       "4             1              1  "
      ]
     },
     "execution_count": 46,
     "metadata": {},
     "output_type": "execute_result"
    }
   ],
   "source": [
    "clust_data.head()"
   ]
  },
  {
   "cell_type": "code",
   "execution_count": 47,
   "id": "e1a860e0-fd37-40ed-a34f-71b8b97548d9",
   "metadata": {},
   "outputs": [],
   "source": [
    "import scipy.cluster.hierarchy as sch"
   ]
  },
  {
   "cell_type": "code",
   "execution_count": 48,
   "id": "92127776-997b-40bd-b1b3-8017e739068c",
   "metadata": {},
   "outputs": [
    {
     "data": {
      "image/png": "[encoded data removed]",
      "text/plain": [
       "<Figure size 640x480 with 1 Axes>"
      ]
     },
     "metadata": {},
     "output_type": "display_data"
    }
   ],
   "source": [
    "dendrogram=sch.dendrogram(sch.linkage(scaled_data,method='ward'))\n",
    "plt.title('Dendrogram for the Hierarchical clustering')\n",
    "plt.xlabel('cluster details')\n",
    "plt.ylabel('Euc disance')\n",
    "plt.show()"
   ]
  },
  {
   "cell_type": "code",
   "execution_count": 29,
   "id": "53c30f27-e093-49c7-8e55-16575d873cc7",
   "metadata": {},
   "outputs": [],
   "source": [
    "# from above we consider 6 / 7 cluster"
   ]
  },
  {
   "cell_type": "code",
   "execution_count": 49,
   "id": "32e88448-5cd8-411c-8000-d5461237bae6",
   "metadata": {},
   "outputs": [],
   "source": [
    "from sklearn.cluster import AgglomerativeClustering\n",
    "hc=AgglomerativeClustering(n_clusters=5,metric='euclidean',linkage='ward')\n"
   ]
  },
  {
   "cell_type": "code",
   "execution_count": 50,
   "id": "8e3251d2-7b07-4ef3-9351-4e34390e74c6",
   "metadata": {},
   "outputs": [],
   "source": [
    "y_pred_hc=hc.fit_predict(data)"
   ]
  },
  {
   "cell_type": "code",
   "execution_count": 51,
   "id": "7a130a01-bfd2-4413-87a1-def231137ab6",
   "metadata": {},
   "outputs": [
    {
     "data": {
      "text/plain": [
       "array([1, 3, 1, 3, 3, 3, 0, 0, 2, 0, 1, 1, 0, 3, 0, 3, 0, 0, 1, 0, 0, 3,\n",
       "       3, 2, 0, 0, 3, 0, 1, 1, 0, 2, 0, 0, 3, 0, 0, 0, 2, 0, 3, 0, 3, 0,\n",
       "       0, 2, 2, 3, 1, 0, 3, 0, 0, 2, 3, 2, 3, 1, 0, 3, 3, 0, 3, 1, 0, 0,\n",
       "       0, 2, 0, 1, 1, 2, 0, 1, 3, 3, 0, 0, 0, 2, 0, 0, 0, 3, 3, 0, 0, 3,\n",
       "       3, 0, 1, 3, 2, 0, 0, 0, 0, 1, 3, 0, 3, 1, 0, 0, 2, 0, 0, 0, 2, 0,\n",
       "       1, 0, 0, 3, 2, 0, 0, 0, 0, 3, 0, 0, 3, 3, 1, 0, 0, 3, 3, 0, 1, 0,\n",
       "       0, 0, 2, 1, 3, 0, 2, 1, 3, 0, 0, 2, 1, 0, 1, 0, 2, 3, 0, 2, 0, 3,\n",
       "       0, 0, 0, 0, 0, 0, 3, 2, 1, 1, 2, 0, 3, 0, 2, 3, 0, 3, 0, 1, 1, 0,\n",
       "       2, 1, 2, 2, 3, 0, 3, 3, 1, 3, 0, 1, 3, 1, 0, 0, 0, 0, 2, 0, 1, 1,\n",
       "       0, 0, 3, 0, 0, 0, 0, 0, 0, 0, 0, 3, 0, 0, 3, 0, 3, 0, 3, 0, 3, 0,\n",
       "       3, 0, 0, 0, 2, 1, 3, 0, 0, 3, 3, 0, 0, 0, 1, 2, 0, 0, 3, 0, 0, 0,\n",
       "       2, 0, 2, 1, 3, 3, 0, 0, 0, 1, 3, 1, 3, 0, 0, 0, 1, 1, 2, 3, 0, 0,\n",
       "       3, 0, 2, 0, 1, 0, 0, 3, 1, 0, 1, 1, 3, 1, 1, 0, 1, 1, 1, 1, 3, 1,\n",
       "       1, 2, 0, 3, 3, 1, 1, 3, 1, 0, 2, 3, 0, 2, 1, 0, 3, 4, 4, 1, 1, 3,\n",
       "       3, 1, 2, 3, 3, 4, 3, 4, 3, 0, 2, 0, 3, 0, 1, 2, 1, 0, 3, 4, 4, 0,\n",
       "       2, 2, 0, 0, 1, 3, 3, 1, 4, 0, 4, 0, 1, 4, 4, 4, 4, 0, 4, 0, 0, 2,\n",
       "       1, 2, 4, 0, 0, 1, 4, 2, 1, 0, 2, 4, 3, 0, 0, 1, 4, 1, 3, 0, 4, 4,\n",
       "       1, 2, 0, 2, 2, 1, 0, 1, 1, 0, 4, 2, 0, 4, 4, 1, 0, 1, 3, 2, 1, 0,\n",
       "       4, 4, 4, 1, 4, 0, 2, 1, 3, 0, 0, 4, 0, 4, 0, 0, 4, 4, 1, 0, 0, 4,\n",
       "       4, 4, 1, 0, 1, 2, 3, 2, 1, 4, 0, 0, 1, 4, 3, 0, 0, 0, 4, 0, 0, 1,\n",
       "       0, 4, 4, 4, 0, 0, 0, 2, 2, 0, 0, 0, 4, 4, 3, 4, 2, 2, 1, 0, 0, 3,\n",
       "       0, 0, 0, 4, 1, 1, 3, 2, 4, 4, 3, 4, 4, 1, 0, 3, 1, 3, 4, 0, 1, 4,\n",
       "       4, 0, 4, 3, 0, 3, 1, 4, 0, 4, 1, 3, 1, 0, 4, 2, 4, 4, 1, 1, 0, 3,\n",
       "       4, 4, 0, 4, 1, 1, 0, 1, 1], dtype=int64)"
      ]
     },
     "execution_count": 51,
     "metadata": {},
     "output_type": "execute_result"
    }
   ],
   "source": [
    "y_pred_hc"
   ]
  },
  {
   "cell_type": "code",
   "execution_count": 53,
   "id": "fbb1a064-854b-45dc-924d-26c71d7fc015",
   "metadata": {},
   "outputs": [],
   "source": [
    "data['Hierarchical cluster_type']=y_pred_hc"
   ]
  },
  {
   "cell_type": "code",
   "execution_count": 56,
   "id": "84133d2f-9c41-4efb-ab59-b86dfa6630bd",
   "metadata": {},
   "outputs": [
    {
     "data": {
      "text/html": [
       "<div>\n",
       "<style scoped>\n",
       "    .dataframe tbody tr th:only-of-type {\n",
       "        vertical-align: middle;\n",
       "    }\n",
       "\n",
       "    .dataframe tbody tr th {\n",
       "        vertical-align: top;\n",
       "    }\n",
       "\n",
       "    .dataframe thead th {\n",
       "        text-align: right;\n",
       "    }\n",
       "</style>\n",
       "<table border=\"1\" class=\"dataframe\">\n",
       "  <thead>\n",
       "    <tr style=\"text-align: right;\">\n",
       "      <th></th>\n",
       "      <th>Bank</th>\n",
       "      <th>DD</th>\n",
       "      <th>Withdrawals</th>\n",
       "      <th>Deposits</th>\n",
       "      <th>Branch Area in sqft</th>\n",
       "      <th>avg daily walkins</th>\n",
       "      <th>Hierarchical cluster_type</th>\n",
       "      <th>cluster Label</th>\n",
       "    </tr>\n",
       "  </thead>\n",
       "  <tbody>\n",
       "    <tr>\n",
       "      <th>0</th>\n",
       "      <td>1</td>\n",
       "      <td>227</td>\n",
       "      <td>147</td>\n",
       "      <td>111</td>\n",
       "      <td>2460</td>\n",
       "      <td>639</td>\n",
       "      <td>1</td>\n",
       "      <td>1</td>\n",
       "    </tr>\n",
       "    <tr>\n",
       "      <th>1</th>\n",
       "      <td>2</td>\n",
       "      <td>123</td>\n",
       "      <td>86</td>\n",
       "      <td>65</td>\n",
       "      <td>3510</td>\n",
       "      <td>436</td>\n",
       "      <td>3</td>\n",
       "      <td>0</td>\n",
       "    </tr>\n",
       "    <tr>\n",
       "      <th>2</th>\n",
       "      <td>3</td>\n",
       "      <td>306</td>\n",
       "      <td>149</td>\n",
       "      <td>76</td>\n",
       "      <td>2570</td>\n",
       "      <td>669</td>\n",
       "      <td>1</td>\n",
       "      <td>2</td>\n",
       "    </tr>\n",
       "    <tr>\n",
       "      <th>3</th>\n",
       "      <td>4</td>\n",
       "      <td>251</td>\n",
       "      <td>112</td>\n",
       "      <td>129</td>\n",
       "      <td>3650</td>\n",
       "      <td>623</td>\n",
       "      <td>3</td>\n",
       "      <td>4</td>\n",
       "    </tr>\n",
       "    <tr>\n",
       "      <th>4</th>\n",
       "      <td>5</td>\n",
       "      <td>174</td>\n",
       "      <td>135</td>\n",
       "      <td>128</td>\n",
       "      <td>3400</td>\n",
       "      <td>579</td>\n",
       "      <td>3</td>\n",
       "      <td>1</td>\n",
       "    </tr>\n",
       "  </tbody>\n",
       "</table>\n",
       "</div>"
      ],
      "text/plain": [
       "   Bank   DD  Withdrawals  Deposits  Branch Area in sqft  avg daily walkins  \\\n",
       "0     1  227          147       111                 2460                639   \n",
       "1     2  123           86        65                 3510                436   \n",
       "2     3  306          149        76                 2570                669   \n",
       "3     4  251          112       129                 3650                623   \n",
       "4     5  174          135       128                 3400                579   \n",
       "\n",
       "   Hierarchical cluster_type  cluster Label  \n",
       "0                          1              1  \n",
       "1                          3              0  \n",
       "2                          1              2  \n",
       "3                          3              4  \n",
       "4                          3              1  "
      ]
     },
     "execution_count": 56,
     "metadata": {},
     "output_type": "execute_result"
    }
   ],
   "source": [
    "data.head()"
   ]
  },
  {
   "cell_type": "code",
   "execution_count": null,
   "id": "7c88291b-9035-44c4-9ef3-49f6e0fe1add",
   "metadata": {},
   "outputs": [],
   "source": []
  }
 ],
 "metadata": {
  "kernelspec": {
   "display_name": "Python 3 (ipykernel)",
   "language": "python",
   "name": "python3"
  },
  "language_info": {
   "codemirror_mode": {
    "name": "ipython",
    "version": 3
   },
   "file_extension": ".py",
   "mimetype": "text/x-python",
   "name": "python",
   "nbconvert_exporter": "python",
   "pygments_lexer": "ipython3",
   "version": "3.11.7"
  }
 },
 "nbformat": 4,
 "nbformat_minor": 5
}
