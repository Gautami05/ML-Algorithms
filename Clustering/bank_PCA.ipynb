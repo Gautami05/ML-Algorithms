{
 "cells": [
  {
   "cell_type": "code",
   "execution_count": 2,
   "id": "1200cae2-c4b1-4508-b144-de1e2bfe8bd4",
   "metadata": {},
   "outputs": [],
   "source": [
    "# import the libraries :\n",
    "import os,sys\n",
    "import numpy as np\n",
    "import pandas as pd\n",
    "import matplotlib.pyplot as plt\n",
    "import seaborn as sns\n",
    "%matplotlib inline\n",
    "import warnings \n",
    "warnings.filterwarnings('ignore')\n",
    "from scipy import stats"
   ]
  },
  {
   "cell_type": "code",
   "execution_count": 3,
   "id": "30450421-abb1-415e-9615-d885e5ad2b13",
   "metadata": {},
   "outputs": [],
   "source": [
    "data=pd.read_csv(\"Bank-data_PCA.csv\",index_col=\"Index\")"
   ]
  },
  {
   "cell_type": "code",
   "execution_count": 4,
   "id": "69052d37-2e90-45f7-9584-e8fb33fe8cba",
   "metadata": {},
   "outputs": [
    {
     "data": {
      "text/html": [
       "<div>\n",
       "<style scoped>\n",
       "    .dataframe tbody tr th:only-of-type {\n",
       "        vertical-align: middle;\n",
       "    }\n",
       "\n",
       "    .dataframe tbody tr th {\n",
       "        vertical-align: top;\n",
       "    }\n",
       "\n",
       "    .dataframe thead th {\n",
       "        text-align: right;\n",
       "    }\n",
       "</style>\n",
       "<table border=\"1\" class=\"dataframe\">\n",
       "  <thead>\n",
       "    <tr style=\"text-align: right;\">\n",
       "      <th></th>\n",
       "      <th>interest_rate</th>\n",
       "      <th>credit</th>\n",
       "      <th>Gender</th>\n",
       "      <th>previous</th>\n",
       "      <th>duration</th>\n",
       "      <th>Churn</th>\n",
       "    </tr>\n",
       "    <tr>\n",
       "      <th>Index</th>\n",
       "      <th></th>\n",
       "      <th></th>\n",
       "      <th></th>\n",
       "      <th></th>\n",
       "      <th></th>\n",
       "      <th></th>\n",
       "    </tr>\n",
       "  </thead>\n",
       "  <tbody>\n",
       "    <tr>\n",
       "      <th>0</th>\n",
       "      <td>1.334</td>\n",
       "      <td>0</td>\n",
       "      <td>1</td>\n",
       "      <td>0</td>\n",
       "      <td>117</td>\n",
       "      <td>no</td>\n",
       "    </tr>\n",
       "    <tr>\n",
       "      <th>1</th>\n",
       "      <td>0.767</td>\n",
       "      <td>0</td>\n",
       "      <td>0</td>\n",
       "      <td>1</td>\n",
       "      <td>274</td>\n",
       "      <td>yes</td>\n",
       "    </tr>\n",
       "    <tr>\n",
       "      <th>2</th>\n",
       "      <td>4.858</td>\n",
       "      <td>0</td>\n",
       "      <td>1</td>\n",
       "      <td>0</td>\n",
       "      <td>167</td>\n",
       "      <td>no</td>\n",
       "    </tr>\n",
       "    <tr>\n",
       "      <th>3</th>\n",
       "      <td>4.120</td>\n",
       "      <td>0</td>\n",
       "      <td>0</td>\n",
       "      <td>0</td>\n",
       "      <td>686</td>\n",
       "      <td>yes</td>\n",
       "    </tr>\n",
       "    <tr>\n",
       "      <th>4</th>\n",
       "      <td>4.856</td>\n",
       "      <td>0</td>\n",
       "      <td>1</td>\n",
       "      <td>0</td>\n",
       "      <td>159</td>\n",
       "      <td>no</td>\n",
       "    </tr>\n",
       "  </tbody>\n",
       "</table>\n",
       "</div>"
      ],
      "text/plain": [
       "       interest_rate  credit  Gender  previous  duration Churn\n",
       "Index                                                         \n",
       "0              1.334       0       1         0       117    no\n",
       "1              0.767       0       0         1       274   yes\n",
       "2              4.858       0       1         0       167    no\n",
       "3              4.120       0       0         0       686   yes\n",
       "4              4.856       0       1         0       159    no"
      ]
     },
     "execution_count": 4,
     "metadata": {},
     "output_type": "execute_result"
    }
   ],
   "source": [
    "data.head()"
   ]
  },
  {
   "cell_type": "code",
   "execution_count": 5,
   "id": "1ca97b50-b85f-4964-a06c-e1db7c511c07",
   "metadata": {},
   "outputs": [
    {
     "data": {
      "text/plain": [
       "interest_rate    0\n",
       "credit           0\n",
       "Gender           0\n",
       "previous         0\n",
       "duration         0\n",
       "Churn            0\n",
       "dtype: int64"
      ]
     },
     "execution_count": 5,
     "metadata": {},
     "output_type": "execute_result"
    }
   ],
   "source": [
    "data.isnull().sum()"
   ]
  },
  {
   "cell_type": "code",
   "execution_count": 6,
   "id": "647e59c5-3a46-4528-9f28-3493844bb3b6",
   "metadata": {},
   "outputs": [
    {
     "name": "stdout",
     "output_type": "stream",
     "text": [
      "<class 'pandas.core.frame.DataFrame'>\n",
      "Index: 518 entries, 0 to 517\n",
      "Data columns (total 6 columns):\n",
      " #   Column         Non-Null Count  Dtype  \n",
      "---  ------         --------------  -----  \n",
      " 0   interest_rate  518 non-null    float64\n",
      " 1   credit         518 non-null    int64  \n",
      " 2   Gender         518 non-null    int64  \n",
      " 3   previous       518 non-null    int64  \n",
      " 4   duration       518 non-null    int64  \n",
      " 5   Churn          518 non-null    object \n",
      "dtypes: float64(1), int64(4), object(1)\n",
      "memory usage: 28.3+ KB\n"
     ]
    }
   ],
   "source": [
    "data.info()"
   ]
  },
  {
   "cell_type": "code",
   "execution_count": 7,
   "id": "a2c2553f-c596-4b5e-b2c4-a8ef7afa93fc",
   "metadata": {},
   "outputs": [
    {
     "data": {
      "text/plain": [
       "Churn\n",
       "no     259\n",
       "yes    259\n",
       "Name: count, dtype: int64"
      ]
     },
     "execution_count": 7,
     "metadata": {},
     "output_type": "execute_result"
    }
   ],
   "source": [
    "data['Churn'].value_counts()"
   ]
  },
  {
   "cell_type": "code",
   "execution_count": 8,
   "id": "2a133397-0cf0-4ab6-bad3-905f4cb742d0",
   "metadata": {},
   "outputs": [],
   "source": [
    "#label encoding= other techniques to lebel encoding \n",
    "data['Churn']=data['Churn'].astype('category')\n",
    "data['Churn']=data['Churn'].cat.codes"
   ]
  },
  {
   "cell_type": "code",
   "execution_count": 9,
   "id": "bb395ab9-929b-40de-b394-e265bd60d532",
   "metadata": {},
   "outputs": [
    {
     "data": {
      "text/plain": [
       "Churn\n",
       "0    259\n",
       "1    259\n",
       "Name: count, dtype: int64"
      ]
     },
     "execution_count": 9,
     "metadata": {},
     "output_type": "execute_result"
    }
   ],
   "source": [
    "data['Churn'].value_counts()  # according tolabel alphabetical order no (N) comes first then yes(Y)"
   ]
  },
  {
   "cell_type": "code",
   "execution_count": 10,
   "id": "4134ea86-4a84-47f8-b282-e6688334ea46",
   "metadata": {},
   "outputs": [],
   "source": [
    "# inddependent = churn\n",
    "# depen = "
   ]
  },
  {
   "cell_type": "code",
   "execution_count": 11,
   "id": "1f340cd8-94e9-4cea-8873-087c2ba721b1",
   "metadata": {},
   "outputs": [],
   "source": [
    "df=data.copy()"
   ]
  },
  {
   "cell_type": "code",
   "execution_count": 12,
   "id": "907b7d0e-eceb-4c9a-a449-ef2f8410440f",
   "metadata": {},
   "outputs": [],
   "source": [
    "x=data.drop(['Churn'],axis=1)  #  independenty"
   ]
  },
  {
   "cell_type": "code",
   "execution_count": 13,
   "id": "77ce6f9e-5ae8-46a6-acd7-e3e8ece3734e",
   "metadata": {},
   "outputs": [
    {
     "data": {
      "text/html": [
       "<div>\n",
       "<style scoped>\n",
       "    .dataframe tbody tr th:only-of-type {\n",
       "        vertical-align: middle;\n",
       "    }\n",
       "\n",
       "    .dataframe tbody tr th {\n",
       "        vertical-align: top;\n",
       "    }\n",
       "\n",
       "    .dataframe thead th {\n",
       "        text-align: right;\n",
       "    }\n",
       "</style>\n",
       "<table border=\"1\" class=\"dataframe\">\n",
       "  <thead>\n",
       "    <tr style=\"text-align: right;\">\n",
       "      <th></th>\n",
       "      <th>interest_rate</th>\n",
       "      <th>credit</th>\n",
       "      <th>Gender</th>\n",
       "      <th>previous</th>\n",
       "      <th>duration</th>\n",
       "    </tr>\n",
       "    <tr>\n",
       "      <th>Index</th>\n",
       "      <th></th>\n",
       "      <th></th>\n",
       "      <th></th>\n",
       "      <th></th>\n",
       "      <th></th>\n",
       "    </tr>\n",
       "  </thead>\n",
       "  <tbody>\n",
       "    <tr>\n",
       "      <th>0</th>\n",
       "      <td>1.334</td>\n",
       "      <td>0</td>\n",
       "      <td>1</td>\n",
       "      <td>0</td>\n",
       "      <td>117</td>\n",
       "    </tr>\n",
       "    <tr>\n",
       "      <th>1</th>\n",
       "      <td>0.767</td>\n",
       "      <td>0</td>\n",
       "      <td>0</td>\n",
       "      <td>1</td>\n",
       "      <td>274</td>\n",
       "    </tr>\n",
       "    <tr>\n",
       "      <th>2</th>\n",
       "      <td>4.858</td>\n",
       "      <td>0</td>\n",
       "      <td>1</td>\n",
       "      <td>0</td>\n",
       "      <td>167</td>\n",
       "    </tr>\n",
       "    <tr>\n",
       "      <th>3</th>\n",
       "      <td>4.120</td>\n",
       "      <td>0</td>\n",
       "      <td>0</td>\n",
       "      <td>0</td>\n",
       "      <td>686</td>\n",
       "    </tr>\n",
       "    <tr>\n",
       "      <th>4</th>\n",
       "      <td>4.856</td>\n",
       "      <td>0</td>\n",
       "      <td>1</td>\n",
       "      <td>0</td>\n",
       "      <td>159</td>\n",
       "    </tr>\n",
       "  </tbody>\n",
       "</table>\n",
       "</div>"
      ],
      "text/plain": [
       "       interest_rate  credit  Gender  previous  duration\n",
       "Index                                                   \n",
       "0              1.334       0       1         0       117\n",
       "1              0.767       0       0         1       274\n",
       "2              4.858       0       1         0       167\n",
       "3              4.120       0       0         0       686\n",
       "4              4.856       0       1         0       159"
      ]
     },
     "execution_count": 13,
     "metadata": {},
     "output_type": "execute_result"
    }
   ],
   "source": [
    "x.head()"
   ]
  },
  {
   "cell_type": "code",
   "execution_count": 14,
   "id": "85865fff-3739-4769-8a10-c8b096fe21eb",
   "metadata": {},
   "outputs": [],
   "source": [
    "y=data['Churn']"
   ]
  },
  {
   "cell_type": "code",
   "execution_count": 15,
   "id": "699628d9-f0aa-4f7a-8c21-8fba000ff4de",
   "metadata": {},
   "outputs": [
    {
     "data": {
      "text/plain": [
       "Index\n",
       "0    0\n",
       "1    1\n",
       "2    0\n",
       "3    1\n",
       "4    0\n",
       "Name: Churn, dtype: int8"
      ]
     },
     "execution_count": 15,
     "metadata": {},
     "output_type": "execute_result"
    }
   ],
   "source": [
    "y.head()"
   ]
  },
  {
   "cell_type": "code",
   "execution_count": 16,
   "id": "ba82cc16-813c-4e14-97fe-191573210596",
   "metadata": {},
   "outputs": [],
   "source": [
    "from sklearn.model_selection import train_test_split"
   ]
  },
  {
   "cell_type": "code",
   "execution_count": 17,
   "id": "1dde851e-6fca-4e4a-90ec-6f8956a47ba3",
   "metadata": {},
   "outputs": [],
   "source": [
    "x_train,x_test,y_train,y_test=train_test_split(x,y,test_size=0.2,random_state=101)"
   ]
  },
  {
   "cell_type": "code",
   "execution_count": 18,
   "id": "d275cee3-abd7-4d16-bd30-f9a920c48577",
   "metadata": {},
   "outputs": [
    {
     "data": {
      "text/html": [
       "<style>#sk-container-id-1 {color: black;background-color: white;}#sk-container-id-1 pre{padding: 0;}#sk-container-id-1 div.sk-toggleable {background-color: white;}#sk-container-id-1 label.sk-toggleable__label {cursor: pointer;display: block;width: 100%;margin-bottom: 0;padding: 0.3em;box-sizing: border-box;text-align: center;}#sk-container-id-1 label.sk-toggleable__label-arrow:before {content: \"▸\";float: left;margin-right: 0.25em;color: #696969;}#sk-container-id-1 label.sk-toggleable__label-arrow:hover:before {color: black;}#sk-container-id-1 div.sk-estimator:hover label.sk-toggleable__label-arrow:before {color: black;}#sk-container-id-1 div.sk-toggleable__content {max-height: 0;max-width: 0;overflow: hidden;text-align: left;background-color: #f0f8ff;}#sk-container-id-1 div.sk-toggleable__content pre {margin: 0.2em;color: black;border-radius: 0.25em;background-color: #f0f8ff;}#sk-container-id-1 input.sk-toggleable__control:checked~div.sk-toggleable__content {max-height: 200px;max-width: 100%;overflow: auto;}#sk-container-id-1 input.sk-toggleable__control:checked~label.sk-toggleable__label-arrow:before {content: \"▾\";}#sk-container-id-1 div.sk-estimator input.sk-toggleable__control:checked~label.sk-toggleable__label {background-color: #d4ebff;}#sk-container-id-1 div.sk-label input.sk-toggleable__control:checked~label.sk-toggleable__label {background-color: #d4ebff;}#sk-container-id-1 input.sk-hidden--visually {border: 0;clip: rect(1px 1px 1px 1px);clip: rect(1px, 1px, 1px, 1px);height: 1px;margin: -1px;overflow: hidden;padding: 0;position: absolute;width: 1px;}#sk-container-id-1 div.sk-estimator {font-family: monospace;background-color: #f0f8ff;border: 1px dotted black;border-radius: 0.25em;box-sizing: border-box;margin-bottom: 0.5em;}#sk-container-id-1 div.sk-estimator:hover {background-color: #d4ebff;}#sk-container-id-1 div.sk-parallel-item::after {content: \"\";width: 100%;border-bottom: 1px solid gray;flex-grow: 1;}#sk-container-id-1 div.sk-label:hover label.sk-toggleable__label {background-color: #d4ebff;}#sk-container-id-1 div.sk-serial::before {content: \"\";position: absolute;border-left: 1px solid gray;box-sizing: border-box;top: 0;bottom: 0;left: 50%;z-index: 0;}#sk-container-id-1 div.sk-serial {display: flex;flex-direction: column;align-items: center;background-color: white;padding-right: 0.2em;padding-left: 0.2em;position: relative;}#sk-container-id-1 div.sk-item {position: relative;z-index: 1;}#sk-container-id-1 div.sk-parallel {display: flex;align-items: stretch;justify-content: center;background-color: white;position: relative;}#sk-container-id-1 div.sk-item::before, #sk-container-id-1 div.sk-parallel-item::before {content: \"\";position: absolute;border-left: 1px solid gray;box-sizing: border-box;top: 0;bottom: 0;left: 50%;z-index: -1;}#sk-container-id-1 div.sk-parallel-item {display: flex;flex-direction: column;z-index: 1;position: relative;background-color: white;}#sk-container-id-1 div.sk-parallel-item:first-child::after {align-self: flex-end;width: 50%;}#sk-container-id-1 div.sk-parallel-item:last-child::after {align-self: flex-start;width: 50%;}#sk-container-id-1 div.sk-parallel-item:only-child::after {width: 0;}#sk-container-id-1 div.sk-dashed-wrapped {border: 1px dashed gray;margin: 0 0.4em 0.5em 0.4em;box-sizing: border-box;padding-bottom: 0.4em;background-color: white;}#sk-container-id-1 div.sk-label label {font-family: monospace;font-weight: bold;display: inline-block;line-height: 1.2em;}#sk-container-id-1 div.sk-label-container {text-align: center;}#sk-container-id-1 div.sk-container {/* jupyter's `normalize.less` sets `[hidden] { display: none; }` but bootstrap.min.css set `[hidden] { display: none !important; }` so we also need the `!important` here to be able to override the default hidden behavior on the sphinx rendered scikit-learn.org. See: https://github.com/scikit-learn/scikit-learn/issues/21755 */display: inline-block !important;position: relative;}#sk-container-id-1 div.sk-text-repr-fallback {display: none;}</style><div id=\"sk-container-id-1\" class=\"sk-top-container\"><div class=\"sk-text-repr-fallback\"><pre>LogisticRegression()</pre><b>In a Jupyter environment, please rerun this cell to show the HTML representation or trust the notebook. <br />On GitHub, the HTML representation is unable to render, please try loading this page with nbviewer.org.</b></div><div class=\"sk-container\" hidden><div class=\"sk-item\"><div class=\"sk-estimator sk-toggleable\"><input class=\"sk-toggleable__control sk-hidden--visually\" id=\"sk-estimator-id-1\" type=\"checkbox\" checked><label for=\"sk-estimator-id-1\" class=\"sk-toggleable__label sk-toggleable__label-arrow\">LogisticRegression</label><div class=\"sk-toggleable__content\"><pre>LogisticRegression()</pre></div></div></div></div></div>"
      ],
      "text/plain": [
       "LogisticRegression()"
      ]
     },
     "execution_count": 18,
     "metadata": {},
     "output_type": "execute_result"
    }
   ],
   "source": [
    "#model buliding \n",
    "from sklearn.linear_model import LogisticRegression\n",
    "lr=LogisticRegression()\n",
    "lr.fit(x_train,y_train)"
   ]
  },
  {
   "cell_type": "code",
   "execution_count": 19,
   "id": "db1b7178-3426-4459-9c09-88624731e033",
   "metadata": {},
   "outputs": [],
   "source": [
    "y_pred=lr.predict(x_test)"
   ]
  },
  {
   "cell_type": "code",
   "execution_count": 20,
   "id": "7656cf3c-a556-4393-8c20-9b3f963eed28",
   "metadata": {},
   "outputs": [
    {
     "data": {
      "text/plain": [
       "0.8502415458937198"
      ]
     },
     "execution_count": 20,
     "metadata": {},
     "output_type": "execute_result"
    }
   ],
   "source": [
    "#training score\n",
    "lr.score(x_train,y_train)"
   ]
  },
  {
   "cell_type": "code",
   "execution_count": 21,
   "id": "484bb9f5-4811-4e8a-94b6-fa72dda479ec",
   "metadata": {},
   "outputs": [
    {
     "data": {
      "text/plain": [
       "0.8557692307692307"
      ]
     },
     "execution_count": 21,
     "metadata": {},
     "output_type": "execute_result"
    }
   ],
   "source": [
    "#testing score\n",
    "lr.score(x_test,y_test)"
   ]
  },
  {
   "cell_type": "code",
   "execution_count": 22,
   "id": "b1e9792a-a107-4f98-84de-c3c578c94841",
   "metadata": {},
   "outputs": [
    {
     "data": {
      "text/plain": [
       "array([0, 0, 1, 1, 1, 1, 1, 1, 1, 1, 0, 1, 0, 1, 0, 1, 0, 1, 1, 0, 0, 1,\n",
       "       0, 0, 1, 1, 1, 0, 0, 0, 1, 0, 1, 0, 1, 0, 0, 0, 0, 1, 0, 0, 0, 0,\n",
       "       0, 0, 0, 0, 0, 1, 1, 1, 1, 0, 1, 0, 0, 1, 0, 0, 0, 0, 0, 0, 1, 0,\n",
       "       1, 0, 0, 1, 1, 0, 0, 0, 1, 1, 0, 0, 1, 0, 0, 1, 0, 0, 0, 1, 1, 0,\n",
       "       1, 1, 1, 1, 1, 0, 0, 1, 1, 1, 1, 0, 0, 0, 0, 0], dtype=int8)"
      ]
     },
     "execution_count": 22,
     "metadata": {},
     "output_type": "execute_result"
    }
   ],
   "source": [
    "y_pred=lr.predict(x_test)\n",
    "y_pred"
   ]
  },
  {
   "cell_type": "code",
   "execution_count": 23,
   "id": "47970888-baa8-4bd4-aff9-381c31379ccb",
   "metadata": {},
   "outputs": [
    {
     "data": {
      "text/plain": [
       "0.8502415458937198"
      ]
     },
     "execution_count": 23,
     "metadata": {},
     "output_type": "execute_result"
    }
   ],
   "source": [
    "from sklearn.metrics import accuracy_score\n",
    "## training sccuracy\n",
    "accuracy_score(y_train,lr.predict(x_train))"
   ]
  },
  {
   "cell_type": "code",
   "execution_count": 24,
   "id": "0f707776-b2f1-48ce-bfc5-72fa4b7ebf4b",
   "metadata": {},
   "outputs": [
    {
     "data": {
      "text/plain": [
       "0.8557692307692307"
      ]
     },
     "execution_count": 24,
     "metadata": {},
     "output_type": "execute_result"
    }
   ],
   "source": [
    "accuracy_score(y_test,lr.predict(x_test))"
   ]
  },
  {
   "cell_type": "code",
   "execution_count": 25,
   "id": "2e8379ec-2e46-46e9-9c0d-7c8e1faf85c7",
   "metadata": {},
   "outputs": [],
   "source": [
    "from sklearn.metrics import confusion_matrix,classification_report,accuracy_score"
   ]
  },
  {
   "cell_type": "code",
   "execution_count": 26,
   "id": "db259e5e-ad6d-4b93-a85e-d7f3beac8d00",
   "metadata": {},
   "outputs": [
    {
     "data": {
      "text/plain": [
       "array([[51,  8],\n",
       "       [ 7, 38]], dtype=int64)"
      ]
     },
     "execution_count": 26,
     "metadata": {},
     "output_type": "execute_result"
    }
   ],
   "source": [
    "# confusion matrix\n",
    "confusion_matrix(y_test,y_pred)"
   ]
  },
  {
   "cell_type": "code",
   "execution_count": 27,
   "id": "22093680-499f-476c-94f3-1ab870280504",
   "metadata": {},
   "outputs": [],
   "source": [
    "# using PCA\n"
   ]
  },
  {
   "cell_type": "code",
   "execution_count": 28,
   "id": "26f5514f-88b2-4463-ba7e-f75459d05672",
   "metadata": {},
   "outputs": [],
   "source": [
    "from sklearn.decomposition import PCA\n",
    "pca=PCA()"
   ]
  },
  {
   "cell_type": "code",
   "execution_count": 29,
   "id": "e19d85b6-dafe-44a9-8d8a-c5b61786662f",
   "metadata": {},
   "outputs": [
    {
     "name": "stdout",
     "output_type": "stream",
     "text": [
      "(414, 5) (104, 5)\n"
     ]
    }
   ],
   "source": [
    "print(x_train.shape,x_test.shape)"
   ]
  },
  {
   "cell_type": "code",
   "execution_count": 30,
   "id": "2fd1d033-c5b1-4fb7-a11d-23fafb02c5f0",
   "metadata": {},
   "outputs": [],
   "source": [
    "x_train_pca=pca.fit_transform(x_train)\n",
    "x_test_pca=pca.fit_transform(x_test)"
   ]
  },
  {
   "cell_type": "code",
   "execution_count": 31,
   "id": "7e79b02e-331f-4cc0-9973-af59e24a6a97",
   "metadata": {},
   "outputs": [
    {
     "name": "stdout",
     "output_type": "stream",
     "text": [
      "(414, 5) (104, 5)\n"
     ]
    }
   ],
   "source": [
    "print(x_train.shape,x_test.shape)"
   ]
  },
  {
   "cell_type": "code",
   "execution_count": 32,
   "id": "f83ad196-5d99-47ab-9b33-856fcca63200",
   "metadata": {},
   "outputs": [
    {
     "name": "stdout",
     "output_type": "stream",
     "text": [
      "[[-1.85280606e+02  1.65150728e+00 -2.37912739e-01 -3.41373728e-02\n",
      "  -3.69854437e-03]\n",
      " [-2.48280571e+02  1.58550632e+00 -2.41009011e-01 -4.01668354e-02\n",
      "  -5.81947261e-03]\n",
      " [ 7.98722550e+02 -9.36300889e-01 -3.04014994e-01 -1.43650994e-01\n",
      "   1.71591203e-02]\n",
      " [ 3.08720038e+02  1.27123122e+00 -2.42032729e-01 -3.73944662e-02\n",
      "   9.88819064e-03]\n",
      " [-6.32763519e+01 -2.44573023e+00 -3.65560005e-01 -2.60280593e-01\n",
      "  -1.39164702e-02]\n",
      " [-1.39276288e+02 -2.54689276e+00 -3.69976599e-01 -2.68766803e-01\n",
      "  -1.65480899e-02]\n",
      " [ 2.47723313e+02 -1.96112060e+00 -3.45252351e-01 -2.21577840e-01\n",
      "  -2.90809201e-03]\n",
      " [ 3.97230512e+01 -1.81019570e+00 -3.43808351e-01 -2.20723793e-01\n",
      "  -8.65998595e-03]\n",
      " [ 7.27228934e+01 -1.77248890e+00  5.55758859e-01  8.55022779e-01\n",
      "  -2.34509392e-01]\n",
      " [ 1.94722972e+02 -1.65471858e+00 -3.36408990e-01 -2.06278138e-01\n",
      "  -3.46524481e-03]\n",
      " [-2.18280594e+02  1.62297036e+00 -2.39343702e-01 -3.69559641e-02\n",
      "  -4.78904493e-03]\n",
      " [-1.42763160e+01 -2.53196194e+00 -4.64311832e-01  7.01530198e-01\n",
      "  -2.62121341e-01]\n",
      " [-1.95280603e+02  1.64334357e+00 -2.38331060e-01 -3.49642571e-02\n",
      "  -4.02735862e-03]\n",
      " [ 2.08722890e+02 -1.62504092e+00  6.59408745e-01 -9.65460089e-02\n",
      "   1.94740314e-02]\n",
      " [-2.42280479e+02  1.49879587e+00 -2.43655708e-01 -4.48271688e-02\n",
      "  -5.93278526e-03]\n",
      " [ 5.50722589e+02 -1.10044102e+00 -3.13177240e-01 -1.62000774e-01\n",
      "   9.13445151e-03]\n",
      " [-2.71280564e+02  1.56712894e+00 -2.41958523e-01 -4.20462011e-02\n",
      "  -6.57439201e-03]\n",
      " [ 4.64719048e+02  2.31786521e+00 -2.06429027e-01  2.72493157e-02\n",
      "   1.81345320e-02]\n",
      " [-1.62763752e+01 -2.53251038e+00  5.30293668e-01  8.08973177e-01\n",
      "  -2.39766363e-01]\n",
      " [-1.85280520e+02  1.51028879e+00  7.52275221e-01  6.54610509e-02\n",
      "   1.82397157e-02]\n",
      " [-7.27986196e+00  9.56662643e-01  7.37613033e-01  4.08376817e-02\n",
      "   2.17228373e-02]\n",
      " [ 2.81719143e+02  2.13294345e+00 -2.15208017e-01  1.01176576e-02\n",
      "   1.19967802e-02]\n",
      " [-1.77280526e+02  1.52041226e+00  7.52723513e-01  6.63247726e-02\n",
      "   1.85149476e-02]\n",
      " [-1.32797373e+01  8.89208493e-01 -2.59271542e-01 -7.07269156e-02\n",
      "  -1.10361289e-03]\n",
      " [ 3.97722750e+02 -1.39211097e+00  6.69802345e-01 -7.64916489e-02\n",
      "   2.59552371e-02]\n",
      " [ 3.71719098e+02  2.22238353e+00 -2.10938088e-01  1.84583469e-02\n",
      "   1.50102438e-02]\n",
      " [-1.11276336e+02 -2.48551481e+00 -3.67586883e-01 -2.64283340e-01\n",
      "  -1.54968087e-02]\n",
      " [-6.92806717e+01  1.77434758e+00 -2.32170080e-01 -2.29615025e-02\n",
      "   2.11114416e-04]\n",
      " [ 7.22977664e-01 -1.81540323e+00  6.50057433e-01 -1.14902318e-01\n",
      "   1.25649957e-02]\n",
      " [-1.32280549e+02  1.56513230e+00  7.54858477e-01  7.04951173e-02\n",
      "   2.00216793e-02]\n",
      " [ 9.17229996e+01 -1.79080964e+00  6.52292201e-01 -1.10174968e-01\n",
      "   1.53887094e-02]\n",
      " [-9.42798298e+01  9.38641067e-01 -2.59004684e-01 -7.09201197e-02\n",
      "  -3.37520422e-03]\n",
      " [ 1.13722993e+02 -1.71605466e+00 -3.39645873e-01 -2.12706282e-01\n",
      "  -6.11239968e-03]\n",
      " [-2.01276910e+02 -2.02761145e+00  6.40111164e-01 -1.34267870e-01\n",
      "   5.76257202e-03]\n",
      " [ 8.72287247e+00 -1.65108836e+00 -3.39271888e-01 -2.12906802e-01\n",
      "  -9.05404759e-03]\n",
      " [-7.92798039e+01  9.20949162e-01 -2.59324160e-01 -7.13649121e-02\n",
      "  -2.98348649e-03]\n",
      " [-2.22769450e+01 -1.90263679e+00  6.46929920e-01 -1.20657458e-01\n",
      "   1.15766179e-02]\n",
      " [-1.33280548e+02  1.56411634e+00  7.54810332e-01  7.04011947e-02\n",
      "   1.99881212e-02]\n",
      " [-1.77280620e+02  1.66961408e+00 -2.37211926e-01 -3.28242860e-02\n",
      "  -3.39624488e-03]\n",
      " [-2.02276271e+02 -2.59493124e+00 -3.72504697e-01 -2.73785194e-01\n",
      "  -1.86081160e-02]\n",
      " [-1.92280605e+02  1.64738935e+00 -2.38155059e-01 -3.46263188e-02\n",
      "  -3.92330082e-03]\n",
      " [-2.28280590e+02  1.61380873e+00 -2.39793587e-01 -3.78390191e-02\n",
      "  -5.12124264e-03]\n",
      " [-2.09279770e+02  8.21806298e-01 -2.64541371e-01 -8.17212142e-02\n",
      "  -7.23438760e-03]\n",
      " [-3.28280447e+02  1.36600521e+00  7.45422036e-01  5.20862953e-02\n",
      "   1.34442885e-02]\n",
      " [ 3.38719206e+02  2.04264896e+00  7.77503258e-01  1.14676473e-01\n",
      "   3.58241687e-02]\n",
      " [-3.33280528e+02  1.50014810e+00 -2.45069780e-01 -4.80940824e-02\n",
      "  -8.66852905e-03]\n",
      " [-5.12805981e+01  1.63566505e+00 -3.33077276e-01  9.34758106e-01\n",
      "  -2.49105110e-01]\n",
      " [-3.28071123e+00  1.84639016e+00 -2.28834677e-01 -1.64817604e-02\n",
      "   2.44286738e-03]\n",
      " [-1.56280523e+02  1.58517004e+00 -2.39546794e-01 -3.68059992e-02\n",
      "  -3.05017070e-03]\n",
      " [ 6.39722644e+02 -1.16620829e+00  6.80822157e-01 -5.48858018e-02\n",
      "   3.40086321e-02]\n",
      " [-1.66276310e+02 -2.61453709e+00 -4.69357191e-01  6.91298254e-01\n",
      "  -2.66978565e-01]\n",
      " [ 1.57229311e+01 -1.70484955e+00 -3.40860352e-01 -2.15675753e-01\n",
      "  -9.02553155e-03]\n",
      " [-2.76702286e-01 -2.07137328e+00 -3.52710074e-01 -2.36894405e-01\n",
      "  -1.07500542e-02]\n",
      " [-1.82769430e+01 -1.90256464e+00  6.46996239e-01 -1.20506450e-01\n",
      "   1.16973166e-02]\n",
      " [ 1.37723191e+02 -1.97338094e+00 -4.44209853e-01  7.38555533e-01\n",
      "  -2.55650207e-01]\n",
      " [-1.93280608e+02  1.64936714e+00 -2.38108509e-01 -3.45517295e-02\n",
      "  -3.94670857e-03]\n",
      " [ 5.97193641e+01  1.80461622e+00 -2.29147451e-01 -1.65187260e-02\n",
      "   4.19838245e-03]\n",
      " [ 2.95719249e+02  2.03639816e+00 -2.18037727e-01  5.19763336e-03\n",
      "   1.20910303e-02]\n",
      " [-1.69280530e+02  1.52754198e+00  7.53077108e-01  6.70199825e-02\n",
      "   1.87800290e-02]\n",
      " [-2.18276816e+02 -2.12770969e+00  6.36672782e-01 -1.40526716e-01\n",
      "   4.91125725e-03]\n",
      " [-1.93279699e+02  7.61222051e-01 -2.66201573e-01 -8.45435919e-02\n",
      "  -6.95798380e-03]\n",
      " [-8.52805745e+01  1.61388007e+00  7.57152863e-01  7.49656483e-02\n",
      "   2.16022943e-02]\n",
      " [-1.60280622e+02  1.67989989e+00 -2.36614416e-01 -3.16207969e-02\n",
      "  -2.84944109e-03]\n",
      " [-2.15276972e+02 -1.91658298e+00 -3.51255872e-01 -2.36079940e-01\n",
      "  -1.66996370e-02]\n",
      " [-1.69276453e+02 -2.40074029e+00 -3.65833905e-01 -2.61642278e-01\n",
      "  -1.69559618e-02]\n",
      " [-1.96280502e+02  1.54453186e+00 -2.41472599e-01 -4.05629016e-02\n",
      "  -4.39249536e-03]\n",
      " [-1.31276297e+02 -2.66140360e+00 -5.18136480e-01  9.36194653e-01\n",
      "   7.02066579e-01]\n",
      " [-7.62797606e+01  8.80088729e-01 -2.60568595e-01 -7.35546522e-02\n",
      "  -3.03168418e-03]\n",
      " [-5.62798496e+01  9.77247338e-01 -2.57175170e-01 -6.73510623e-02\n",
      "  -2.09999579e-03]\n",
      " [-6.42768924e+01 -1.91785080e+00 -3.48878573e-01 -2.30604081e-01\n",
      "  -1.21567970e-02]\n",
      " [-1.64276277e+02 -2.69792384e+00 -5.19819964e-01  9.32926697e-01\n",
      "   7.00949010e-01]\n",
      " [-2.93280468e+02  1.40455737e+00  7.47201811e-01  5.55420968e-02\n",
      "   1.46289730e-02]\n",
      " [-4.52806873e+01  1.80172424e+00 -2.30919902e-01 -2.05388492e-02\n",
      "   1.02665958e-03]\n",
      " [-2.88280475e+02  1.41362880e+00  7.47568797e-01  5.62363922e-02\n",
      "   1.48102974e-02]\n",
      " [ 6.77230080e+01 -1.81120089e+00  6.51262980e-01 -1.12204427e-01\n",
      "   1.45968484e-02]\n",
      " [-1.63276841e+02 -2.01843029e+00 -3.53644938e-01 -2.39902414e-01\n",
      "  -1.54790505e-02]\n",
      " [-2.46280577e+02  1.59252780e+00 -2.40754895e-01 -3.96981371e-02\n",
      "  -5.73543910e-03]\n",
      " [-2.02280602e+02  1.63922563e+00 -2.38573380e-01 -3.54532032e-02\n",
      "  -4.25211507e-03]\n",
      " [ 1.25723350e+02 -2.13426186e+00 -4.49490815e-01  7.29059038e-01\n",
      "  -2.56557040e-01]\n",
      " [-2.08280596e+02  1.63013616e+00 -2.38956946e-01 -3.61852504e-02\n",
      "  -4.46361413e-03]\n",
      " [-1.42276856e+02 -2.05049715e+00  6.40331811e-01 -1.33388601e-01\n",
      "   7.46167410e-03]\n",
      " [ 7.85718885e+02  2.63999495e+00 -1.91100709e-01  5.71737752e-02\n",
      "   2.88931536e-02]\n",
      " [-2.43280489e+02  1.45036551e+00  7.49451240e-01  5.99573717e-02\n",
      "   1.62899615e-02]\n",
      " [-4.32769779e+01 -1.88106146e+00  6.47276178e-01 -1.20214494e-01\n",
      "   1.10173860e-02]\n",
      " [-1.97279697e+02  7.57158233e-01 -2.66394154e-01 -8.49192821e-02\n",
      "  -7.09221627e-03]\n",
      " [-8.82764899e+01 -2.32343755e+00 -3.62091977e-01 -2.54315404e-01\n",
      "  -1.42546717e-02]\n",
      " [ 3.00719134e+02  2.15124867e+00 -2.14324825e-01  1.18460157e-02\n",
      "   1.26310009e-02]\n",
      " [-2.71280566e+02  1.56912477e+00 -2.41895392e-01 -4.19338599e-02\n",
      "  -6.56762510e-03]\n",
      " [ 3.83722799e+02 -1.44724888e+00  6.67834139e-01 -8.01095607e-02\n",
      "   2.53467018e-02]\n",
      " [ 5.28719019e+02  2.37889464e+00 -2.03474002e-01  3.30356771e-02\n",
      "   2.02687177e-02]\n",
      " [ 9.66718784e+02  2.82987021e+00 -1.82197053e-01  7.45107826e-02\n",
      "   3.49874734e-02]\n",
      " [-5.42765087e+01 -2.28789718e+00 -3.60423478e-01 -2.51065866e-01\n",
      "  -1.31103123e-02]\n",
      " [ 6.17228938e+01 -1.64514273e+00 -3.38235329e-01 -2.10625097e-01\n",
      "  -7.43787327e-03]\n",
      " [ 4.37192693e+01  1.88915044e+00 -2.26729683e-01 -1.23482531e-02\n",
      "   4.00318157e-03]\n",
      " [-2.19280503e+02  1.47574634e+00  7.50638288e-01  6.22676838e-02\n",
      "   1.70987398e-02]\n",
      " [-2.03276605e+02 -2.26863080e+00 -3.62199443e-01 -2.55455150e-01\n",
      "  -1.75319008e-02]\n",
      " [ 9.95722550e+02 -8.94340910e-01  6.95120944e-01 -2.65047269e-02\n",
      "   4.56508106e-02]\n",
      " [ 2.07230550e+01 -1.82351134e+00 -3.44533717e-01 -2.22171298e-01\n",
      "  -9.27728943e-03]\n",
      " [ 4.95722667e+02 -1.20421847e+00 -3.17340352e-01 -1.69862705e-01\n",
      "   7.12634925e-03]\n",
      " [-1.53280620e+02  1.68102408e+00 -2.36466791e-01 -3.13003627e-02\n",
      "  -2.63483501e-03]\n",
      " [ 1.53719216e+02  1.99691378e+00 -2.21559982e-01 -2.24145396e-03\n",
      "   7.68104056e-03]\n",
      " [-2.62276849e+02 -2.11752632e+00  6.36290486e-01 -1.41569924e-01\n",
      "   3.62079017e-03]\n",
      " [-9.32806510e+01  1.74198135e+00 -2.33578085e-01 -2.56650091e-02\n",
      "  -6.21348021e-04]\n",
      " [-1.72276878e+02 -2.04405290e+00  6.40055371e-01 -1.34127965e-01\n",
      "   6.58011846e-03]]\n"
     ]
    }
   ],
   "source": [
    "print(x_test_pca)"
   ]
  },
  {
   "cell_type": "code",
   "execution_count": 33,
   "id": "a72de738-ee1e-4133-80e3-2aa3bbf3eec8",
   "metadata": {},
   "outputs": [],
   "source": [
    "explained_var=pca.explained_variance_ratio_"
   ]
  },
  {
   "cell_type": "code",
   "execution_count": 34,
   "id": "22213b7a-bc34-4af7-af0e-96ff7551e115",
   "metadata": {},
   "outputs": [
    {
     "name": "stdout",
     "output_type": "stream",
     "text": [
      "[9.99952575e-01 4.35619289e-05 2.71594389e-06 9.63707309e-07\n",
      " 1.83348391e-07]\n"
     ]
    }
   ],
   "source": [
    "print(explained_var)"
   ]
  },
  {
   "cell_type": "code",
   "execution_count": 35,
   "id": "caadd271-4c37-4cf8-a6bf-18b3f4ce8600",
   "metadata": {},
   "outputs": [],
   "source": [
    "### pc1=0.9995\n",
    "###PC2=0.000356\n",
    "### PC3=0.000000715"
   ]
  },
  {
   "cell_type": "code",
   "execution_count": 36,
   "id": "fc05eb40-2b70-4347-97b0-246b9dc0dc1c",
   "metadata": {},
   "outputs": [],
   "source": [
    "pca_new=PCA(n_components=1)\n",
    "x_train_pca=pca.fit_transform(x_train)\n",
    "x_test_pca=pca.transform(x_test)"
   ]
  },
  {
   "cell_type": "code",
   "execution_count": 37,
   "id": "535c7e89-b83b-45d6-b4e4-1c8e4c71c62d",
   "metadata": {},
   "outputs": [
    {
     "name": "stdout",
     "output_type": "stream",
     "text": [
      "(414, 5) (104, 5)\n"
     ]
    }
   ],
   "source": [
    "print(x_train_pca.shape,x_test_pca.shape)"
   ]
  },
  {
   "cell_type": "code",
   "execution_count": 38,
   "id": "40e9d6b9-b29d-40e2-a6e7-1e292de59fd9",
   "metadata": {},
   "outputs": [
    {
     "data": {
      "text/html": [
       "<style>#sk-container-id-2 {color: black;background-color: white;}#sk-container-id-2 pre{padding: 0;}#sk-container-id-2 div.sk-toggleable {background-color: white;}#sk-container-id-2 label.sk-toggleable__label {cursor: pointer;display: block;width: 100%;margin-bottom: 0;padding: 0.3em;box-sizing: border-box;text-align: center;}#sk-container-id-2 label.sk-toggleable__label-arrow:before {content: \"▸\";float: left;margin-right: 0.25em;color: #696969;}#sk-container-id-2 label.sk-toggleable__label-arrow:hover:before {color: black;}#sk-container-id-2 div.sk-estimator:hover label.sk-toggleable__label-arrow:before {color: black;}#sk-container-id-2 div.sk-toggleable__content {max-height: 0;max-width: 0;overflow: hidden;text-align: left;background-color: #f0f8ff;}#sk-container-id-2 div.sk-toggleable__content pre {margin: 0.2em;color: black;border-radius: 0.25em;background-color: #f0f8ff;}#sk-container-id-2 input.sk-toggleable__control:checked~div.sk-toggleable__content {max-height: 200px;max-width: 100%;overflow: auto;}#sk-container-id-2 input.sk-toggleable__control:checked~label.sk-toggleable__label-arrow:before {content: \"▾\";}#sk-container-id-2 div.sk-estimator input.sk-toggleable__control:checked~label.sk-toggleable__label {background-color: #d4ebff;}#sk-container-id-2 div.sk-label input.sk-toggleable__control:checked~label.sk-toggleable__label {background-color: #d4ebff;}#sk-container-id-2 input.sk-hidden--visually {border: 0;clip: rect(1px 1px 1px 1px);clip: rect(1px, 1px, 1px, 1px);height: 1px;margin: -1px;overflow: hidden;padding: 0;position: absolute;width: 1px;}#sk-container-id-2 div.sk-estimator {font-family: monospace;background-color: #f0f8ff;border: 1px dotted black;border-radius: 0.25em;box-sizing: border-box;margin-bottom: 0.5em;}#sk-container-id-2 div.sk-estimator:hover {background-color: #d4ebff;}#sk-container-id-2 div.sk-parallel-item::after {content: \"\";width: 100%;border-bottom: 1px solid gray;flex-grow: 1;}#sk-container-id-2 div.sk-label:hover label.sk-toggleable__label {background-color: #d4ebff;}#sk-container-id-2 div.sk-serial::before {content: \"\";position: absolute;border-left: 1px solid gray;box-sizing: border-box;top: 0;bottom: 0;left: 50%;z-index: 0;}#sk-container-id-2 div.sk-serial {display: flex;flex-direction: column;align-items: center;background-color: white;padding-right: 0.2em;padding-left: 0.2em;position: relative;}#sk-container-id-2 div.sk-item {position: relative;z-index: 1;}#sk-container-id-2 div.sk-parallel {display: flex;align-items: stretch;justify-content: center;background-color: white;position: relative;}#sk-container-id-2 div.sk-item::before, #sk-container-id-2 div.sk-parallel-item::before {content: \"\";position: absolute;border-left: 1px solid gray;box-sizing: border-box;top: 0;bottom: 0;left: 50%;z-index: -1;}#sk-container-id-2 div.sk-parallel-item {display: flex;flex-direction: column;z-index: 1;position: relative;background-color: white;}#sk-container-id-2 div.sk-parallel-item:first-child::after {align-self: flex-end;width: 50%;}#sk-container-id-2 div.sk-parallel-item:last-child::after {align-self: flex-start;width: 50%;}#sk-container-id-2 div.sk-parallel-item:only-child::after {width: 0;}#sk-container-id-2 div.sk-dashed-wrapped {border: 1px dashed gray;margin: 0 0.4em 0.5em 0.4em;box-sizing: border-box;padding-bottom: 0.4em;background-color: white;}#sk-container-id-2 div.sk-label label {font-family: monospace;font-weight: bold;display: inline-block;line-height: 1.2em;}#sk-container-id-2 div.sk-label-container {text-align: center;}#sk-container-id-2 div.sk-container {/* jupyter's `normalize.less` sets `[hidden] { display: none; }` but bootstrap.min.css set `[hidden] { display: none !important; }` so we also need the `!important` here to be able to override the default hidden behavior on the sphinx rendered scikit-learn.org. See: https://github.com/scikit-learn/scikit-learn/issues/21755 */display: inline-block !important;position: relative;}#sk-container-id-2 div.sk-text-repr-fallback {display: none;}</style><div id=\"sk-container-id-2\" class=\"sk-top-container\"><div class=\"sk-text-repr-fallback\"><pre>LogisticRegression()</pre><b>In a Jupyter environment, please rerun this cell to show the HTML representation or trust the notebook. <br />On GitHub, the HTML representation is unable to render, please try loading this page with nbviewer.org.</b></div><div class=\"sk-container\" hidden><div class=\"sk-item\"><div class=\"sk-estimator sk-toggleable\"><input class=\"sk-toggleable__control sk-hidden--visually\" id=\"sk-estimator-id-2\" type=\"checkbox\" checked><label for=\"sk-estimator-id-2\" class=\"sk-toggleable__label sk-toggleable__label-arrow\">LogisticRegression</label><div class=\"sk-toggleable__content\"><pre>LogisticRegression()</pre></div></div></div></div></div>"
      ],
      "text/plain": [
       "LogisticRegression()"
      ]
     },
     "execution_count": 38,
     "metadata": {},
     "output_type": "execute_result"
    }
   ],
   "source": [
    "lr=LogisticRegression()\n",
    "lr.fit(x_train_pca,y_train)"
   ]
  },
  {
   "cell_type": "code",
   "execution_count": 39,
   "id": "7acaea70-297b-4b56-bcdc-5cc98542b228",
   "metadata": {},
   "outputs": [
    {
     "name": "stdout",
     "output_type": "stream",
     "text": [
      "Training accuracy 0.8502415458937198\n"
     ]
    }
   ],
   "source": [
    "#training score\n",
    "y_pred_train=lr.predict(x_train_pca)\n",
    "print('Training accuracy',accuracy_score(y_train,y_pred_train))\n"
   ]
  },
  {
   "cell_type": "code",
   "execution_count": 40,
   "id": "e760863e-2a81-488f-a0a9-8adc7efe8976",
   "metadata": {},
   "outputs": [
    {
     "name": "stdout",
     "output_type": "stream",
     "text": [
      "Training accuracy 0.8557692307692307\n"
     ]
    }
   ],
   "source": [
    "#testing score\n",
    "y_pred_test=lr.predict(x_test_pca)\n",
    "print('Training accuracy',accuracy_score(y_test,y_pred_test))\n"
   ]
  },
  {
   "cell_type": "code",
   "execution_count": 41,
   "id": "d3c2ef3e-a71a-4186-9105-759a15db071c",
   "metadata": {},
   "outputs": [
    {
     "data": {
      "text/plain": [
       "array([[51,  8],\n",
       "       [ 7, 38]], dtype=int64)"
      ]
     },
     "execution_count": 41,
     "metadata": {},
     "output_type": "execute_result"
    }
   ],
   "source": [
    "# confusion matrix\n",
    "confusion_matrix(y_test,y_pred_test)"
   ]
  },
  {
   "cell_type": "code",
   "execution_count": null,
   "id": "0d927dd2-ce6d-475b-8513-d7a14f9c5699",
   "metadata": {},
   "outputs": [],
   "source": []
  },
  {
   "cell_type": "code",
   "execution_count": null,
   "id": "beeff4be-6332-4620-a01f-71924c004ef0",
   "metadata": {},
   "outputs": [],
   "source": []
  }
 ],
 "metadata": {
  "kernelspec": {
   "display_name": "Python 3 (ipykernel)",
   "language": "python",
   "name": "python3"
  },
  "language_info": {
   "codemirror_mode": {
    "name": "ipython",
    "version": 3
   },
   "file_extension": ".py",
   "mimetype": "text/x-python",
   "name": "python",
   "nbconvert_exporter": "python",
   "pygments_lexer": "ipython3",
   "version": "3.11.7"
  }
 },
 "nbformat": 4,
 "nbformat_minor": 5
}
